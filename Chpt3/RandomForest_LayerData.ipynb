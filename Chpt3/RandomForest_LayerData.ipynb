{
 "cells": [
  {
   "cell_type": "markdown",
   "metadata": {},
   "source": [
    "# Random Forest Classifier "
   ]
  },
  {
   "cell_type": "code",
   "execution_count": 1,
   "metadata": {},
   "outputs": [],
   "source": [
    "from sklearn.model_selection import cross_val_score, train_test_split\n",
    "from sklearn.datasets import make_blobs\n",
    "from sklearn.ensemble import RandomForestClassifier, RandomForestRegressor\n",
    "# from sklearn.ensemble import ExtraTreesClassifier # for future work\n",
    "# from sklearn.tree import DecisionTreeClassifier # for future work\n",
    "# https://scikit-learn.org/stable/modules/generated/sklearn.metrics.confusion_matrix.html\n",
    "from sklearn.metrics import (accuracy_score, confusion_matrix, precision_recall_curve, f1_score, precision_score, recall_score, \n",
    "                            classification_report, multilabel_confusion_matrix, mean_squared_error, mean_absolute_error)\n",
    "from sklearn.model_selection import GroupKFold\n",
    "import matplotlib.pyplot as plt\n",
    "import numpy as np\n",
    "import glob, json"
   ]
  },
  {
   "cell_type": "code",
   "execution_count": 2,
   "metadata": {},
   "outputs": [
    {
     "name": "stdout",
     "output_type": "stream",
     "text": [
      "743\n",
      "743\n"
     ]
    }
   ],
   "source": [
    "# Load file names and labels for the processed data\n",
    "data_folder_prefix = \"../Seg_Featured_Data/Seg_Featured_\"\n",
    "\n",
    "with open(\"../data_labels.json\", 'r') as json_file:\n",
    "    label_dict = json.load(json_file)\n",
    "\n",
    "\n",
    "file_names = list(label_dict.keys())\n",
    "print(len(file_names))\n",
    "\n",
    "labels = []\n",
    "for fl in file_names:\n",
    "    labels.append(label_dict[fl])\n",
    "print(len(labels))"
   ]
  },
  {
   "cell_type": "code",
   "execution_count": 4,
   "metadata": {},
   "outputs": [
    {
     "name": "stdout",
     "output_type": "stream",
     "text": [
      "[0 1 2 3 4] [ 35  15  30 142 521] [0.04710633 0.02018843 0.04037685 0.19111709 0.70121131]\n"
     ]
    },
    {
     "data": {
      "text/plain": [
       "0.7012113055181696"
      ]
     },
     "execution_count": 4,
     "metadata": {},
     "output_type": "execute_result"
    }
   ],
   "source": [
    "files = [data_folder_prefix+x+\".npy\" for x in file_names]\n",
    "\n",
    "ct, values = np.unique(labels, return_counts=True)\n",
    "print(ct, values, values/values.sum())\n",
    "\n",
    "pred = [4]* len(files)\n",
    "accuracy_score(labels, pred)"
   ]
  },
  {
   "cell_type": "code",
   "execution_count": 4,
   "metadata": {},
   "outputs": [
    {
     "name": "stdout",
     "output_type": "stream",
     "text": [
      "(562500,)\n",
      "(744, 562500) (562500,) num padded: 106\n"
     ]
    }
   ],
   "source": [
    "# # files = glob.glob(\"Seg_Featured_Data/*.npy\")\n",
    "# max_len = 250*250*9\n",
    "# skip = 0\n",
    "# flattened_test_load = np.zeros((max_len, ))\n",
    "# print(flattened_test_load.shape)\n",
    "# for fl in files:\n",
    "#     test_load = np.load(fl, None, allow_pickle=True)\n",
    "#     # Ignore depth 0\n",
    "#     # Keep all Depth 1\n",
    "#     # \n",
    "#     t = test_load.flatten()\n",
    "#     t[t == np.inf] = 0.0\n",
    "#     t[t == -np.inf] = 0.0\n",
    "#     # print((t.shape[0]))\n",
    "#     if t.shape[0] < max_len:\n",
    "#         t= np.append(t,  [0]*(max_len-t.shape[0]), axis=0)\n",
    "#         skip += 1\n",
    "\n",
    "#     # flattened_test_load.append(np.float32(t))\n",
    "#     flattened_test_load = np.vstack((flattened_test_load, t))\n",
    "\n",
    "# print(flattened_test_load.shape,flattened_test_load[0].shape, \"num padded:\", skip)\n",
    "\n",
    "# flattened_data = flattened_test_load[1:,:]\n",
    "# flattened_data.shape, len(labels)\n"
   ]
  },
  {
   "cell_type": "code",
   "execution_count": 24,
   "metadata": {},
   "outputs": [
    {
     "name": "stdout",
     "output_type": "stream",
     "text": [
      "(62507,)\n",
      "(744, 62507) (62507,) num padded: 106\n"
     ]
    },
    {
     "data": {
      "text/plain": [
       "((743, 62507), 743)"
      ]
     },
     "execution_count": 24,
     "metadata": {},
     "output_type": "execute_result"
    }
   ],
   "source": [
    "# Revised \n",
    "\n",
    "# files = glob.glob(\"Seg_Featured_Data/*.npy\")\n",
    "max_len = 250*250+7\n",
    "num_padded = 0\n",
    "flattened_test_load = np.zeros((max_len, ))\n",
    "print(flattened_test_load.shape)\n",
    "\n",
    "for fl in files:\n",
    "    test_load = np.load(fl, None, allow_pickle=True)\n",
    "    y,x,_ = test_load.shape\n",
    "\n",
    "    # Ignore depth 0\n",
    "    # Keep all Depth 1\n",
    "    #  if the x,y is less than 250x50 pad w 0s\n",
    "    layers_depth = test_load[:,:,1]\n",
    "    # print(layers_depth.shape)\n",
    "    if x < 250:\n",
    "        layers_depth = np.hstack((layers_depth, np.zeros((y, y-x))))\n",
    "        num_padded +=1\n",
    "    if y < 250:\n",
    "        layers_depth = np.hstack((layers_depth, np.zeros((250-y, 250))))\n",
    "    layers_depth = layers_depth.flatten()\n",
    "    # print(layers_depth.shape)\n",
    "\n",
    "\n",
    "    # Get the metrics from the other depths\n",
    "    vl, ct = np.unique(test_load[:,:,5], return_counts=True)\n",
    "    if len(ct)>1:\n",
    "        num_bp = ct[1]\n",
    "    else:\n",
    "        num_bp = 0\n",
    "\n",
    "    # print(\"conected components (mean, std)\", np.mean(test_load[:y//10-1,:x//10-1,2]), np.std(test_load[:y//10-1,:x//10-1,2]))\n",
    "    # print(\"orientaiton (mean, std)\", np.mean(test_load[:y//10-1,:x//10-1,3]), np.std(test_load[:y//10-1,:x//10-1,3]))\n",
    "    # print(\"mean orientaiton (mean, std)\", np.mean(test_load[:250//10-1,:250//10-1,4]), np.std(test_load[:250//10-1,:250//10-1,4]))\n",
    "    # print(\"num breakpoints\",num_bp)\n",
    "    # print(\"dist map (mean, std)\", np.mean(test_load[:,:,6]), np.std(test_load[:,:,6]))\n",
    "\n",
    "    data= np.append(layers_depth, [np.mean(test_load[:y//10-1,:x//10-1,2]), np.std(test_load[:y//10-1,:x//10-1,2]),\n",
    "                                    np.mean(test_load[:y//10-1,:x//10-1,3]), np.std(test_load[:y//10-1,:x//10-1,3]),\n",
    "                                    num_bp,\n",
    "                                    np.mean(test_load[:,:,6]), np.std(test_load[:,:,6])])\n",
    "\n",
    "    # print(data.shape)\n",
    "    flattened_test_load = np.vstack((flattened_test_load, data))\n",
    "\n",
    "print(flattened_test_load.shape,flattened_test_load[0].shape, \"num padded:\", num_padded)\n",
    "\n",
    "flattened_data = flattened_test_load[1:,:]\n",
    "flattened_data.shape, len(labels)\n"
   ]
  },
  {
   "cell_type": "code",
   "execution_count": 25,
   "metadata": {},
   "outputs": [
    {
     "name": "stdout",
     "output_type": "stream",
     "text": [
      "594 149 594 149\n"
     ]
    }
   ],
   "source": [
    "# Get testa dn training sets\n",
    "# 80/20 split\n",
    "X_train, X_test, y_train, y_test = train_test_split(flattened_data, labels, test_size=0.2, random_state=42)\n",
    "print(len(X_train), len(X_test), len(y_train), len(y_test))"
   ]
  },
  {
   "cell_type": "code",
   "execution_count": 26,
   "metadata": {},
   "outputs": [
    {
     "data": {
      "text/html": [
       "<style>#sk-container-id-1 {color: black;background-color: white;}#sk-container-id-1 pre{padding: 0;}#sk-container-id-1 div.sk-toggleable {background-color: white;}#sk-container-id-1 label.sk-toggleable__label {cursor: pointer;display: block;width: 100%;margin-bottom: 0;padding: 0.3em;box-sizing: border-box;text-align: center;}#sk-container-id-1 label.sk-toggleable__label-arrow:before {content: \"▸\";float: left;margin-right: 0.25em;color: #696969;}#sk-container-id-1 label.sk-toggleable__label-arrow:hover:before {color: black;}#sk-container-id-1 div.sk-estimator:hover label.sk-toggleable__label-arrow:before {color: black;}#sk-container-id-1 div.sk-toggleable__content {max-height: 0;max-width: 0;overflow: hidden;text-align: left;background-color: #f0f8ff;}#sk-container-id-1 div.sk-toggleable__content pre {margin: 0.2em;color: black;border-radius: 0.25em;background-color: #f0f8ff;}#sk-container-id-1 input.sk-toggleable__control:checked~div.sk-toggleable__content {max-height: 200px;max-width: 100%;overflow: auto;}#sk-container-id-1 input.sk-toggleable__control:checked~label.sk-toggleable__label-arrow:before {content: \"▾\";}#sk-container-id-1 div.sk-estimator input.sk-toggleable__control:checked~label.sk-toggleable__label {background-color: #d4ebff;}#sk-container-id-1 div.sk-label input.sk-toggleable__control:checked~label.sk-toggleable__label {background-color: #d4ebff;}#sk-container-id-1 input.sk-hidden--visually {border: 0;clip: rect(1px 1px 1px 1px);clip: rect(1px, 1px, 1px, 1px);height: 1px;margin: -1px;overflow: hidden;padding: 0;position: absolute;width: 1px;}#sk-container-id-1 div.sk-estimator {font-family: monospace;background-color: #f0f8ff;border: 1px dotted black;border-radius: 0.25em;box-sizing: border-box;margin-bottom: 0.5em;}#sk-container-id-1 div.sk-estimator:hover {background-color: #d4ebff;}#sk-container-id-1 div.sk-parallel-item::after {content: \"\";width: 100%;border-bottom: 1px solid gray;flex-grow: 1;}#sk-container-id-1 div.sk-label:hover label.sk-toggleable__label {background-color: #d4ebff;}#sk-container-id-1 div.sk-serial::before {content: \"\";position: absolute;border-left: 1px solid gray;box-sizing: border-box;top: 0;bottom: 0;left: 50%;z-index: 0;}#sk-container-id-1 div.sk-serial {display: flex;flex-direction: column;align-items: center;background-color: white;padding-right: 0.2em;padding-left: 0.2em;position: relative;}#sk-container-id-1 div.sk-item {position: relative;z-index: 1;}#sk-container-id-1 div.sk-parallel {display: flex;align-items: stretch;justify-content: center;background-color: white;position: relative;}#sk-container-id-1 div.sk-item::before, #sk-container-id-1 div.sk-parallel-item::before {content: \"\";position: absolute;border-left: 1px solid gray;box-sizing: border-box;top: 0;bottom: 0;left: 50%;z-index: -1;}#sk-container-id-1 div.sk-parallel-item {display: flex;flex-direction: column;z-index: 1;position: relative;background-color: white;}#sk-container-id-1 div.sk-parallel-item:first-child::after {align-self: flex-end;width: 50%;}#sk-container-id-1 div.sk-parallel-item:last-child::after {align-self: flex-start;width: 50%;}#sk-container-id-1 div.sk-parallel-item:only-child::after {width: 0;}#sk-container-id-1 div.sk-dashed-wrapped {border: 1px dashed gray;margin: 0 0.4em 0.5em 0.4em;box-sizing: border-box;padding-bottom: 0.4em;background-color: white;}#sk-container-id-1 div.sk-label label {font-family: monospace;font-weight: bold;display: inline-block;line-height: 1.2em;}#sk-container-id-1 div.sk-label-container {text-align: center;}#sk-container-id-1 div.sk-container {/* jupyter's `normalize.less` sets `[hidden] { display: none; }` but bootstrap.min.css set `[hidden] { display: none !important; }` so we also need the `!important` here to be able to override the default hidden behavior on the sphinx rendered scikit-learn.org. See: https://github.com/scikit-learn/scikit-learn/issues/21755 */display: inline-block !important;position: relative;}#sk-container-id-1 div.sk-text-repr-fallback {display: none;}</style><div id=\"sk-container-id-1\" class=\"sk-top-container\"><div class=\"sk-text-repr-fallback\"><pre>RandomForestClassifier(class_weight=&#x27;balanced&#x27;, min_samples_split=10,\n",
       "                       n_estimators=500, random_state=0)</pre><b>In a Jupyter environment, please rerun this cell to show the HTML representation or trust the notebook. <br />On GitHub, the HTML representation is unable to render, please try loading this page with nbviewer.org.</b></div><div class=\"sk-container\" hidden><div class=\"sk-item\"><div class=\"sk-estimator sk-toggleable\"><input class=\"sk-toggleable__control sk-hidden--visually\" id=\"sk-estimator-id-1\" type=\"checkbox\" checked><label for=\"sk-estimator-id-1\" class=\"sk-toggleable__label sk-toggleable__label-arrow\">RandomForestClassifier</label><div class=\"sk-toggleable__content\"><pre>RandomForestClassifier(class_weight=&#x27;balanced&#x27;, min_samples_split=10,\n",
       "                       n_estimators=500, random_state=0)</pre></div></div></div></div></div>"
      ],
      "text/plain": [
       "RandomForestClassifier(class_weight='balanced', min_samples_split=10,\n",
       "                       n_estimators=500, random_state=0)"
      ]
     },
     "execution_count": 26,
     "metadata": {},
     "output_type": "execute_result"
    }
   ],
   "source": [
    "# create Random Forest\n",
    "clf = RandomForestClassifier(\n",
    "    n_estimators=500, max_depth=None,\n",
    "    min_samples_split=10, random_state=0,\n",
    "    class_weight='balanced'\n",
    "    # min_sample_split= \n",
    "    )\n",
    "\n",
    "# used random_state to test if hyper parameters make a difference \n",
    "# do 3 types of hyper params\n",
    "# confusion matrix \n",
    "# stop. \n",
    "\n",
    "clf.fit(X_train, y_train)\n"
   ]
  },
  {
   "cell_type": "code",
   "execution_count": 44,
   "metadata": {},
   "outputs": [
    {
     "data": {
      "text/plain": [
       "0.7583892617449665"
      ]
     },
     "execution_count": 44,
     "metadata": {},
     "output_type": "execute_result"
    }
   ],
   "source": [
    "# Get accuracy\n",
    "acc = clf.score(X_test, y_test)\n",
    "\n",
    "pred_labels = clf.predict(X_test)\n",
    "\n",
    "acc"
   ]
  },
  {
   "cell_type": "code",
   "execution_count": 79,
   "metadata": {},
   "outputs": [
    {
     "data": {
      "text/plain": [
       "array([[[139,   2],\n",
       "        [  2,   6]],\n",
       "\n",
       "       [[146,   1],\n",
       "        [  2,   0]],\n",
       "\n",
       "       [[141,   2],\n",
       "        [  6,   0]],\n",
       "\n",
       "       [[124,   1],\n",
       "        [ 24,   0]],\n",
       "\n",
       "       [[ 10,  30],\n",
       "        [  2, 107]]], dtype=int64)"
      ]
     },
     "execution_count": 79,
     "metadata": {},
     "output_type": "execute_result"
    }
   ],
   "source": [
    "multilabel_confusion_matrix(y_test, pred_labels)"
   ]
  },
  {
   "cell_type": "code",
   "execution_count": 40,
   "metadata": {},
   "outputs": [
    {
     "data": {
      "text/plain": [
       "(0.7583892617449665, 0.6116200460490864)"
      ]
     },
     "execution_count": 40,
     "metadata": {},
     "output_type": "execute_result"
    }
   ],
   "source": [
    "recall_score(y_test, pred_labels, average='weighted'), precision_score(y_test, pred_labels, average='weighted')"
   ]
  },
  {
   "cell_type": "code",
   "execution_count": 41,
   "metadata": {},
   "outputs": [
    {
     "data": {
      "text/plain": [
       "(0.7583892617449665, 0.7583892617449665)"
      ]
     },
     "execution_count": 41,
     "metadata": {},
     "output_type": "execute_result"
    }
   ],
   "source": [
    "recall_score(y_test, pred_labels, average='micro'), precision_score(y_test, pred_labels, average='micro')"
   ]
  },
  {
   "cell_type": "code",
   "execution_count": 47,
   "metadata": {},
   "outputs": [
    {
     "name": "stdout",
     "output_type": "stream",
     "text": [
      "mR 0.7583892617449665 \n",
      "mP 0.7583892617449665 \n",
      "MR 0.34633027522935783 \n",
      "MP 0.3062043795620438 \n",
      "mF1 0.7583892617449665 \n",
      "MF1 0.3239837398373984\n"
     ]
    }
   ],
   "source": [
    "print('mR',recall_score(y_test, pred_labels, average='micro'),'\\nmP', precision_score(y_test, pred_labels, average='micro'),\n",
    "'\\nMR',recall_score(y_test, pred_labels, average='macro'),'\\nMP', precision_score(y_test, pred_labels, average='macro'),\n",
    "'\\nmF1',f1_score(y_test, pred_labels,average='micro'),'\\nMF1', f1_score(y_test, pred_labels,average='macro'))"
   ]
  },
  {
   "cell_type": "code",
   "execution_count": 72,
   "metadata": {},
   "outputs": [
    {
     "name": "stdout",
     "output_type": "stream",
     "text": [
      "              precision    recall  f1-score   support\n",
      "\n",
      "           0       0.75      0.75      0.75         8\n",
      "           1       0.00      0.00      0.00         2\n",
      "           2       0.00      0.00      0.00         6\n",
      "           3       0.00      0.00      0.00        24\n",
      "           4       0.78      0.98      0.87       109\n",
      "\n",
      "    accuracy                           0.76       149\n",
      "   macro avg       0.31      0.35      0.32       149\n",
      "weighted avg       0.61      0.76      0.68       149\n",
      "\n"
     ]
    }
   ],
   "source": [
    "print(classification_report(y_test, pred_labels))"
   ]
  },
  {
   "cell_type": "code",
   "execution_count": 85,
   "metadata": {},
   "outputs": [
    {
     "data": {
      "text/plain": [
       "(0.33557046979865773, 0.6040268456375839)"
      ]
     },
     "execution_count": 85,
     "metadata": {},
     "output_type": "execute_result"
    }
   ],
   "source": [
    "mean_absolute_error(y_test, pred_labels), mean_squared_error(y_test, pred_labels)"
   ]
  },
  {
   "cell_type": "code",
   "execution_count": 51,
   "metadata": {},
   "outputs": [
    {
     "data": {
      "text/html": [
       "<style>#sk-container-id-2 {color: black;background-color: white;}#sk-container-id-2 pre{padding: 0;}#sk-container-id-2 div.sk-toggleable {background-color: white;}#sk-container-id-2 label.sk-toggleable__label {cursor: pointer;display: block;width: 100%;margin-bottom: 0;padding: 0.3em;box-sizing: border-box;text-align: center;}#sk-container-id-2 label.sk-toggleable__label-arrow:before {content: \"▸\";float: left;margin-right: 0.25em;color: #696969;}#sk-container-id-2 label.sk-toggleable__label-arrow:hover:before {color: black;}#sk-container-id-2 div.sk-estimator:hover label.sk-toggleable__label-arrow:before {color: black;}#sk-container-id-2 div.sk-toggleable__content {max-height: 0;max-width: 0;overflow: hidden;text-align: left;background-color: #f0f8ff;}#sk-container-id-2 div.sk-toggleable__content pre {margin: 0.2em;color: black;border-radius: 0.25em;background-color: #f0f8ff;}#sk-container-id-2 input.sk-toggleable__control:checked~div.sk-toggleable__content {max-height: 200px;max-width: 100%;overflow: auto;}#sk-container-id-2 input.sk-toggleable__control:checked~label.sk-toggleable__label-arrow:before {content: \"▾\";}#sk-container-id-2 div.sk-estimator input.sk-toggleable__control:checked~label.sk-toggleable__label {background-color: #d4ebff;}#sk-container-id-2 div.sk-label input.sk-toggleable__control:checked~label.sk-toggleable__label {background-color: #d4ebff;}#sk-container-id-2 input.sk-hidden--visually {border: 0;clip: rect(1px 1px 1px 1px);clip: rect(1px, 1px, 1px, 1px);height: 1px;margin: -1px;overflow: hidden;padding: 0;position: absolute;width: 1px;}#sk-container-id-2 div.sk-estimator {font-family: monospace;background-color: #f0f8ff;border: 1px dotted black;border-radius: 0.25em;box-sizing: border-box;margin-bottom: 0.5em;}#sk-container-id-2 div.sk-estimator:hover {background-color: #d4ebff;}#sk-container-id-2 div.sk-parallel-item::after {content: \"\";width: 100%;border-bottom: 1px solid gray;flex-grow: 1;}#sk-container-id-2 div.sk-label:hover label.sk-toggleable__label {background-color: #d4ebff;}#sk-container-id-2 div.sk-serial::before {content: \"\";position: absolute;border-left: 1px solid gray;box-sizing: border-box;top: 0;bottom: 0;left: 50%;z-index: 0;}#sk-container-id-2 div.sk-serial {display: flex;flex-direction: column;align-items: center;background-color: white;padding-right: 0.2em;padding-left: 0.2em;position: relative;}#sk-container-id-2 div.sk-item {position: relative;z-index: 1;}#sk-container-id-2 div.sk-parallel {display: flex;align-items: stretch;justify-content: center;background-color: white;position: relative;}#sk-container-id-2 div.sk-item::before, #sk-container-id-2 div.sk-parallel-item::before {content: \"\";position: absolute;border-left: 1px solid gray;box-sizing: border-box;top: 0;bottom: 0;left: 50%;z-index: -1;}#sk-container-id-2 div.sk-parallel-item {display: flex;flex-direction: column;z-index: 1;position: relative;background-color: white;}#sk-container-id-2 div.sk-parallel-item:first-child::after {align-self: flex-end;width: 50%;}#sk-container-id-2 div.sk-parallel-item:last-child::after {align-self: flex-start;width: 50%;}#sk-container-id-2 div.sk-parallel-item:only-child::after {width: 0;}#sk-container-id-2 div.sk-dashed-wrapped {border: 1px dashed gray;margin: 0 0.4em 0.5em 0.4em;box-sizing: border-box;padding-bottom: 0.4em;background-color: white;}#sk-container-id-2 div.sk-label label {font-family: monospace;font-weight: bold;display: inline-block;line-height: 1.2em;}#sk-container-id-2 div.sk-label-container {text-align: center;}#sk-container-id-2 div.sk-container {/* jupyter's `normalize.less` sets `[hidden] { display: none; }` but bootstrap.min.css set `[hidden] { display: none !important; }` so we also need the `!important` here to be able to override the default hidden behavior on the sphinx rendered scikit-learn.org. See: https://github.com/scikit-learn/scikit-learn/issues/21755 */display: inline-block !important;position: relative;}#sk-container-id-2 div.sk-text-repr-fallback {display: none;}</style><div id=\"sk-container-id-2\" class=\"sk-top-container\"><div class=\"sk-text-repr-fallback\"><pre>RandomForestClassifier(class_weight=&#x27;balanced&#x27;, min_samples_split=10,\n",
       "                       n_estimators=1000)</pre><b>In a Jupyter environment, please rerun this cell to show the HTML representation or trust the notebook. <br />On GitHub, the HTML representation is unable to render, please try loading this page with nbviewer.org.</b></div><div class=\"sk-container\" hidden><div class=\"sk-item\"><div class=\"sk-estimator sk-toggleable\"><input class=\"sk-toggleable__control sk-hidden--visually\" id=\"sk-estimator-id-2\" type=\"checkbox\" checked><label for=\"sk-estimator-id-2\" class=\"sk-toggleable__label sk-toggleable__label-arrow\">RandomForestClassifier</label><div class=\"sk-toggleable__content\"><pre>RandomForestClassifier(class_weight=&#x27;balanced&#x27;, min_samples_split=10,\n",
       "                       n_estimators=1000)</pre></div></div></div></div></div>"
      ],
      "text/plain": [
       "RandomForestClassifier(class_weight='balanced', min_samples_split=10,\n",
       "                       n_estimators=1000)"
      ]
     },
     "execution_count": 51,
     "metadata": {},
     "output_type": "execute_result"
    }
   ],
   "source": [
    "# create Random Forest\n",
    "clf_1 = RandomForestClassifier(\n",
    "    n_estimators=1000, max_depth=None,\n",
    "    min_samples_split=10,\n",
    "    class_weight='balanced'\n",
    "    )\n",
    "\n",
    "clf_1.fit(X_train, y_train)\n"
   ]
  },
  {
   "cell_type": "code",
   "execution_count": 52,
   "metadata": {},
   "outputs": [],
   "source": [
    "pred_labels_1 = clf_1.predict(X_test)\n"
   ]
  },
  {
   "cell_type": "code",
   "execution_count": 54,
   "metadata": {},
   "outputs": [
    {
     "name": "stdout",
     "output_type": "stream",
     "text": [
      "Acc 0.7651006711409396 \n",
      "mR 0.7651006711409396 \n",
      "mP 0.7651006711409396 \n",
      "MR 0.34816513761467893 \n",
      "MP 0.3053956834532374 \n",
      "mF1 0.7651006711409396 \n",
      "MF1 0.3241935483870968\n"
     ]
    },
    {
     "name": "stderr",
     "output_type": "stream",
     "text": [
      "c:\\Users\\naomi\\anaconda3\\envs\\research\\lib\\site-packages\\sklearn\\metrics\\_classification.py:1344: UndefinedMetricWarning: Precision is ill-defined and being set to 0.0 in labels with no predicted samples. Use `zero_division` parameter to control this behavior.\n",
      "  _warn_prf(average, modifier, msg_start, len(result))\n"
     ]
    }
   ],
   "source": [
    "print('Acc',clf_1.score(X_test, y_test),\n",
    "'\\nmR',recall_score(y_test, pred_labels_1, average='micro'),'\\nmP', precision_score(y_test, pred_labels_1, average='micro'),\n",
    "'\\nMR',recall_score(y_test, pred_labels_1, average='macro'),'\\nMP', precision_score(y_test, pred_labels_1, average='macro'),\n",
    "'\\nmF1',f1_score(y_test, pred_labels_1,average='micro'),'\\nMF1', f1_score(y_test, pred_labels_1,average='macro'))"
   ]
  },
  {
   "cell_type": "code",
   "execution_count": 73,
   "metadata": {},
   "outputs": [
    {
     "name": "stdout",
     "output_type": "stream",
     "text": [
      "              precision    recall  f1-score   support\n",
      "\n",
      "           0       0.75      0.75      0.75         8\n",
      "           1       0.00      0.00      0.00         2\n",
      "           2       0.00      0.00      0.00         6\n",
      "           3       0.00      0.00      0.00        24\n",
      "           4       0.78      0.99      0.87       109\n",
      "\n",
      "    accuracy                           0.77       149\n",
      "   macro avg       0.31      0.35      0.32       149\n",
      "weighted avg       0.61      0.77      0.68       149\n",
      "\n"
     ]
    },
    {
     "name": "stderr",
     "output_type": "stream",
     "text": [
      "c:\\Users\\naomi\\anaconda3\\envs\\research\\lib\\site-packages\\sklearn\\metrics\\_classification.py:1344: UndefinedMetricWarning: Precision and F-score are ill-defined and being set to 0.0 in labels with no predicted samples. Use `zero_division` parameter to control this behavior.\n",
      "  _warn_prf(average, modifier, msg_start, len(result))\n",
      "c:\\Users\\naomi\\anaconda3\\envs\\research\\lib\\site-packages\\sklearn\\metrics\\_classification.py:1344: UndefinedMetricWarning: Precision and F-score are ill-defined and being set to 0.0 in labels with no predicted samples. Use `zero_division` parameter to control this behavior.\n",
      "  _warn_prf(average, modifier, msg_start, len(result))\n",
      "c:\\Users\\naomi\\anaconda3\\envs\\research\\lib\\site-packages\\sklearn\\metrics\\_classification.py:1344: UndefinedMetricWarning: Precision and F-score are ill-defined and being set to 0.0 in labels with no predicted samples. Use `zero_division` parameter to control this behavior.\n",
      "  _warn_prf(average, modifier, msg_start, len(result))\n"
     ]
    }
   ],
   "source": [
    "print(classification_report(y_test, pred_labels_1))\n"
   ]
  },
  {
   "cell_type": "code",
   "execution_count": 86,
   "metadata": {},
   "outputs": [
    {
     "data": {
      "text/plain": [
       "(0.3221476510067114, 0.5771812080536913)"
      ]
     },
     "execution_count": 86,
     "metadata": {},
     "output_type": "execute_result"
    }
   ],
   "source": [
    "mean_absolute_error(y_test, pred_labels_1), mean_squared_error(y_test, pred_labels_1)"
   ]
  },
  {
   "cell_type": "code",
   "execution_count": 55,
   "metadata": {},
   "outputs": [],
   "source": [
    "# create Random Forest\n",
    "clf_2 = RandomForestClassifier(\n",
    "    n_estimators=1000, max_depth=None,\n",
    "    min_samples_split=20,\n",
    "    class_weight='balanced'\n",
    "    )\n",
    "\n",
    "clf_2.fit(X_train, y_train)\n",
    "pred_labels_2 = clf_2.predict(X_test)"
   ]
  },
  {
   "cell_type": "code",
   "execution_count": 56,
   "metadata": {},
   "outputs": [
    {
     "name": "stdout",
     "output_type": "stream",
     "text": [
      "Acc 0.7583892617449665 \n",
      "mR 0.7583892617449665 \n",
      "mP 0.7583892617449665 \n",
      "MR 0.34633027522935783 \n",
      "MP 0.3085185185185185 \n",
      "mF1 0.7583892617449665 \n",
      "MF1 0.32540983606557383\n"
     ]
    }
   ],
   "source": [
    "print('Acc',clf_2.score(X_test, y_test),\n",
    "'\\nmR',recall_score(y_test, pred_labels_2, average='micro'),'\\nmP', precision_score(y_test, pred_labels_2, average='micro'),\n",
    "'\\nMR',recall_score(y_test, pred_labels_2, average='macro'),'\\nMP', precision_score(y_test, pred_labels_2, average='macro'),\n",
    "'\\nmF1',f1_score(y_test, pred_labels_2,average='micro'),'\\nMF1', f1_score(y_test, pred_labels_2,average='macro'))"
   ]
  },
  {
   "cell_type": "code",
   "execution_count": 74,
   "metadata": {},
   "outputs": [
    {
     "name": "stdout",
     "output_type": "stream",
     "text": [
      "              precision    recall  f1-score   support\n",
      "\n",
      "           0       0.75      0.75      0.75         8\n",
      "           1       0.00      0.00      0.00         2\n",
      "           2       0.00      0.00      0.00         6\n",
      "           3       0.00      0.00      0.00        24\n",
      "           4       0.79      0.98      0.88       109\n",
      "\n",
      "    accuracy                           0.76       149\n",
      "   macro avg       0.31      0.35      0.33       149\n",
      "weighted avg       0.62      0.76      0.68       149\n",
      "\n"
     ]
    }
   ],
   "source": [
    "print(classification_report(y_test, pred_labels_2))\n"
   ]
  },
  {
   "cell_type": "code",
   "execution_count": 87,
   "metadata": {},
   "outputs": [
    {
     "data": {
      "text/plain": [
       "(0.348993288590604, 0.6442953020134228)"
      ]
     },
     "execution_count": 87,
     "metadata": {},
     "output_type": "execute_result"
    }
   ],
   "source": [
    "mean_absolute_error(y_test, pred_labels_2), mean_squared_error(y_test, pred_labels_2)"
   ]
  },
  {
   "cell_type": "code",
   "execution_count": 61,
   "metadata": {},
   "outputs": [],
   "source": [
    "# create Random Forest\n",
    "clf_3 = RandomForestClassifier(\n",
    "    n_estimators=10000, max_depth=5000,\n",
    "    min_samples_split=10,\n",
    "    class_weight='balanced'\n",
    "    )\n",
    "\n",
    "clf_3.fit(X_train, y_train)\n",
    "pred_labels_3 = clf_3.predict(X_test)"
   ]
  },
  {
   "cell_type": "code",
   "execution_count": 63,
   "metadata": {},
   "outputs": [
    {
     "name": "stdout",
     "output_type": "stream",
     "text": [
      "Acc 0.7651006711409396 \n",
      "mR 0.7651006711409396 \n",
      "mP 0.7651006711409396 \n",
      "MR 0.34816513761467893 \n",
      "MP 0.3053956834532374 \n",
      "mF1 0.7651006711409396 \n",
      "MF1 0.3241935483870968\n"
     ]
    },
    {
     "name": "stderr",
     "output_type": "stream",
     "text": [
      "c:\\Users\\naomi\\anaconda3\\envs\\research\\lib\\site-packages\\sklearn\\metrics\\_classification.py:1344: UndefinedMetricWarning: Precision is ill-defined and being set to 0.0 in labels with no predicted samples. Use `zero_division` parameter to control this behavior.\n",
      "  _warn_prf(average, modifier, msg_start, len(result))\n"
     ]
    }
   ],
   "source": [
    "print('Acc',clf_3.score(X_test, y_test),\n",
    "'\\nMR',recall_score(y_test, pred_labels_3, average='macro'),\n",
    "'\\nMP', precision_score(y_test, pred_labels_3, average='macro'),\n",
    "'\\nMF1', f1_score(y_test, pred_labels_3,average='macro'),\n",
    "'\\n', mean_absolute_error(y_test, pred_labels_3),\n",
    "'\\n', mean_squared_error(y_test, pred_labels_3)\n",
    ")"
   ]
  },
  {
   "cell_type": "code",
   "execution_count": 75,
   "metadata": {},
   "outputs": [
    {
     "name": "stdout",
     "output_type": "stream",
     "text": [
      "              precision    recall  f1-score   support\n",
      "\n",
      "           0       0.75      0.75      0.75         8\n",
      "           1       0.00      0.00      0.00         2\n",
      "           2       0.00      0.00      0.00         6\n",
      "           3       0.00      0.00      0.00        24\n",
      "           4       0.78      0.99      0.87       109\n",
      "\n",
      "    accuracy                           0.77       149\n",
      "   macro avg       0.31      0.35      0.32       149\n",
      "weighted avg       0.61      0.77      0.68       149\n",
      "\n"
     ]
    },
    {
     "name": "stderr",
     "output_type": "stream",
     "text": [
      "c:\\Users\\naomi\\anaconda3\\envs\\research\\lib\\site-packages\\sklearn\\metrics\\_classification.py:1344: UndefinedMetricWarning: Precision and F-score are ill-defined and being set to 0.0 in labels with no predicted samples. Use `zero_division` parameter to control this behavior.\n",
      "  _warn_prf(average, modifier, msg_start, len(result))\n",
      "c:\\Users\\naomi\\anaconda3\\envs\\research\\lib\\site-packages\\sklearn\\metrics\\_classification.py:1344: UndefinedMetricWarning: Precision and F-score are ill-defined and being set to 0.0 in labels with no predicted samples. Use `zero_division` parameter to control this behavior.\n",
      "  _warn_prf(average, modifier, msg_start, len(result))\n",
      "c:\\Users\\naomi\\anaconda3\\envs\\research\\lib\\site-packages\\sklearn\\metrics\\_classification.py:1344: UndefinedMetricWarning: Precision and F-score are ill-defined and being set to 0.0 in labels with no predicted samples. Use `zero_division` parameter to control this behavior.\n",
      "  _warn_prf(average, modifier, msg_start, len(result))\n"
     ]
    }
   ],
   "source": [
    "print(classification_report(y_test, pred_labels_3))\n"
   ]
  },
  {
   "cell_type": "code",
   "execution_count": 66,
   "metadata": {},
   "outputs": [],
   "source": [
    "# create Random Forest\n",
    "clf_4 = RandomForestClassifier(\n",
    "    n_estimators=100, max_depth=None,\n",
    "    min_samples_split=5,\n",
    "    class_weight='balanced'\n",
    "    )\n",
    "\n",
    "clf_4.fit(X_train, y_train)\n",
    "pred_labels_4 = clf_4.predict(X_test)"
   ]
  },
  {
   "cell_type": "code",
   "execution_count": 68,
   "metadata": {},
   "outputs": [
    {
     "name": "stdout",
     "output_type": "stream",
     "text": [
      "Acc 0.7651006711409396 \n",
      "mR 0.7651006711409396 \n",
      "mP 0.7651006711409396 \n",
      "MR 0.34816513761467893 \n",
      "MP 0.3053956834532374 \n",
      "mF1 0.7651006711409396 \n",
      "MF1 0.3241935483870968\n"
     ]
    },
    {
     "name": "stderr",
     "output_type": "stream",
     "text": [
      "c:\\Users\\naomi\\anaconda3\\envs\\research\\lib\\site-packages\\sklearn\\metrics\\_classification.py:1344: UndefinedMetricWarning: Precision is ill-defined and being set to 0.0 in labels with no predicted samples. Use `zero_division` parameter to control this behavior.\n",
      "  _warn_prf(average, modifier, msg_start, len(result))\n"
     ]
    }
   ],
   "source": [
    "print('Acc',clf_4.score(X_test, y_test),\n",
    "'\\nmR',recall_score(y_test, pred_labels_3, average='micro'),'\\nmP', precision_score(y_test, pred_labels_3, average='micro'),\n",
    "'\\nMR',recall_score(y_test, pred_labels_3, average='macro'),'\\nMP', precision_score(y_test, pred_labels_3, average='macro'),\n",
    "'\\nmF1',f1_score(y_test, pred_labels_3,average='micro'),'\\nMF1', f1_score(y_test, pred_labels_3,average='macro'))"
   ]
  },
  {
   "cell_type": "code",
   "execution_count": 76,
   "metadata": {},
   "outputs": [
    {
     "name": "stdout",
     "output_type": "stream",
     "text": [
      "              precision    recall  f1-score   support\n",
      "\n",
      "           0       0.75      0.75      0.75         8\n",
      "           1       0.00      0.00      0.00         2\n",
      "           2       0.00      0.00      0.00         6\n",
      "           3       0.00      0.00      0.00        24\n",
      "           4       0.77      0.99      0.87       109\n",
      "\n",
      "    accuracy                           0.77       149\n",
      "   macro avg       0.30      0.35      0.32       149\n",
      "weighted avg       0.60      0.77      0.67       149\n",
      "\n"
     ]
    },
    {
     "name": "stderr",
     "output_type": "stream",
     "text": [
      "c:\\Users\\naomi\\anaconda3\\envs\\research\\lib\\site-packages\\sklearn\\metrics\\_classification.py:1344: UndefinedMetricWarning: Precision and F-score are ill-defined and being set to 0.0 in labels with no predicted samples. Use `zero_division` parameter to control this behavior.\n",
      "  _warn_prf(average, modifier, msg_start, len(result))\n",
      "c:\\Users\\naomi\\anaconda3\\envs\\research\\lib\\site-packages\\sklearn\\metrics\\_classification.py:1344: UndefinedMetricWarning: Precision and F-score are ill-defined and being set to 0.0 in labels with no predicted samples. Use `zero_division` parameter to control this behavior.\n",
      "  _warn_prf(average, modifier, msg_start, len(result))\n",
      "c:\\Users\\naomi\\anaconda3\\envs\\research\\lib\\site-packages\\sklearn\\metrics\\_classification.py:1344: UndefinedMetricWarning: Precision and F-score are ill-defined and being set to 0.0 in labels with no predicted samples. Use `zero_division` parameter to control this behavior.\n",
      "  _warn_prf(average, modifier, msg_start, len(result))\n"
     ]
    }
   ],
   "source": [
    "print(classification_report(y_test, pred_labels_4))\n"
   ]
  },
  {
   "cell_type": "code",
   "execution_count": 88,
   "metadata": {},
   "outputs": [
    {
     "data": {
      "text/plain": [
       "(0.3221476510067114, 0.5771812080536913)"
      ]
     },
     "execution_count": 88,
     "metadata": {},
     "output_type": "execute_result"
    }
   ],
   "source": [
    "mean_absolute_error(y_test, pred_labels_3), mean_squared_error(y_test, pred_labels_3)"
   ]
  },
  {
   "cell_type": "code",
   "execution_count": null,
   "metadata": {},
   "outputs": [],
   "source": [
    "# TRY  BALANCING OUT THE DATASET - 50% GOOD AND 50% BAD\n",
    "# Take all the 0s and 1s and randomly selecting 5s to get equal numbers\n",
    "# class seperability - less nuance between the goods"
   ]
  },
  {
   "cell_type": "code",
   "execution_count": null,
   "metadata": {},
   "outputs": [],
   "source": [
    "# remove the raw radar data from the data - redunacy can bias results\n",
    "# feed mean and std devisation of features per image\n",
    "# -histogram - bin, add avg of each bin as the feature\n",
    "# write code to reduce the feature space - reduce the local down to global - smaller feature spaces \n",
    "# give guys diff options for training - hyperparams - show plots of loss to see if converging \n"
   ]
  },
  {
   "cell_type": "markdown",
   "metadata": {},
   "source": [
    "### Look at 1 file"
   ]
  },
  {
   "cell_type": "code",
   "execution_count": 18,
   "metadata": {},
   "outputs": [
    {
     "name": "stdout",
     "output_type": "stream",
     "text": [
      "168 250\n"
     ]
    },
    {
     "data": {
      "text/plain": [
       "(<AxesSubplot: >,\n",
       " <matplotlib.image.AxesImage at 0x21b384e5460>,\n",
       " (-0.5, 167.5, 249.5, -0.5))"
      ]
     },
     "execution_count": 18,
     "metadata": {},
     "output_type": "execute_result"
    },
    {
     "data": {
      "image/png": "[encoded data removed]",
      "text/plain": [
       "<Figure size 2000x2000 with 5 Axes>"
      ]
     },
     "metadata": {},
     "output_type": "display_data"
    }
   ],
   "source": [
    "# print(files[6])\n",
    "# test_load = np.load(files[6], None, allow_pickle=True)\n",
    "test_load = np.load(\"../Seg_Featured_Data/Seg_Featured_Data_20120330_03_007_3.npy\", None, allow_pickle=True)\n",
    "# test_load = np.load(\"../Seg_Featured_Data/Seg_Featured_Data_20120330_01_022_5.npy\", None, allow_pickle=True)\n",
    "y, x, _ = test_load.shape\n",
    "print(x, y)\n",
    "plt.figure(figsize=(20,20))\n",
    "plt.subplot(191),plt.imshow(test_load[:,:,0], cmap=\"Greys\"),plt.axis('off')\n",
    "plt.subplot(192),plt.imshow(test_load[:,:,1], cmap='Greys'),plt.axis('off')\n",
    "# plt.subplot(193),plt.imshow(test_load[:,:,6], cmap='Greens', vmin=0, vmax=1),plt.axis('off')\n",
    "plt.subplot(193),plt.imshow(test_load[:y//10-1,:x//10-1,2], cmap=\"bwr\"),plt.axis('off')\n",
    "plt.subplot(194),plt.imshow(test_load[:y//10-1,:x//10-1,3], cmap=\"bwr\"),plt.axis('off')\n",
    "# plt.subplot(195),plt.imshow(test_load[:y//10-1,:(x//10-1),4], cmap=\"bwr\"),plt.axis('off')\n",
    "# plt.subplot(196),plt.imshow(test_load[:,:,5]),plt.axis('off')\n",
    "plt.subplot(196),plt.imshow(test_load[:,:,6], cmap='Greens', vmax=50),plt.axis('off')\n",
    "# plt.subplot(198),plt.imshow(test_load[:,:,7], cmap='Greens'),plt.axis('off')\n",
    "# plt.subplot(199),plt.imshow(test_load[:,:,8], cmap='Greens'),plt.axis('off')\n"
   ]
  },
  {
   "cell_type": "code",
   "execution_count": 27,
   "metadata": {},
   "outputs": [
    {
     "data": {
      "text/plain": [
       "(<AxesSubplot: >,\n",
       " <matplotlib.image.AxesImage at 0x21b3958be80>,\n",
       " (-0.5, 167.5, 24.5, -0.5))"
      ]
     },
     "execution_count": 27,
     "metadata": {},
     "output_type": "execute_result"
    },
    {
     "data": {
      "image/png": "[encoded data removed]",
      "text/plain": [
       "<Figure size 640x480 with 2 Axes>"
      ]
     },
     "metadata": {},
     "output_type": "display_data"
    }
   ],
   "source": [
    "plt.subplot(121),plt.imshow(test_load[:y//10,:,7], cmap='Greens'),plt.axis('off')\n",
    "plt.subplot(122),plt.imshow(test_load[:y//10,:,8], cmap='Greens'),plt.axis('off')"
   ]
  },
  {
   "cell_type": "code",
   "execution_count": 32,
   "metadata": {},
   "outputs": [
    {
     "data": {
      "text/plain": [
       "[<matplotlib.lines.Line2D at 0x21b39476550>]"
      ]
     },
     "execution_count": 32,
     "metadata": {},
     "output_type": "execute_result"
    },
    {
     "data": {
      "image/png": "[encoded data removed]",
      "text/plain": [
       "<Figure size 640x480 with 1 Axes>"
      ]
     },
     "metadata": {},
     "output_type": "display_data"
    }
   ],
   "source": [
    "c = 100\n",
    "plt.plot(test_load[:y//10,c,8], test_load[:y//10,c,7])"
   ]
  },
  {
   "cell_type": "code",
   "execution_count": 11,
   "metadata": {},
   "outputs": [],
   "source": [
    "# FROM data_procssing\n",
    "from scipy.interpolate import CubicSpline \n",
    "from scipy.fft import fft\n",
    "\n",
    "\n",
    "def spatialFrequency(labels, splines, spatial_freq, wid):\n",
    "    shaded_norms = (labels > 0).astype(int) \n",
    "    row, col = shaded_norms.shape\n",
    "    # wid = 10\n",
    "    s=0\n",
    "    for spl in spatial_freq:\n",
    "        for ((dist, ps),x) in spl:\n",
    "            for i in range(x,x+wid):\n",
    "                if i < col:\n",
    "                    y = int(np.floor(splines[s](i)))\n",
    "                    yo = int(y - 1)\n",
    "                    # print(type(y), type(yo), type(i))\n",
    "                    while yo >=0 and shaded_norms[yo, i] == 0:\n",
    "                        yo -= 1\n",
    "                    # yo = int(splines[ps](i))\n",
    "                    if yo < 0:\n",
    "                        yo = 0\n",
    "                    shaded_norms[yo:y, i] = dist\n",
    "        s +=1\n",
    "    # Now we have an arrya with the distances filled in between layer\n",
    "    # plt.imshow(shaded_norms, cmap='Greens')\n",
    "    # return shaded_norms\n",
    "    # We need to isolate the surface and the bedrock so we can remove those areas from the frequency\n",
    "    #https://stackoverflow.com/questions/19125661/find-index-where-elements-change-value-numpy\n",
    "    surface_borders = []\n",
    "    bedrock_borders = []\n",
    "    # print(shaded_norms.shape, shaded_norms.T.shape)\n",
    "    for col in shaded_norms.T:\n",
    "        chg_pts = np.where(col[:-1] != col[1:])[0] \n",
    "        # if there are no changes in a column then just put 0s\n",
    "        if not len(chg_pts):  \n",
    "            surface_borders.append(0)\n",
    "            bedrock_borders.append(0)\n",
    "            continue\n",
    "        surface_borders.append(chg_pts[0])\n",
    "        bedrock_borders.append(chg_pts[-1])\n",
    "\n",
    "    # Calculate frequency along columns\n",
    "    X = np.zeros_like(labels)\n",
    "    freq = np.zeros_like(labels)\n",
    "    i = 0\n",
    "    for col in shaded_norms.T:\n",
    "        # check if empty row\n",
    "        if col[surface_borders[i]:bedrock_borders[i]].size:\n",
    "            col_fft =np.abs(fft(col[surface_borders[i]:bedrock_borders[i]]))\n",
    "            # X.append(col_fft[len(col_fft)//2:])\n",
    "            # N = len(col_fft[len(col_fft)//2:])\n",
    "            # freq.append(1./np.linspace(0, N, N))\n",
    "            X[:(len(col_fft)-len(col_fft)//2), i] = col_fft[len(col_fft)//2:]\n",
    "            N = len(col_fft[len(col_fft)//2:])\n",
    "            freq[:N, i] = 1./np.linspace(0, N, N)    \n",
    "            i += 1\n",
    "    \n",
    "    return X, freq, shaded_norms"
   ]
  },
  {
   "cell_type": "code",
   "execution_count": 16,
   "metadata": {},
   "outputs": [
    {
     "name": "stdout",
     "output_type": "stream",
     "text": [
      "labels:  5\n"
     ]
    },
    {
     "ename": "TypeError",
     "evalue": "cannot unpack non-iterable numpy.float64 object",
     "output_type": "error",
     "traceback": [
      "\u001b[1;31m---------------------------------------------------------------------------\u001b[0m",
      "\u001b[1;31mTypeError\u001b[0m                                 Traceback (most recent call last)",
      "Cell \u001b[1;32mIn[16], line 41\u001b[0m\n\u001b[0;32m     36\u001b[0m     x \u001b[38;5;241m=\u001b[39m []\n\u001b[0;32m     37\u001b[0m     y \u001b[38;5;241m=\u001b[39m [] \n\u001b[1;32m---> 41\u001b[0m X, Freq, shaded_norms \u001b[38;5;241m=\u001b[39m \u001b[43mspatialFrequency\u001b[49m\u001b[43m(\u001b[49m\u001b[43mslice_labels\u001b[49m\u001b[43m,\u001b[49m\u001b[43m \u001b[49m\u001b[43msplines\u001b[49m\u001b[43m,\u001b[49m\u001b[43m \u001b[49m\u001b[43mtest_load\u001b[49m\u001b[43m[\u001b[49m\u001b[43m:\u001b[49m\u001b[43m,\u001b[49m\u001b[43m:\u001b[49m\u001b[43m,\u001b[49m\u001b[38;5;241;43m6\u001b[39;49m\u001b[43m]\u001b[49m\u001b[43m,\u001b[49m\u001b[43m \u001b[49m\u001b[38;5;241;43m10\u001b[39;49m\u001b[43m)\u001b[49m\n",
      "Cell \u001b[1;32mIn[11], line 12\u001b[0m, in \u001b[0;36mspatialFrequency\u001b[1;34m(labels, splines, spatial_freq, wid)\u001b[0m\n\u001b[0;32m     10\u001b[0m s\u001b[38;5;241m=\u001b[39m\u001b[38;5;241m0\u001b[39m\n\u001b[0;32m     11\u001b[0m \u001b[38;5;28;01mfor\u001b[39;00m spl \u001b[38;5;129;01min\u001b[39;00m spatial_freq:\n\u001b[1;32m---> 12\u001b[0m     \u001b[38;5;28;01mfor\u001b[39;00m ((dist, ps),x) \u001b[38;5;129;01min\u001b[39;00m spl:\n\u001b[0;32m     13\u001b[0m         \u001b[38;5;28;01mfor\u001b[39;00m i \u001b[38;5;129;01min\u001b[39;00m \u001b[38;5;28mrange\u001b[39m(x,x\u001b[38;5;241m+\u001b[39mwid):\n\u001b[0;32m     14\u001b[0m             \u001b[38;5;28;01mif\u001b[39;00m i \u001b[38;5;241m<\u001b[39m col:\n",
      "\u001b[1;31mTypeError\u001b[0m: cannot unpack non-iterable numpy.float64 object"
     ]
    }
   ],
   "source": [
    "# FROM Matfiles_SpatFreq\n",
    "from skimage import measure\n",
    "\n",
    "slice_labels = measure.label(test_load[:,:,1])\n",
    "label_values = np.unique(slice_labels)[1:] #remove the 0 label\n",
    "num_labels = len(label_values)\n",
    "splines = []\n",
    "domains = []\n",
    "derivs = []\n",
    "\n",
    "print(\"labels: \", num_labels)\n",
    "\n",
    "for label_num in label_values:\n",
    "    # isolate the label and skeletonize so that label is 1\n",
    "    label_skeleton = (slice_labels[:,:] == label_num).astype(int)\n",
    "    \n",
    "    # Get every x,y every 10 columns\n",
    "    row, col = label_skeleton.shape\n",
    "    col_check = np.arange(0, col, 10)\n",
    "\n",
    "    x, y = [], []\n",
    "    for c in col_check:\n",
    "        for r in range(row):\n",
    "            if label_skeleton[r,c] == 1:\n",
    "                if c in x: continue # if there are two lines then only take the top\n",
    "                x.append(c) # get x indices\n",
    "                y.append(r) # get y indices\n",
    "\n",
    "    # create the cubic spline for the label\n",
    "    if(len(x) > 1 and len(y) > 1):\n",
    "        splines.append(CubicSpline(x,y))\n",
    "        domains.append(x)\n",
    "        derivs.append(splines[-1].derivative())\n",
    "\n",
    "    # reset for next loop\n",
    "    x = []\n",
    "    y = [] \n",
    "\n",
    "\n",
    "\n",
    "X, Freq, shaded_norms = spatialFrequency(slice_labels, splines, test_load[:,:,6], 10)\n"
   ]
  },
  {
   "cell_type": "code",
   "execution_count": 14,
   "metadata": {},
   "outputs": [
    {
     "data": {
      "text/plain": [
       "array([0., 1.])"
      ]
     },
     "execution_count": 14,
     "metadata": {},
     "output_type": "execute_result"
    }
   ],
   "source": [
    "np.unique(test_load[:,:,1])"
   ]
  },
  {
   "cell_type": "code",
   "execution_count": 6,
   "metadata": {},
   "outputs": [
    {
     "name": "stdout",
     "output_type": "stream",
     "text": [
      "conected components (mean, std) 1.3420138888888888 0.5394558470516468\n",
      "orientaiton (mean, std) -0.12631517958575234 0.8160832018203515\n",
      "mean orientaiton (mean, std) -0.12631517958575234 0.8160832018203515\n",
      "num breakpoints 4\n",
      "dist map (mean, std) 22.491536 33.62555088560936\n"
     ]
    }
   ],
   "source": [
    "# spat_range =np.unique(test_load[:,:,6])[1:-1]\n",
    "\n",
    "vl, ct = np.unique(test_load[:,:,5], return_counts=True)\n",
    "if len(ct)>1:\n",
    "    num_bp = ct[1]\n",
    "else:\n",
    "    num_bp = 0\n",
    "\n",
    "print(\"conected components (mean, std)\", np.mean(test_load[:250//10-1,:250//10-1,2]), np.std(test_load[:250//10-1,:250//10-1,2]))\n",
    "print(\"orientaiton (mean, std)\", np.mean(test_load[:250//10-1,:250//10-1,3]), np.std(test_load[:250//10-1,:250//10-1,3]))\n",
    "# print(\"mean orientaiton (mean, std)\", np.mean(test_load[:250//10-1,:250//10-1,4]), np.std(test_load[:250//10-1,:250//10-1,4]))\n",
    "print(\"num breakpoints\",num_bp)\n",
    "print(\"dist map (mean, std)\", np.mean(test_load[:,:,6]), np.std(test_load[:,:,6]))"
   ]
  },
  {
   "cell_type": "code",
   "execution_count": null,
   "metadata": {},
   "outputs": [],
   "source": [
    "# files = glob.glob(\"Seg_Featured_Data/*.npy\")\n",
    "\n",
    "max_len = 250*250+9\n",
    "num_padded = 0\n",
    "flattened_test_load = np.zeros((max_len, ))\n",
    "print(flattened_test_load.shape)\n",
    "\n",
    "for fl in files:\n",
    "    test_load = np.load(fl, None, allow_pickle=True)\n",
    "    y,x,_ = test_load.shape\n",
    "    # Ignore depth 0\n",
    "    # Keep all Depth 1\n",
    "    #  if the x,y is less than 250x50 pad w 0s\n",
    "    layers_depth = test_load[:,:,1]\n",
    "    if x < 250:\n",
    "        layers_depth = np.hstack((layers_depth, np.zeros((y, y-x))))\n",
    "        num_padded +=1\n",
    "    if y < 250:\n",
    "        layers_depth = np.hstack((layers_depth, np.zeros((250-y, 250))))\n",
    "    layers_depth = layers_depth.flatten()\n",
    "\n",
    "    # Get the metrics from the other depths\n",
    "    vl, ct = np.unique(test_load[:,:,5], return_counts=True)\n",
    "    if len(ct)>1:\n",
    "        num_bp = ct[1]\n",
    "    else:\n",
    "        num_bp = 0\n",
    "\n",
    "    # print(\"conected components (mean, std)\", np.mean(test_load[:y//10-1,:x//10-1,2]), np.std(test_load[:y//10-1,:x//10-1,2]))\n",
    "    # print(\"orientaiton (mean, std)\", np.mean(test_load[:y//10-1,:x//10-1,3]), np.std(test_load[:y//10-1,:x//10-1,3]))\n",
    "    # print(\"mean orientaiton (mean, std)\", np.mean(test_load[:250//10-1,:250//10-1,4]), np.std(test_load[:250//10-1,:250//10-1,4]))\n",
    "    # print(\"num breakpoints\",num_bp)\n",
    "    # print(\"dist map (mean, std)\", np.mean(test_load[:,:,6]), np.std(test_load[:,:,6]))\n",
    "\n",
    "\n",
    "    data= np.append(layers_depth, [np.mean(test_load[:y//10-1,:x//10-1,2]), \n",
    "                                   np.mean(test_load[:y//10-1,:x//10-1,2]), np.std(test_load[:y//10-1,:x//10-1,2]),\n",
    "                                    np.mean(test_load[:y//10-1,:x//10-1,3]), np.std(test_load[:y//10-1,:x//10-1,3]),\n",
    "                                    num_bp,\n",
    "                                    np.mean(test_load[:,:,6]), np.std(test_load[:,:,6])])\n",
    "\n",
    "\n",
    "    flattened_test_load = np.vstack((flattened_test_load, data))\n",
    "\n",
    "print(flattened_test_load.shape,flattened_test_load[0].shape, \"num padded:\", num_padded)\n",
    "\n",
    "flattened_data = flattened_test_load[1:,:]\n",
    "flattened_data.shape, len(labels)\n"
   ]
  },
  {
   "cell_type": "code",
   "execution_count": 14,
   "metadata": {},
   "outputs": [
    {
     "data": {
      "text/plain": [
       "array([1, 2, 3, 4, 5, 6, 7, 8, 9])"
      ]
     },
     "execution_count": 14,
     "metadata": {},
     "output_type": "execute_result"
    }
   ],
   "source": [
    "np.append([1, 2, 3], [4, 5, 6,7, 8, 9])"
   ]
  },
  {
   "cell_type": "markdown",
   "metadata": {},
   "source": [
    "### Tests with \"bad\" labels"
   ]
  },
  {
   "cell_type": "code",
   "execution_count": 49,
   "metadata": {},
   "outputs": [
    {
     "data": {
      "text/plain": [
       "((10000, 10), (10000,), numpy.ndarray, numpy.ndarray)"
      ]
     },
     "execution_count": 49,
     "metadata": {},
     "output_type": "execute_result"
    }
   ],
   "source": [
    "\n",
    "X, y = make_blobs(n_samples=10000, n_features=10, centers=100,\n",
    "    random_state=0)\n",
    "\n",
    "X.shape, y.shape, type(X), type(y)"
   ]
  },
  {
   "cell_type": "code",
   "execution_count": 90,
   "metadata": {},
   "outputs": [
    {
     "data": {
      "text/plain": [
       "6"
      ]
     },
     "execution_count": 90,
     "metadata": {},
     "output_type": "execute_result"
    }
   ],
   "source": [
    "group_kfold = GroupKFold(n_splits=6)\n",
    "group_kfold.get_n_splits(X, y, [])"
   ]
  },
  {
   "cell_type": "code",
   "execution_count": 77,
   "metadata": {},
   "outputs": [
    {
     "name": "stdout",
     "output_type": "stream",
     "text": [
      "(562500,)\n",
      "(1085, 562500) (562500,) num padded: 155\n"
     ]
    }
   ],
   "source": [
    "files = glob.glob(\"Seg_Featured_Data/*.npy\")\n",
    "max_len = 250*250*9\n",
    "skip = 0\n",
    "flattened_test_load = np.zeros((max_len, ))\n",
    "print(flattened_test_load.shape)\n",
    "for fl in files:\n",
    "    test_load = np.load(fl, None, allow_pickle=True)\n",
    "    t = test_load.flatten()\n",
    "    t[t == np.inf] = 0.0\n",
    "    t[t == -np.inf] = 0.0\n",
    "    # print((t.shape[0]))\n",
    "    if t.shape[0] < max_len:\n",
    "        t= np.append(t,  [0]*(max_len-t.shape[0]), axis=0)\n",
    "        skip += 1\n",
    "\n",
    "    # flattened_test_load.append(np.float32(t))\n",
    "    flattened_test_load = np.vstack((flattened_test_load, t))\n",
    "\n",
    "print(flattened_test_load.shape,flattened_test_load[0].shape, \"num padded:\", skip)\n"
   ]
  },
  {
   "cell_type": "code",
   "execution_count": 82,
   "metadata": {},
   "outputs": [
    {
     "data": {
      "text/plain": [
       "562500"
      ]
     },
     "execution_count": 82,
     "metadata": {},
     "output_type": "execute_result"
    }
   ],
   "source": [
    "flattened_test_load.T.shape[0]"
   ]
  },
  {
   "cell_type": "code",
   "execution_count": 96,
   "metadata": {},
   "outputs": [
    {
     "name": "stdout",
     "output_type": "stream",
     "text": [
      "<class 'list'> 281250\n"
     ]
    }
   ],
   "source": [
    "labels = [0]*flattened_test_load.T.shape[0]\n",
    "m = flattened_test_load.T.shape[0]//2\n",
    "print(type(labels), m)\n",
    "labels[:10] = [1]*10\n",
    "labels = np.array(labels)\n",
    "# print((np.array(labels)).shape)\n",
    "# np.unique(labels)"
   ]
  },
  {
   "cell_type": "code",
   "execution_count": 97,
   "metadata": {},
   "outputs": [],
   "source": [
    "X_train, X_test, y_train, y_test = train_test_split(flattened_test_load.T, labels, test_size=0.33, random_state=42)"
   ]
  },
  {
   "cell_type": "code",
   "execution_count": 98,
   "metadata": {},
   "outputs": [
    {
     "data": {
      "text/html": [
       "<style>#sk-container-id-2 {color: black;background-color: white;}#sk-container-id-2 pre{padding: 0;}#sk-container-id-2 div.sk-toggleable {background-color: white;}#sk-container-id-2 label.sk-toggleable__label {cursor: pointer;display: block;width: 100%;margin-bottom: 0;padding: 0.3em;box-sizing: border-box;text-align: center;}#sk-container-id-2 label.sk-toggleable__label-arrow:before {content: \"▸\";float: left;margin-right: 0.25em;color: #696969;}#sk-container-id-2 label.sk-toggleable__label-arrow:hover:before {color: black;}#sk-container-id-2 div.sk-estimator:hover label.sk-toggleable__label-arrow:before {color: black;}#sk-container-id-2 div.sk-toggleable__content {max-height: 0;max-width: 0;overflow: hidden;text-align: left;background-color: #f0f8ff;}#sk-container-id-2 div.sk-toggleable__content pre {margin: 0.2em;color: black;border-radius: 0.25em;background-color: #f0f8ff;}#sk-container-id-2 input.sk-toggleable__control:checked~div.sk-toggleable__content {max-height: 200px;max-width: 100%;overflow: auto;}#sk-container-id-2 input.sk-toggleable__control:checked~label.sk-toggleable__label-arrow:before {content: \"▾\";}#sk-container-id-2 div.sk-estimator input.sk-toggleable__control:checked~label.sk-toggleable__label {background-color: #d4ebff;}#sk-container-id-2 div.sk-label input.sk-toggleable__control:checked~label.sk-toggleable__label {background-color: #d4ebff;}#sk-container-id-2 input.sk-hidden--visually {border: 0;clip: rect(1px 1px 1px 1px);clip: rect(1px, 1px, 1px, 1px);height: 1px;margin: -1px;overflow: hidden;padding: 0;position: absolute;width: 1px;}#sk-container-id-2 div.sk-estimator {font-family: monospace;background-color: #f0f8ff;border: 1px dotted black;border-radius: 0.25em;box-sizing: border-box;margin-bottom: 0.5em;}#sk-container-id-2 div.sk-estimator:hover {background-color: #d4ebff;}#sk-container-id-2 div.sk-parallel-item::after {content: \"\";width: 100%;border-bottom: 1px solid gray;flex-grow: 1;}#sk-container-id-2 div.sk-label:hover label.sk-toggleable__label {background-color: #d4ebff;}#sk-container-id-2 div.sk-serial::before {content: \"\";position: absolute;border-left: 1px solid gray;box-sizing: border-box;top: 0;bottom: 0;left: 50%;z-index: 0;}#sk-container-id-2 div.sk-serial {display: flex;flex-direction: column;align-items: center;background-color: white;padding-right: 0.2em;padding-left: 0.2em;position: relative;}#sk-container-id-2 div.sk-item {position: relative;z-index: 1;}#sk-container-id-2 div.sk-parallel {display: flex;align-items: stretch;justify-content: center;background-color: white;position: relative;}#sk-container-id-2 div.sk-item::before, #sk-container-id-2 div.sk-parallel-item::before {content: \"\";position: absolute;border-left: 1px solid gray;box-sizing: border-box;top: 0;bottom: 0;left: 50%;z-index: -1;}#sk-container-id-2 div.sk-parallel-item {display: flex;flex-direction: column;z-index: 1;position: relative;background-color: white;}#sk-container-id-2 div.sk-parallel-item:first-child::after {align-self: flex-end;width: 50%;}#sk-container-id-2 div.sk-parallel-item:last-child::after {align-self: flex-start;width: 50%;}#sk-container-id-2 div.sk-parallel-item:only-child::after {width: 0;}#sk-container-id-2 div.sk-dashed-wrapped {border: 1px dashed gray;margin: 0 0.4em 0.5em 0.4em;box-sizing: border-box;padding-bottom: 0.4em;background-color: white;}#sk-container-id-2 div.sk-label label {font-family: monospace;font-weight: bold;display: inline-block;line-height: 1.2em;}#sk-container-id-2 div.sk-label-container {text-align: center;}#sk-container-id-2 div.sk-container {/* jupyter's `normalize.less` sets `[hidden] { display: none; }` but bootstrap.min.css set `[hidden] { display: none !important; }` so we also need the `!important` here to be able to override the default hidden behavior on the sphinx rendered scikit-learn.org. See: https://github.com/scikit-learn/scikit-learn/issues/21755 */display: inline-block !important;position: relative;}#sk-container-id-2 div.sk-text-repr-fallback {display: none;}</style><div id=\"sk-container-id-2\" class=\"sk-top-container\"><div class=\"sk-text-repr-fallback\"><pre>RandomForestClassifier(n_estimators=10, random_state=0)</pre><b>In a Jupyter environment, please rerun this cell to show the HTML representation or trust the notebook. <br />On GitHub, the HTML representation is unable to render, please try loading this page with nbviewer.org.</b></div><div class=\"sk-container\" hidden><div class=\"sk-item\"><div class=\"sk-estimator sk-toggleable\"><input class=\"sk-toggleable__control sk-hidden--visually\" id=\"sk-estimator-id-2\" type=\"checkbox\" checked><label for=\"sk-estimator-id-2\" class=\"sk-toggleable__label sk-toggleable__label-arrow\">RandomForestClassifier</label><div class=\"sk-toggleable__content\"><pre>RandomForestClassifier(n_estimators=10, random_state=0)</pre></div></div></div></div></div>"
      ],
      "text/plain": [
       "RandomForestClassifier(n_estimators=10, random_state=0)"
      ]
     },
     "execution_count": 98,
     "metadata": {},
     "output_type": "execute_result"
    }
   ],
   "source": [
    "\n",
    "clf = RandomForestClassifier(n_estimators=10, max_depth=None,\n",
    "    min_samples_split=2, random_state=0)\n",
    "# scores = cross_val_score(clf, np.float32(flattened_test_load.T), labels, cv=2, groups=group_kfold)\n",
    "# scores.mean()\n",
    "\n",
    "clf.fit(X_train, y_train)\n"
   ]
  },
  {
   "cell_type": "code",
   "execution_count": 99,
   "metadata": {},
   "outputs": [
    {
     "data": {
      "text/plain": [
       "0.9999838383838384"
      ]
     },
     "execution_count": 99,
     "metadata": {},
     "output_type": "execute_result"
    }
   ],
   "source": [
    "clf.score(X_test, y_test)"
   ]
  },
  {
   "cell_type": "code",
   "execution_count": null,
   "metadata": {},
   "outputs": [],
   "source": []
  },
  {
   "cell_type": "code",
   "execution_count": 101,
   "metadata": {},
   "outputs": [
    {
     "data": {
      "text/html": [
       "<style>#sk-container-id-3 {color: black;background-color: white;}#sk-container-id-3 pre{padding: 0;}#sk-container-id-3 div.sk-toggleable {background-color: white;}#sk-container-id-3 label.sk-toggleable__label {cursor: pointer;display: block;width: 100%;margin-bottom: 0;padding: 0.3em;box-sizing: border-box;text-align: center;}#sk-container-id-3 label.sk-toggleable__label-arrow:before {content: \"▸\";float: left;margin-right: 0.25em;color: #696969;}#sk-container-id-3 label.sk-toggleable__label-arrow:hover:before {color: black;}#sk-container-id-3 div.sk-estimator:hover label.sk-toggleable__label-arrow:before {color: black;}#sk-container-id-3 div.sk-toggleable__content {max-height: 0;max-width: 0;overflow: hidden;text-align: left;background-color: #f0f8ff;}#sk-container-id-3 div.sk-toggleable__content pre {margin: 0.2em;color: black;border-radius: 0.25em;background-color: #f0f8ff;}#sk-container-id-3 input.sk-toggleable__control:checked~div.sk-toggleable__content {max-height: 200px;max-width: 100%;overflow: auto;}#sk-container-id-3 input.sk-toggleable__control:checked~label.sk-toggleable__label-arrow:before {content: \"▾\";}#sk-container-id-3 div.sk-estimator input.sk-toggleable__control:checked~label.sk-toggleable__label {background-color: #d4ebff;}#sk-container-id-3 div.sk-label input.sk-toggleable__control:checked~label.sk-toggleable__label {background-color: #d4ebff;}#sk-container-id-3 input.sk-hidden--visually {border: 0;clip: rect(1px 1px 1px 1px);clip: rect(1px, 1px, 1px, 1px);height: 1px;margin: -1px;overflow: hidden;padding: 0;position: absolute;width: 1px;}#sk-container-id-3 div.sk-estimator {font-family: monospace;background-color: #f0f8ff;border: 1px dotted black;border-radius: 0.25em;box-sizing: border-box;margin-bottom: 0.5em;}#sk-container-id-3 div.sk-estimator:hover {background-color: #d4ebff;}#sk-container-id-3 div.sk-parallel-item::after {content: \"\";width: 100%;border-bottom: 1px solid gray;flex-grow: 1;}#sk-container-id-3 div.sk-label:hover label.sk-toggleable__label {background-color: #d4ebff;}#sk-container-id-3 div.sk-serial::before {content: \"\";position: absolute;border-left: 1px solid gray;box-sizing: border-box;top: 0;bottom: 0;left: 50%;z-index: 0;}#sk-container-id-3 div.sk-serial {display: flex;flex-direction: column;align-items: center;background-color: white;padding-right: 0.2em;padding-left: 0.2em;position: relative;}#sk-container-id-3 div.sk-item {position: relative;z-index: 1;}#sk-container-id-3 div.sk-parallel {display: flex;align-items: stretch;justify-content: center;background-color: white;position: relative;}#sk-container-id-3 div.sk-item::before, #sk-container-id-3 div.sk-parallel-item::before {content: \"\";position: absolute;border-left: 1px solid gray;box-sizing: border-box;top: 0;bottom: 0;left: 50%;z-index: -1;}#sk-container-id-3 div.sk-parallel-item {display: flex;flex-direction: column;z-index: 1;position: relative;background-color: white;}#sk-container-id-3 div.sk-parallel-item:first-child::after {align-self: flex-end;width: 50%;}#sk-container-id-3 div.sk-parallel-item:last-child::after {align-self: flex-start;width: 50%;}#sk-container-id-3 div.sk-parallel-item:only-child::after {width: 0;}#sk-container-id-3 div.sk-dashed-wrapped {border: 1px dashed gray;margin: 0 0.4em 0.5em 0.4em;box-sizing: border-box;padding-bottom: 0.4em;background-color: white;}#sk-container-id-3 div.sk-label label {font-family: monospace;font-weight: bold;display: inline-block;line-height: 1.2em;}#sk-container-id-3 div.sk-label-container {text-align: center;}#sk-container-id-3 div.sk-container {/* jupyter's `normalize.less` sets `[hidden] { display: none; }` but bootstrap.min.css set `[hidden] { display: none !important; }` so we also need the `!important` here to be able to override the default hidden behavior on the sphinx rendered scikit-learn.org. See: https://github.com/scikit-learn/scikit-learn/issues/21755 */display: inline-block !important;position: relative;}#sk-container-id-3 div.sk-text-repr-fallback {display: none;}</style><div id=\"sk-container-id-3\" class=\"sk-top-container\"><div class=\"sk-text-repr-fallback\"><pre>RandomForestRegressor(n_estimators=10, random_state=0)</pre><b>In a Jupyter environment, please rerun this cell to show the HTML representation or trust the notebook. <br />On GitHub, the HTML representation is unable to render, please try loading this page with nbviewer.org.</b></div><div class=\"sk-container\" hidden><div class=\"sk-item\"><div class=\"sk-estimator sk-toggleable\"><input class=\"sk-toggleable__control sk-hidden--visually\" id=\"sk-estimator-id-3\" type=\"checkbox\" checked><label for=\"sk-estimator-id-3\" class=\"sk-toggleable__label sk-toggleable__label-arrow\">RandomForestRegressor</label><div class=\"sk-toggleable__content\"><pre>RandomForestRegressor(n_estimators=10, random_state=0)</pre></div></div></div></div></div>"
      ],
      "text/plain": [
       "RandomForestRegressor(n_estimators=10, random_state=0)"
      ]
     },
     "execution_count": 101,
     "metadata": {},
     "output_type": "execute_result"
    }
   ],
   "source": [
    "\n",
    "clfr = RandomForestRegressor(n_estimators=10, max_depth=None,\n",
    "    min_samples_split=2, random_state=0)\n",
    "# scores = cross_val_score(clf, np.float32(flattened_test_load.T), labels, cv=2, groups=group_kfold)\n",
    "# scores.mean()\n",
    "\n",
    "clfr.fit(X_train, y_train)\n"
   ]
  },
  {
   "cell_type": "code",
   "execution_count": 102,
   "metadata": {},
   "outputs": [
    {
     "data": {
      "text/plain": [
       "-0.1600201837877009"
      ]
     },
     "execution_count": 102,
     "metadata": {},
     "output_type": "execute_result"
    }
   ],
   "source": [
    "clfr.score(X_test,y_test)"
   ]
  },
  {
   "cell_type": "code",
   "execution_count": null,
   "metadata": {},
   "outputs": [],
   "source": []
  },
  {
   "cell_type": "markdown",
   "metadata": {},
   "source": [
    "### Clip\n"
   ]
  },
  {
   "cell_type": "code",
   "execution_count": null,
   "metadata": {},
   "outputs": [],
   "source": [
    "# from PIL import Image\n",
    "# import requests\n",
    "# from transformers import AutoProcessor, CLIPVisionModel\n",
    "\n",
    "# model = CLIPVisionModel.from_pretrained(\"openai/clip-vit-base-patch32\")\n",
    "# processor = AutoProcessor.from_pretrained(\"openai/clip-vit-base-patch32\")\n",
    "\n",
    "# url = \"http://images.cocodataset.org/val2017/000000039769.jpg\"\n",
    "# image = Image.open(requests.get(url, stream=True).raw)\n",
    "\n",
    "# inputs = processor(images=image, return_tensors=\"pt\")\n",
    "\n",
    "# outputs = model(**inputs)\n",
    "# last_hidden_state = outputs.last_hidden_state\n",
    "# pooled_output = outputs.pooler_output  # pooled CLS states"
   ]
  },
  {
   "cell_type": "code",
   "execution_count": null,
   "metadata": {},
   "outputs": [],
   "source": []
  },
  {
   "cell_type": "code",
   "execution_count": null,
   "metadata": {},
   "outputs": [],
   "source": []
  },
  {
   "cell_type": "code",
   "execution_count": null,
   "metadata": {},
   "outputs": [],
   "source": []
  }
 ],
 "metadata": {
  "kernelspec": {
   "display_name": "research",
   "language": "python",
   "name": "python3"
  },
  "language_info": {
   "codemirror_mode": {
    "name": "ipython",
    "version": 3
   },
   "file_extension": ".py",
   "mimetype": "text/x-python",
   "name": "python",
   "nbconvert_exporter": "python",
   "pygments_lexer": "ipython3",
   "version": "3.9.15"
  }
 },
 "nbformat": 4,
 "nbformat_minor": 2
}
