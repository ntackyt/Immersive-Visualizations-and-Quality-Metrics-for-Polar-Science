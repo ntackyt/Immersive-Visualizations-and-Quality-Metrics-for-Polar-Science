{
 "cells": [
  {
   "cell_type": "code",
   "execution_count": 61,
   "id": "df3e824f",
   "metadata": {},
   "outputs": [],
   "source": [
    "# Import all necessary modules\n",
    "import numpy as np\n",
    "import matplotlib.pyplot as plt\n",
    "import glob, json\n",
    "from sklearn.model_selection import train_test_split\n",
    "from sklearn.metrics import mean_absolute_error\n",
    "from sklearn.metrics import mean_squared_error\n",
    "from sklearn.linear_model import LinearRegression\n",
    "from sklearn.svm import SVR\n",
    "from xgboost import XGBRegressor\n",
    "from sklearn.model_selection import RandomizedSearchCV\n",
    "from sklearn.metrics import r2_score\n",
    "from sklearn.metrics import confusion_matrix\n",
    "\n",
    "from sklearn.metrics import balanced_accuracy_score\n",
    "from sklearn.model_selection import cross_val_score\n",
    "from sklearn.metrics import classification_report"
   ]
  },
  {
   "cell_type": "code",
   "execution_count": null,
   "id": "b7442829",
   "metadata": {},
   "outputs": [],
   "source": []
  },
  {
   "cell_type": "code",
   "execution_count": 4,
   "id": "1ac5f0a1",
   "metadata": {},
   "outputs": [
    {
     "name": "stdout",
     "output_type": "stream",
     "text": [
      "743\n",
      "743\n"
     ]
    }
   ],
   "source": [
    "# Load file names and labels for the processed data\n",
    "data_folder_prefix = \"250x250/Seg_Featured_\"\n",
    "\n",
    "with open(\"250x250/data_labels.json\", 'r') as json_file:\n",
    "    label_dict = json.load(json_file)\n",
    "\n",
    "\n",
    "file_names = list(label_dict.keys())\n",
    "print(len(file_names))\n",
    "\n",
    "labels = []\n",
    "for fl in file_names:\n",
    "    labels.append(label_dict[fl])\n",
    "print(len(labels))\n",
    "files = [data_folder_prefix+x+\".npy\" for x in file_names]"
   ]
  },
  {
   "cell_type": "code",
   "execution_count": 5,
   "id": "01a9cba5",
   "metadata": {},
   "outputs": [
    {
     "name": "stdout",
     "output_type": "stream",
     "text": [
      "(62507,)\n",
      "(744, 62507) (62507,) num padded: 106\n"
     ]
    },
    {
     "data": {
      "text/plain": [
       "((743, 62507), 743)"
      ]
     },
     "execution_count": 5,
     "metadata": {},
     "output_type": "execute_result"
    }
   ],
   "source": [
    "# Revised \n",
    "\n",
    "# files = glob.glob(\"Seg_Featured_Data/*.npy\")\n",
    "max_len = 250*250+7\n",
    "num_padded = 0\n",
    "flattened_test_load = np.zeros((max_len, ))\n",
    "print(flattened_test_load.shape)\n",
    "\n",
    "for fl in files:\n",
    "    test_load = np.load(fl, None, allow_pickle=True)\n",
    "    y,x,_ = test_load.shape\n",
    "\n",
    "    # Ignore depth 0\n",
    "    # Keep all Depth 1\n",
    "    #  if the x,y is less than 250x50 pad w 0s\n",
    "    layers_depth = test_load[:,:,1]\n",
    "    # print(layers_depth.shape)\n",
    "    if x < 250:\n",
    "        layers_depth = np.hstack((layers_depth, np.zeros((y, y-x))))\n",
    "        num_padded +=1\n",
    "    if y < 250:\n",
    "        layers_depth = np.hstack((layers_depth, np.zeros((250-y, 250))))\n",
    "    layers_depth = layers_depth.flatten()\n",
    "    # print(layers_depth.shape)\n",
    "\n",
    "\n",
    "    # Get the metrics from the other depths\n",
    "    vl, ct = np.unique(test_load[:,:,5], return_counts=True)\n",
    "    if len(ct)>1:\n",
    "        num_bp = ct[1]\n",
    "    else:\n",
    "        num_bp = 0\n",
    "\n",
    "    # print(\"conected components (mean, std)\", np.mean(test_load[:y//10-1,:x//10-1,2]), np.std(test_load[:y//10-1,:x//10-1,2]))\n",
    "    # print(\"orientaiton (mean, std)\", np.mean(test_load[:y//10-1,:x//10-1,3]), np.std(test_load[:y//10-1,:x//10-1,3]))\n",
    "    # print(\"mean orientaiton (mean, std)\", np.mean(test_load[:250//10-1,:250//10-1,4]), np.std(test_load[:250//10-1,:250//10-1,4]))\n",
    "    # print(\"num breakpoints\",num_bp)\n",
    "    # print(\"dist map (mean, std)\", np.mean(test_load[:,:,6]), np.std(test_load[:,:,6]))\n",
    "\n",
    "    data= np.append(layers_depth, [np.mean(test_load[:y//10-1,:x//10-1,2]), np.std(test_load[:y//10-1,:x//10-1,2]),\n",
    "                                    np.mean(test_load[:y//10-1,:x//10-1,3]), np.std(test_load[:y//10-1,:x//10-1,3]),\n",
    "                                    num_bp,\n",
    "                                    np.mean(test_load[:,:,6]), np.std(test_load[:,:,6])])\n",
    "\n",
    "    # print(data.shape)\n",
    "    flattened_test_load = np.vstack((flattened_test_load, data))\n",
    "\n",
    "print(flattened_test_load.shape,flattened_test_load[0].shape, \"num padded:\", num_padded)\n",
    "\n",
    "flattened_data = flattened_test_load[1:,:]\n",
    "flattened_data.shape, len(labels)\n"
   ]
  },
  {
   "cell_type": "code",
   "execution_count": 62,
   "id": "2622e595",
   "metadata": {},
   "outputs": [],
   "source": [
    "X_train, X_test, y_train, y_test = train_test_split(flattened_data, labels, test_size=0.2)"
   ]
  },
  {
   "cell_type": "code",
   "execution_count": 63,
   "id": "e322b485",
   "metadata": {},
   "outputs": [
    {
     "name": "stdout",
     "output_type": "stream",
     "text": [
      "(594, 62507)\n",
      "(149, 62507)\n",
      "594\n",
      "149\n"
     ]
    }
   ],
   "source": [
    "print(X_train.shape)\n",
    "print(X_test.shape)\n",
    "print(len(y_train))\n",
    "print(len(y_test))"
   ]
  },
  {
   "cell_type": "code",
   "execution_count": 64,
   "id": "3d5570be",
   "metadata": {},
   "outputs": [],
   "source": [
    "def mse(y_true, y_pred):\n",
    "    return np.average(np.square(np.subtract(y_true, y_pred)))"
   ]
  },
  {
   "cell_type": "code",
   "execution_count": 65,
   "id": "7ea8829f",
   "metadata": {},
   "outputs": [],
   "source": [
    "def rmse(y_true, y_pred):\n",
    "    return np.sqrt(np.average(np.square(np.subtract(y_true, y_pred))))"
   ]
  },
  {
   "cell_type": "code",
   "execution_count": 66,
   "id": "420d677f",
   "metadata": {},
   "outputs": [],
   "source": [
    "def mae(y_true, y_pred):\n",
    "    return np.average(np.absolute(np.subtract(y_true, y_pred)))"
   ]
  },
  {
   "cell_type": "code",
   "execution_count": 67,
   "id": "4cd55687",
   "metadata": {},
   "outputs": [
    {
     "data": {
      "text/html": [
       "<style>#sk-container-id-4 {color: black;}#sk-container-id-4 pre{padding: 0;}#sk-container-id-4 div.sk-toggleable {background-color: white;}#sk-container-id-4 label.sk-toggleable__label {cursor: pointer;display: block;width: 100%;margin-bottom: 0;padding: 0.3em;box-sizing: border-box;text-align: center;}#sk-container-id-4 label.sk-toggleable__label-arrow:before {content: \"▸\";float: left;margin-right: 0.25em;color: #696969;}#sk-container-id-4 label.sk-toggleable__label-arrow:hover:before {color: black;}#sk-container-id-4 div.sk-estimator:hover label.sk-toggleable__label-arrow:before {color: black;}#sk-container-id-4 div.sk-toggleable__content {max-height: 0;max-width: 0;overflow: hidden;text-align: left;background-color: #f0f8ff;}#sk-container-id-4 div.sk-toggleable__content pre {margin: 0.2em;color: black;border-radius: 0.25em;background-color: #f0f8ff;}#sk-container-id-4 input.sk-toggleable__control:checked~div.sk-toggleable__content {max-height: 200px;max-width: 100%;overflow: auto;}#sk-container-id-4 input.sk-toggleable__control:checked~label.sk-toggleable__label-arrow:before {content: \"▾\";}#sk-container-id-4 div.sk-estimator input.sk-toggleable__control:checked~label.sk-toggleable__label {background-color: #d4ebff;}#sk-container-id-4 div.sk-label input.sk-toggleable__control:checked~label.sk-toggleable__label {background-color: #d4ebff;}#sk-container-id-4 input.sk-hidden--visually {border: 0;clip: rect(1px 1px 1px 1px);clip: rect(1px, 1px, 1px, 1px);height: 1px;margin: -1px;overflow: hidden;padding: 0;position: absolute;width: 1px;}#sk-container-id-4 div.sk-estimator {font-family: monospace;background-color: #f0f8ff;border: 1px dotted black;border-radius: 0.25em;box-sizing: border-box;margin-bottom: 0.5em;}#sk-container-id-4 div.sk-estimator:hover {background-color: #d4ebff;}#sk-container-id-4 div.sk-parallel-item::after {content: \"\";width: 100%;border-bottom: 1px solid gray;flex-grow: 1;}#sk-container-id-4 div.sk-label:hover label.sk-toggleable__label {background-color: #d4ebff;}#sk-container-id-4 div.sk-serial::before {content: \"\";position: absolute;border-left: 1px solid gray;box-sizing: border-box;top: 0;bottom: 0;left: 50%;z-index: 0;}#sk-container-id-4 div.sk-serial {display: flex;flex-direction: column;align-items: center;background-color: white;padding-right: 0.2em;padding-left: 0.2em;position: relative;}#sk-container-id-4 div.sk-item {position: relative;z-index: 1;}#sk-container-id-4 div.sk-parallel {display: flex;align-items: stretch;justify-content: center;background-color: white;position: relative;}#sk-container-id-4 div.sk-item::before, #sk-container-id-4 div.sk-parallel-item::before {content: \"\";position: absolute;border-left: 1px solid gray;box-sizing: border-box;top: 0;bottom: 0;left: 50%;z-index: -1;}#sk-container-id-4 div.sk-parallel-item {display: flex;flex-direction: column;z-index: 1;position: relative;background-color: white;}#sk-container-id-4 div.sk-parallel-item:first-child::after {align-self: flex-end;width: 50%;}#sk-container-id-4 div.sk-parallel-item:last-child::after {align-self: flex-start;width: 50%;}#sk-container-id-4 div.sk-parallel-item:only-child::after {width: 0;}#sk-container-id-4 div.sk-dashed-wrapped {border: 1px dashed gray;margin: 0 0.4em 0.5em 0.4em;box-sizing: border-box;padding-bottom: 0.4em;background-color: white;}#sk-container-id-4 div.sk-label label {font-family: monospace;font-weight: bold;display: inline-block;line-height: 1.2em;}#sk-container-id-4 div.sk-label-container {text-align: center;}#sk-container-id-4 div.sk-container {/* jupyter's `normalize.less` sets `[hidden] { display: none; }` but bootstrap.min.css set `[hidden] { display: none !important; }` so we also need the `!important` here to be able to override the default hidden behavior on the sphinx rendered scikit-learn.org. See: https://github.com/scikit-learn/scikit-learn/issues/21755 */display: inline-block !important;position: relative;}#sk-container-id-4 div.sk-text-repr-fallback {display: none;}</style><div id=\"sk-container-id-4\" class=\"sk-top-container\"><div class=\"sk-text-repr-fallback\"><pre>LinearRegression()</pre><b>In a Jupyter environment, please rerun this cell to show the HTML representation or trust the notebook. <br />On GitHub, the HTML representation is unable to render, please try loading this page with nbviewer.org.</b></div><div class=\"sk-container\" hidden><div class=\"sk-item\"><div class=\"sk-estimator sk-toggleable\"><input class=\"sk-toggleable__control sk-hidden--visually\" id=\"sk-estimator-id-4\" type=\"checkbox\" checked><label for=\"sk-estimator-id-4\" class=\"sk-toggleable__label sk-toggleable__label-arrow\">LinearRegression</label><div class=\"sk-toggleable__content\"><pre>LinearRegression()</pre></div></div></div></div></div>"
      ],
      "text/plain": [
       "LinearRegression()"
      ]
     },
     "execution_count": 67,
     "metadata": {},
     "output_type": "execute_result"
    }
   ],
   "source": [
    "# Build a LinearRegression model and train it on (X_train, y_train)\n",
    "lin_reg = LinearRegression()\n",
    "lin_reg.fit(X_train, y_train)"
   ]
  },
  {
   "cell_type": "code",
   "execution_count": 68,
   "id": "efe606a0",
   "metadata": {},
   "outputs": [
    {
     "name": "stdout",
     "output_type": "stream",
     "text": [
      "Linear Regression MAE 1.0978241448600956\n",
      "Linear Regression MSE 1.8234355376908475\n"
     ]
    }
   ],
   "source": [
    "# Test lin_reg on X_test\n",
    "y_pred_lin_reg = lin_reg.predict(X_test)\n",
    "\n",
    "mae_lin_reg = mean_absolute_error(y_test, y_pred_lin_reg)\n",
    "print('Linear Regression MAE', mae_lin_reg)\n",
    "\n",
    "mse_lin_reg = mean_squared_error(y_test, y_pred_lin_reg)\n",
    "print('Linear Regression MSE', mse_lin_reg)"
   ]
  },
  {
   "cell_type": "code",
   "execution_count": null,
   "id": "f920224f",
   "metadata": {},
   "outputs": [],
   "source": []
  },
  {
   "cell_type": "code",
   "execution_count": 69,
   "id": "7f5eadea",
   "metadata": {},
   "outputs": [
    {
     "data": {
      "text/html": [
       "<style>#sk-container-id-5 {color: black;}#sk-container-id-5 pre{padding: 0;}#sk-container-id-5 div.sk-toggleable {background-color: white;}#sk-container-id-5 label.sk-toggleable__label {cursor: pointer;display: block;width: 100%;margin-bottom: 0;padding: 0.3em;box-sizing: border-box;text-align: center;}#sk-container-id-5 label.sk-toggleable__label-arrow:before {content: \"▸\";float: left;margin-right: 0.25em;color: #696969;}#sk-container-id-5 label.sk-toggleable__label-arrow:hover:before {color: black;}#sk-container-id-5 div.sk-estimator:hover label.sk-toggleable__label-arrow:before {color: black;}#sk-container-id-5 div.sk-toggleable__content {max-height: 0;max-width: 0;overflow: hidden;text-align: left;background-color: #f0f8ff;}#sk-container-id-5 div.sk-toggleable__content pre {margin: 0.2em;color: black;border-radius: 0.25em;background-color: #f0f8ff;}#sk-container-id-5 input.sk-toggleable__control:checked~div.sk-toggleable__content {max-height: 200px;max-width: 100%;overflow: auto;}#sk-container-id-5 input.sk-toggleable__control:checked~label.sk-toggleable__label-arrow:before {content: \"▾\";}#sk-container-id-5 div.sk-estimator input.sk-toggleable__control:checked~label.sk-toggleable__label {background-color: #d4ebff;}#sk-container-id-5 div.sk-label input.sk-toggleable__control:checked~label.sk-toggleable__label {background-color: #d4ebff;}#sk-container-id-5 input.sk-hidden--visually {border: 0;clip: rect(1px 1px 1px 1px);clip: rect(1px, 1px, 1px, 1px);height: 1px;margin: -1px;overflow: hidden;padding: 0;position: absolute;width: 1px;}#sk-container-id-5 div.sk-estimator {font-family: monospace;background-color: #f0f8ff;border: 1px dotted black;border-radius: 0.25em;box-sizing: border-box;margin-bottom: 0.5em;}#sk-container-id-5 div.sk-estimator:hover {background-color: #d4ebff;}#sk-container-id-5 div.sk-parallel-item::after {content: \"\";width: 100%;border-bottom: 1px solid gray;flex-grow: 1;}#sk-container-id-5 div.sk-label:hover label.sk-toggleable__label {background-color: #d4ebff;}#sk-container-id-5 div.sk-serial::before {content: \"\";position: absolute;border-left: 1px solid gray;box-sizing: border-box;top: 0;bottom: 0;left: 50%;z-index: 0;}#sk-container-id-5 div.sk-serial {display: flex;flex-direction: column;align-items: center;background-color: white;padding-right: 0.2em;padding-left: 0.2em;position: relative;}#sk-container-id-5 div.sk-item {position: relative;z-index: 1;}#sk-container-id-5 div.sk-parallel {display: flex;align-items: stretch;justify-content: center;background-color: white;position: relative;}#sk-container-id-5 div.sk-item::before, #sk-container-id-5 div.sk-parallel-item::before {content: \"\";position: absolute;border-left: 1px solid gray;box-sizing: border-box;top: 0;bottom: 0;left: 50%;z-index: -1;}#sk-container-id-5 div.sk-parallel-item {display: flex;flex-direction: column;z-index: 1;position: relative;background-color: white;}#sk-container-id-5 div.sk-parallel-item:first-child::after {align-self: flex-end;width: 50%;}#sk-container-id-5 div.sk-parallel-item:last-child::after {align-self: flex-start;width: 50%;}#sk-container-id-5 div.sk-parallel-item:only-child::after {width: 0;}#sk-container-id-5 div.sk-dashed-wrapped {border: 1px dashed gray;margin: 0 0.4em 0.5em 0.4em;box-sizing: border-box;padding-bottom: 0.4em;background-color: white;}#sk-container-id-5 div.sk-label label {font-family: monospace;font-weight: bold;display: inline-block;line-height: 1.2em;}#sk-container-id-5 div.sk-label-container {text-align: center;}#sk-container-id-5 div.sk-container {/* jupyter's `normalize.less` sets `[hidden] { display: none; }` but bootstrap.min.css set `[hidden] { display: none !important; }` so we also need the `!important` here to be able to override the default hidden behavior on the sphinx rendered scikit-learn.org. See: https://github.com/scikit-learn/scikit-learn/issues/21755 */display: inline-block !important;position: relative;}#sk-container-id-5 div.sk-text-repr-fallback {display: none;}</style><div id=\"sk-container-id-5\" class=\"sk-top-container\"><div class=\"sk-text-repr-fallback\"><pre>SVR(kernel=&#x27;linear&#x27;)</pre><b>In a Jupyter environment, please rerun this cell to show the HTML representation or trust the notebook. <br />On GitHub, the HTML representation is unable to render, please try loading this page with nbviewer.org.</b></div><div class=\"sk-container\" hidden><div class=\"sk-item\"><div class=\"sk-estimator sk-toggleable\"><input class=\"sk-toggleable__control sk-hidden--visually\" id=\"sk-estimator-id-5\" type=\"checkbox\" checked><label for=\"sk-estimator-id-5\" class=\"sk-toggleable__label sk-toggleable__label-arrow\">SVR</label><div class=\"sk-toggleable__content\"><pre>SVR(kernel=&#x27;linear&#x27;)</pre></div></div></div></div></div>"
      ],
      "text/plain": [
       "SVR(kernel='linear')"
      ]
     },
     "execution_count": 69,
     "metadata": {},
     "output_type": "execute_result"
    }
   ],
   "source": [
    "# Build a SVR (SVM Regression) model and train it on (X_train, y_train), kernel should be 'linear'\n",
    "svr = SVR(kernel='linear')\n",
    "svr.fit(X_train, y_train)"
   ]
  },
  {
   "cell_type": "code",
   "execution_count": 70,
   "id": "d977b7bc",
   "metadata": {},
   "outputs": [],
   "source": [
    "# Test svr\n",
    "y_pred_svr = svr.predict(X_test)"
   ]
  },
  {
   "cell_type": "code",
   "execution_count": 71,
   "id": "db5544eb",
   "metadata": {},
   "outputs": [
    {
     "name": "stdout",
     "output_type": "stream",
     "text": [
      "SRV MAE 1.0761748009957635\n",
      "SRV MSE 1.7460572011986784\n"
     ]
    }
   ],
   "source": [
    "# Test lin_reg on X_test\n",
    "y_pred_svr = svr.predict(X_test)\n",
    "\n",
    "mae_srv = mean_absolute_error(y_test, y_pred_svr)\n",
    "print('SRV MAE', mae_srv)\n",
    "\n",
    "mse_srv = mean_squared_error(y_test, y_pred_svr)\n",
    "print('SRV MSE', mse_srv)"
   ]
  },
  {
   "cell_type": "code",
   "execution_count": null,
   "id": "5e6f00f5",
   "metadata": {},
   "outputs": [],
   "source": []
  },
  {
   "cell_type": "code",
   "execution_count": 72,
   "id": "7d647b20",
   "metadata": {},
   "outputs": [
    {
     "data": {
      "text/html": [
       "<style>#sk-container-id-6 {color: black;}#sk-container-id-6 pre{padding: 0;}#sk-container-id-6 div.sk-toggleable {background-color: white;}#sk-container-id-6 label.sk-toggleable__label {cursor: pointer;display: block;width: 100%;margin-bottom: 0;padding: 0.3em;box-sizing: border-box;text-align: center;}#sk-container-id-6 label.sk-toggleable__label-arrow:before {content: \"▸\";float: left;margin-right: 0.25em;color: #696969;}#sk-container-id-6 label.sk-toggleable__label-arrow:hover:before {color: black;}#sk-container-id-6 div.sk-estimator:hover label.sk-toggleable__label-arrow:before {color: black;}#sk-container-id-6 div.sk-toggleable__content {max-height: 0;max-width: 0;overflow: hidden;text-align: left;background-color: #f0f8ff;}#sk-container-id-6 div.sk-toggleable__content pre {margin: 0.2em;color: black;border-radius: 0.25em;background-color: #f0f8ff;}#sk-container-id-6 input.sk-toggleable__control:checked~div.sk-toggleable__content {max-height: 200px;max-width: 100%;overflow: auto;}#sk-container-id-6 input.sk-toggleable__control:checked~label.sk-toggleable__label-arrow:before {content: \"▾\";}#sk-container-id-6 div.sk-estimator input.sk-toggleable__control:checked~label.sk-toggleable__label {background-color: #d4ebff;}#sk-container-id-6 div.sk-label input.sk-toggleable__control:checked~label.sk-toggleable__label {background-color: #d4ebff;}#sk-container-id-6 input.sk-hidden--visually {border: 0;clip: rect(1px 1px 1px 1px);clip: rect(1px, 1px, 1px, 1px);height: 1px;margin: -1px;overflow: hidden;padding: 0;position: absolute;width: 1px;}#sk-container-id-6 div.sk-estimator {font-family: monospace;background-color: #f0f8ff;border: 1px dotted black;border-radius: 0.25em;box-sizing: border-box;margin-bottom: 0.5em;}#sk-container-id-6 div.sk-estimator:hover {background-color: #d4ebff;}#sk-container-id-6 div.sk-parallel-item::after {content: \"\";width: 100%;border-bottom: 1px solid gray;flex-grow: 1;}#sk-container-id-6 div.sk-label:hover label.sk-toggleable__label {background-color: #d4ebff;}#sk-container-id-6 div.sk-serial::before {content: \"\";position: absolute;border-left: 1px solid gray;box-sizing: border-box;top: 0;bottom: 0;left: 50%;z-index: 0;}#sk-container-id-6 div.sk-serial {display: flex;flex-direction: column;align-items: center;background-color: white;padding-right: 0.2em;padding-left: 0.2em;position: relative;}#sk-container-id-6 div.sk-item {position: relative;z-index: 1;}#sk-container-id-6 div.sk-parallel {display: flex;align-items: stretch;justify-content: center;background-color: white;position: relative;}#sk-container-id-6 div.sk-item::before, #sk-container-id-6 div.sk-parallel-item::before {content: \"\";position: absolute;border-left: 1px solid gray;box-sizing: border-box;top: 0;bottom: 0;left: 50%;z-index: -1;}#sk-container-id-6 div.sk-parallel-item {display: flex;flex-direction: column;z-index: 1;position: relative;background-color: white;}#sk-container-id-6 div.sk-parallel-item:first-child::after {align-self: flex-end;width: 50%;}#sk-container-id-6 div.sk-parallel-item:last-child::after {align-self: flex-start;width: 50%;}#sk-container-id-6 div.sk-parallel-item:only-child::after {width: 0;}#sk-container-id-6 div.sk-dashed-wrapped {border: 1px dashed gray;margin: 0 0.4em 0.5em 0.4em;box-sizing: border-box;padding-bottom: 0.4em;background-color: white;}#sk-container-id-6 div.sk-label label {font-family: monospace;font-weight: bold;display: inline-block;line-height: 1.2em;}#sk-container-id-6 div.sk-label-container {text-align: center;}#sk-container-id-6 div.sk-container {/* jupyter's `normalize.less` sets `[hidden] { display: none; }` but bootstrap.min.css set `[hidden] { display: none !important; }` so we also need the `!important` here to be able to override the default hidden behavior on the sphinx rendered scikit-learn.org. See: https://github.com/scikit-learn/scikit-learn/issues/21755 */display: inline-block !important;position: relative;}#sk-container-id-6 div.sk-text-repr-fallback {display: none;}</style><div id=\"sk-container-id-6\" class=\"sk-top-container\"><div class=\"sk-text-repr-fallback\"><pre>XGBRegressor(base_score=None, booster=None, callbacks=None,\n",
       "             colsample_bylevel=None, colsample_bynode=None,\n",
       "             colsample_bytree=None, device=None, early_stopping_rounds=None,\n",
       "             enable_categorical=False, eval_metric=None, feature_types=None,\n",
       "             gamma=None, grow_policy=None, importance_type=None,\n",
       "             interaction_constraints=None, learning_rate=None, max_bin=None,\n",
       "             max_cat_threshold=None, max_cat_to_onehot=None,\n",
       "             max_delta_step=None, max_depth=None, max_leaves=None,\n",
       "             min_child_weight=None, missing=nan, monotone_constraints=None,\n",
       "             multi_strategy=None, n_estimators=None, n_jobs=None,\n",
       "             num_parallel_tree=None, random_state=None, ...)</pre><b>In a Jupyter environment, please rerun this cell to show the HTML representation or trust the notebook. <br />On GitHub, the HTML representation is unable to render, please try loading this page with nbviewer.org.</b></div><div class=\"sk-container\" hidden><div class=\"sk-item\"><div class=\"sk-estimator sk-toggleable\"><input class=\"sk-toggleable__control sk-hidden--visually\" id=\"sk-estimator-id-6\" type=\"checkbox\" checked><label for=\"sk-estimator-id-6\" class=\"sk-toggleable__label sk-toggleable__label-arrow\">XGBRegressor</label><div class=\"sk-toggleable__content\"><pre>XGBRegressor(base_score=None, booster=None, callbacks=None,\n",
       "             colsample_bylevel=None, colsample_bynode=None,\n",
       "             colsample_bytree=None, device=None, early_stopping_rounds=None,\n",
       "             enable_categorical=False, eval_metric=None, feature_types=None,\n",
       "             gamma=None, grow_policy=None, importance_type=None,\n",
       "             interaction_constraints=None, learning_rate=None, max_bin=None,\n",
       "             max_cat_threshold=None, max_cat_to_onehot=None,\n",
       "             max_delta_step=None, max_depth=None, max_leaves=None,\n",
       "             min_child_weight=None, missing=nan, monotone_constraints=None,\n",
       "             multi_strategy=None, n_estimators=None, n_jobs=None,\n",
       "             num_parallel_tree=None, random_state=None, ...)</pre></div></div></div></div></div>"
      ],
      "text/plain": [
       "XGBRegressor(base_score=None, booster=None, callbacks=None,\n",
       "             colsample_bylevel=None, colsample_bynode=None,\n",
       "             colsample_bytree=None, device=None, early_stopping_rounds=None,\n",
       "             enable_categorical=False, eval_metric=None, feature_types=None,\n",
       "             gamma=None, grow_policy=None, importance_type=None,\n",
       "             interaction_constraints=None, learning_rate=None, max_bin=None,\n",
       "             max_cat_threshold=None, max_cat_to_onehot=None,\n",
       "             max_delta_step=None, max_depth=None, max_leaves=None,\n",
       "             min_child_weight=None, missing=nan, monotone_constraints=None,\n",
       "             multi_strategy=None, n_estimators=None, n_jobs=None,\n",
       "             num_parallel_tree=None, random_state=None, ...)"
      ]
     },
     "execution_count": 72,
     "metadata": {},
     "output_type": "execute_result"
    }
   ],
   "source": [
    "# Build a xgb regression model and train it on (X_train, y_train)\n",
    "xgb_reg = XGBRegressor(objective ='reg:squarederror')\n",
    "xgb_reg.fit(X_train, y_train)"
   ]
  },
  {
   "cell_type": "code",
   "execution_count": 73,
   "id": "19b806b5",
   "metadata": {},
   "outputs": [
    {
     "name": "stdout",
     "output_type": "stream",
     "text": [
      "SRV MAE 0.43659789232348073\n",
      "SRV MSE 0.36365495153061933\n"
     ]
    }
   ],
   "source": [
    "# Test xgb_reg\n",
    "y_pred_xgb = xgb_reg.predict(X_test)\n",
    "\n",
    "\n",
    "mae_xgb = mean_absolute_error(y_test, y_pred_xgb)\n",
    "print('SRV MAE', mae_xgb)\n",
    "\n",
    "mse_xgb = mean_squared_error(y_test, y_pred_xgb)\n",
    "print('SRV MSE', mse_xgb)"
   ]
  },
  {
   "cell_type": "code",
   "execution_count": 84,
   "id": "0962329d",
   "metadata": {},
   "outputs": [],
   "source": [
    "y_pred_xgb10 = np.rint(y_pred_xgb)"
   ]
  },
  {
   "cell_type": "code",
   "execution_count": 85,
   "id": "8dcebba3",
   "metadata": {},
   "outputs": [],
   "source": [
    "y_test10 = np.rint(y_test)"
   ]
  },
  {
   "cell_type": "code",
   "execution_count": 86,
   "id": "4e5ed034",
   "metadata": {},
   "outputs": [
    {
     "data": {
      "text/plain": [
       "array([[ 6,  1,  1,  1,  0],\n",
       "       [ 2,  2,  0,  0,  0],\n",
       "       [ 0,  0,  0,  1,  2],\n",
       "       [ 0,  0,  1,  7, 22],\n",
       "       [ 0,  0,  0, 21, 82]], dtype=int64)"
      ]
     },
     "execution_count": 86,
     "metadata": {},
     "output_type": "execute_result"
    }
   ],
   "source": [
    "confusion_matrix(y_test10, y_pred_xgb10)"
   ]
  },
  {
   "cell_type": "code",
   "execution_count": 87,
   "id": "43ad2f90",
   "metadata": {},
   "outputs": [
    {
     "name": "stdout",
     "output_type": "stream",
     "text": [
      "0.4392233009708738\n"
     ]
    }
   ],
   "source": [
    "balanced_acc = balanced_accuracy_score(y_test10, y_pred_xgb10)\n",
    "print(balanced_acc)"
   ]
  },
  {
   "cell_type": "code",
   "execution_count": 88,
   "id": "199c965c",
   "metadata": {},
   "outputs": [
    {
     "name": "stdout",
     "output_type": "stream",
     "text": [
      "              precision    recall  f1-score   support\n",
      "\n",
      "         0.0       1.00      1.00      1.00         1\n",
      "         1.0       1.00      1.00      1.00         1\n",
      "         2.0       0.00      0.00      0.00         1\n",
      "         3.0       0.33      1.00      0.50         1\n",
      "         4.0       1.00      0.83      0.91         6\n",
      "\n",
      "    accuracy                           0.80        10\n",
      "   macro avg       0.67      0.77      0.68        10\n",
      "weighted avg       0.83      0.80      0.80        10\n",
      "\n"
     ]
    },
    {
     "name": "stderr",
     "output_type": "stream",
     "text": [
      "C:\\Users\\lukez\\anaconda3\\envs\\ComputerVision\\lib\\site-packages\\sklearn\\metrics\\_classification.py:1471: UndefinedMetricWarning: Precision and F-score are ill-defined and being set to 0.0 in labels with no predicted samples. Use `zero_division` parameter to control this behavior.\n",
      "  _warn_prf(average, modifier, msg_start, len(result))\n",
      "C:\\Users\\lukez\\anaconda3\\envs\\ComputerVision\\lib\\site-packages\\sklearn\\metrics\\_classification.py:1471: UndefinedMetricWarning: Precision and F-score are ill-defined and being set to 0.0 in labels with no predicted samples. Use `zero_division` parameter to control this behavior.\n",
      "  _warn_prf(average, modifier, msg_start, len(result))\n",
      "C:\\Users\\lukez\\anaconda3\\envs\\ComputerVision\\lib\\site-packages\\sklearn\\metrics\\_classification.py:1471: UndefinedMetricWarning: Precision and F-score are ill-defined and being set to 0.0 in labels with no predicted samples. Use `zero_division` parameter to control this behavior.\n",
      "  _warn_prf(average, modifier, msg_start, len(result))\n"
     ]
    }
   ],
   "source": [
    "print(classification_report(y_test10, y_pred_xgb10))"
   ]
  },
  {
   "cell_type": "code",
   "execution_count": 89,
   "id": "59cbb879",
   "metadata": {},
   "outputs": [
    {
     "name": "stdout",
     "output_type": "stream",
     "text": [
      "[4. 4. 4. 2. 1. 4. 4. 4. 0. 3.]\n"
     ]
    }
   ],
   "source": [
    "print(y_test10[0:10])"
   ]
  },
  {
   "cell_type": "code",
   "execution_count": 90,
   "id": "60787f59",
   "metadata": {},
   "outputs": [
    {
     "name": "stdout",
     "output_type": "stream",
     "text": [
      "[ 4.  4.  4.  3.  1.  4.  4.  3. -0.  3.]\n"
     ]
    }
   ],
   "source": [
    "print(y_pred_xgb10[0:10])"
   ]
  },
  {
   "cell_type": "code",
   "execution_count": null,
   "id": "5bd298de",
   "metadata": {},
   "outputs": [],
   "source": []
  },
  {
   "cell_type": "code",
   "execution_count": null,
   "id": "f242ab9e",
   "metadata": {},
   "outputs": [],
   "source": []
  },
  {
   "cell_type": "code",
   "execution_count": null,
   "id": "5045efee",
   "metadata": {},
   "outputs": [],
   "source": []
  },
  {
   "cell_type": "code",
   "execution_count": 156,
   "id": "10bc6b15",
   "metadata": {},
   "outputs": [
    {
     "name": "stdout",
     "output_type": "stream",
     "text": [
      "SRV MAE 1.1745408068720213\n",
      "SRV MSE 2.1296426691340837\n"
     ]
    }
   ],
   "source": [
    "# Build a SVR (SVM Regression) model and train it on (X_train, y_train), kernel should be 'linear'\n",
    "svrL = SVR(kernel='linear')\n",
    "svrL.fit(X_train1, y_train1)\n",
    "\n",
    "# Test lin_reg on X_test\n",
    "y_pred_svrL = svrL.predict(X_test1)\n",
    "\n",
    "mae_svrL = mean_absolute_error(y_test, np.multiply(y_pred_svrL, 4))\n",
    "print('SRV MAE', mae_svrL)\n",
    "\n",
    "mse_svrL = mean_squared_error(y_test, np.multiply(y_pred_svrL, 4))\n",
    "print('SRV MSE', mse_svrL)"
   ]
  },
  {
   "cell_type": "code",
   "execution_count": 157,
   "id": "cc07422b",
   "metadata": {},
   "outputs": [],
   "source": [
    "max_svrL = np.max(y_pred_svrL)"
   ]
  },
  {
   "cell_type": "code",
   "execution_count": 167,
   "id": "cfd16781",
   "metadata": {},
   "outputs": [
    {
     "name": "stdout",
     "output_type": "stream",
     "text": [
      "              precision    recall  f1-score   support\n",
      "\n",
      "         0.0       0.00      0.00      0.00         9\n",
      "         1.0       0.00      0.00      0.00         4\n",
      "         2.0       0.00      0.00      0.00         3\n",
      "         3.0       0.26      0.40      0.31        30\n",
      "         4.0       0.69      0.23      0.35       103\n",
      "         5.0       0.00      0.00      0.00         0\n",
      "         6.0       0.00      0.00      0.00         0\n",
      "         7.0       0.00      0.00      0.00         0\n",
      "\n",
      "    accuracy                           0.24       149\n",
      "   macro avg       0.12      0.08      0.08       149\n",
      "weighted avg       0.53      0.24      0.30       149\n",
      "\n"
     ]
    },
    {
     "name": "stderr",
     "output_type": "stream",
     "text": [
      "C:\\Users\\lukez\\anaconda3\\envs\\ComputerVision\\lib\\site-packages\\sklearn\\metrics\\_classification.py:1471: UndefinedMetricWarning: Precision and F-score are ill-defined and being set to 0.0 in labels with no predicted samples. Use `zero_division` parameter to control this behavior.\n",
      "  _warn_prf(average, modifier, msg_start, len(result))\n",
      "C:\\Users\\lukez\\anaconda3\\envs\\ComputerVision\\lib\\site-packages\\sklearn\\metrics\\_classification.py:1471: UndefinedMetricWarning: Recall and F-score are ill-defined and being set to 0.0 in labels with no true samples. Use `zero_division` parameter to control this behavior.\n",
      "  _warn_prf(average, modifier, msg_start, len(result))\n",
      "C:\\Users\\lukez\\anaconda3\\envs\\ComputerVision\\lib\\site-packages\\sklearn\\metrics\\_classification.py:1471: UndefinedMetricWarning: Precision and F-score are ill-defined and being set to 0.0 in labels with no predicted samples. Use `zero_division` parameter to control this behavior.\n",
      "  _warn_prf(average, modifier, msg_start, len(result))\n",
      "C:\\Users\\lukez\\anaconda3\\envs\\ComputerVision\\lib\\site-packages\\sklearn\\metrics\\_classification.py:1471: UndefinedMetricWarning: Recall and F-score are ill-defined and being set to 0.0 in labels with no true samples. Use `zero_division` parameter to control this behavior.\n",
      "  _warn_prf(average, modifier, msg_start, len(result))\n",
      "C:\\Users\\lukez\\anaconda3\\envs\\ComputerVision\\lib\\site-packages\\sklearn\\metrics\\_classification.py:1471: UndefinedMetricWarning: Precision and F-score are ill-defined and being set to 0.0 in labels with no predicted samples. Use `zero_division` parameter to control this behavior.\n",
      "  _warn_prf(average, modifier, msg_start, len(result))\n",
      "C:\\Users\\lukez\\anaconda3\\envs\\ComputerVision\\lib\\site-packages\\sklearn\\metrics\\_classification.py:1471: UndefinedMetricWarning: Recall and F-score are ill-defined and being set to 0.0 in labels with no true samples. Use `zero_division` parameter to control this behavior.\n",
      "  _warn_prf(average, modifier, msg_start, len(result))\n"
     ]
    }
   ],
   "source": [
    "y_pred_svr10 = np.rint(np.multiply(y_pred_svrL, 4))\n",
    "y_test10 = np.rint(y_test)\n",
    "print(classification_report(y_test10, y_pred_svr10))"
   ]
  },
  {
   "cell_type": "code",
   "execution_count": 159,
   "id": "653bf862",
   "metadata": {},
   "outputs": [
    {
     "name": "stdout",
     "output_type": "stream",
     "text": [
      "SRV MAE 0.7670755185421129\n",
      "SRV MSE 1.1512741356769691\n"
     ]
    }
   ],
   "source": [
    "# Build a SVR (SVM Regression) model and train it on (X_train, y_train), kernel should be 'linear'\n",
    "svrR = SVR(kernel='rbf')\n",
    "svrR.fit(X_train1, y_train1)\n",
    "\n",
    "# Test lin_reg on X_test\n",
    "y_pred_svrR = svrR.predict(X_test1)\n",
    "\n",
    "mae_svrR = mean_absolute_error(y_test, np.multiply(y_pred_svrR, 4))\n",
    "print('SRV MAE', mae_svrR)\n",
    "\n",
    "mse_svrR = mean_squared_error(y_test, np.multiply(y_pred_svrR, 4))\n",
    "print('SRV MSE', mse_svrR)"
   ]
  },
  {
   "cell_type": "code",
   "execution_count": 165,
   "id": "8020f43c",
   "metadata": {},
   "outputs": [
    {
     "name": "stdout",
     "output_type": "stream",
     "text": [
      "              precision    recall  f1-score   support\n",
      "\n",
      "         0.0       0.00      0.00      0.00         9\n",
      "         1.0       0.00      0.00      0.00         4\n",
      "         2.0       0.00      0.00      0.00         3\n",
      "         3.0       0.15      0.37      0.21        30\n",
      "         4.0       0.67      0.50      0.57       103\n",
      "\n",
      "    accuracy                           0.42       149\n",
      "   macro avg       0.16      0.17      0.16       149\n",
      "weighted avg       0.49      0.42      0.44       149\n",
      "\n"
     ]
    },
    {
     "name": "stderr",
     "output_type": "stream",
     "text": [
      "C:\\Users\\lukez\\anaconda3\\envs\\ComputerVision\\lib\\site-packages\\sklearn\\metrics\\_classification.py:1471: UndefinedMetricWarning: Precision and F-score are ill-defined and being set to 0.0 in labels with no predicted samples. Use `zero_division` parameter to control this behavior.\n",
      "  _warn_prf(average, modifier, msg_start, len(result))\n",
      "C:\\Users\\lukez\\anaconda3\\envs\\ComputerVision\\lib\\site-packages\\sklearn\\metrics\\_classification.py:1471: UndefinedMetricWarning: Precision and F-score are ill-defined and being set to 0.0 in labels with no predicted samples. Use `zero_division` parameter to control this behavior.\n",
      "  _warn_prf(average, modifier, msg_start, len(result))\n",
      "C:\\Users\\lukez\\anaconda3\\envs\\ComputerVision\\lib\\site-packages\\sklearn\\metrics\\_classification.py:1471: UndefinedMetricWarning: Precision and F-score are ill-defined and being set to 0.0 in labels with no predicted samples. Use `zero_division` parameter to control this behavior.\n",
      "  _warn_prf(average, modifier, msg_start, len(result))\n"
     ]
    }
   ],
   "source": [
    "y_pred_svr10 = np.rint(np.multiply(y_pred_svrR, 4))\n",
    "y_test10 = np.rint(y_test)\n",
    "print(classification_report(y_test10, y_pred_svr10))"
   ]
  },
  {
   "cell_type": "code",
   "execution_count": 160,
   "id": "c31079f9",
   "metadata": {
    "scrolled": true
   },
   "outputs": [
    {
     "name": "stdout",
     "output_type": "stream",
     "text": [
      "SRV MAE 0.738059651356792\n",
      "SRV MSE 1.2540495505330327\n"
     ]
    }
   ],
   "source": [
    "# Build a SVR (SVM Regression) model and train it on (X_train, y_train), kernel should be 'linear'\n",
    "svr3 = SVR(kernel=\"poly\", degree=3)\n",
    "svr3.fit(X_train1, y_train1)\n",
    "\n",
    "# Test lin_reg on X_test\n",
    "y_pred_svr3 = svr3.predict(X_test1)\n",
    "\n",
    "mae_svr3 = mean_absolute_error(y_test, np.multiply(y_pred_svr3, 4))\n",
    "print('SRV MAE', mae_svr3)\n",
    "\n",
    "mse_svr3 = mean_squared_error(y_test, np.multiply(y_pred_svr3, 4))\n",
    "print('SRV MSE', mse_svr3)"
   ]
  },
  {
   "cell_type": "code",
   "execution_count": 166,
   "id": "67b5f2ff",
   "metadata": {},
   "outputs": [
    {
     "name": "stdout",
     "output_type": "stream",
     "text": [
      "              precision    recall  f1-score   support\n",
      "\n",
      "         0.0       0.00      0.00      0.00         9\n",
      "         1.0       0.00      0.00      0.00         4\n",
      "         2.0       0.00      0.00      0.00         3\n",
      "         3.0       0.00      0.00      0.00        30\n",
      "         4.0       0.68      0.97      0.80       103\n",
      "         7.0       0.00      0.00      0.00         0\n",
      "\n",
      "    accuracy                           0.67       149\n",
      "   macro avg       0.11      0.16      0.13       149\n",
      "weighted avg       0.47      0.67      0.56       149\n",
      "\n"
     ]
    },
    {
     "name": "stderr",
     "output_type": "stream",
     "text": [
      "C:\\Users\\lukez\\anaconda3\\envs\\ComputerVision\\lib\\site-packages\\sklearn\\metrics\\_classification.py:1471: UndefinedMetricWarning: Precision and F-score are ill-defined and being set to 0.0 in labels with no predicted samples. Use `zero_division` parameter to control this behavior.\n",
      "  _warn_prf(average, modifier, msg_start, len(result))\n",
      "C:\\Users\\lukez\\anaconda3\\envs\\ComputerVision\\lib\\site-packages\\sklearn\\metrics\\_classification.py:1471: UndefinedMetricWarning: Recall and F-score are ill-defined and being set to 0.0 in labels with no true samples. Use `zero_division` parameter to control this behavior.\n",
      "  _warn_prf(average, modifier, msg_start, len(result))\n",
      "C:\\Users\\lukez\\anaconda3\\envs\\ComputerVision\\lib\\site-packages\\sklearn\\metrics\\_classification.py:1471: UndefinedMetricWarning: Precision and F-score are ill-defined and being set to 0.0 in labels with no predicted samples. Use `zero_division` parameter to control this behavior.\n",
      "  _warn_prf(average, modifier, msg_start, len(result))\n",
      "C:\\Users\\lukez\\anaconda3\\envs\\ComputerVision\\lib\\site-packages\\sklearn\\metrics\\_classification.py:1471: UndefinedMetricWarning: Recall and F-score are ill-defined and being set to 0.0 in labels with no true samples. Use `zero_division` parameter to control this behavior.\n",
      "  _warn_prf(average, modifier, msg_start, len(result))\n",
      "C:\\Users\\lukez\\anaconda3\\envs\\ComputerVision\\lib\\site-packages\\sklearn\\metrics\\_classification.py:1471: UndefinedMetricWarning: Precision and F-score are ill-defined and being set to 0.0 in labels with no predicted samples. Use `zero_division` parameter to control this behavior.\n",
      "  _warn_prf(average, modifier, msg_start, len(result))\n",
      "C:\\Users\\lukez\\anaconda3\\envs\\ComputerVision\\lib\\site-packages\\sklearn\\metrics\\_classification.py:1471: UndefinedMetricWarning: Recall and F-score are ill-defined and being set to 0.0 in labels with no true samples. Use `zero_division` parameter to control this behavior.\n",
      "  _warn_prf(average, modifier, msg_start, len(result))\n"
     ]
    }
   ],
   "source": [
    "y_pred_svr10 = np.rint(np.multiply(y_pred_svr3, 4))\n",
    "y_test10 = np.rint(y_test)\n",
    "print(classification_report(y_test10, y_pred_svr10))"
   ]
  },
  {
   "cell_type": "code",
   "execution_count": 161,
   "id": "0f312705",
   "metadata": {},
   "outputs": [
    {
     "name": "stdout",
     "output_type": "stream",
     "text": [
      "SRV MAE 1.2589729666140712\n",
      "SRV MSE 54.15576282059471\n"
     ]
    }
   ],
   "source": [
    "# Build a SVR (SVM Regression) model and train it on (X_train, y_train), kernel should be 'linear'\n",
    "svr4 = SVR(kernel=\"poly\", degree=4)\n",
    "svr4.fit(X_train1, y_train1)\n",
    "\n",
    "# Test lin_reg on X_test\n",
    "y_pred_svr4 = svr4.predict(X_test1)\n",
    "\n",
    "mae_svr4 = mean_absolute_error(y_test, np.multiply(y_pred_svr4, 4))\n",
    "print('SRV MAE', mae_svr4)\n",
    "\n",
    "mse_svr4 = mean_squared_error(y_test1, np.multiply(y_pred_svr4, 4))\n",
    "print('SRV MSE', mse_svr4)"
   ]
  },
  {
   "cell_type": "code",
   "execution_count": 162,
   "id": "f432853f",
   "metadata": {},
   "outputs": [
    {
     "ename": "NameError",
     "evalue": "name 'y_pred_svr5' is not defined",
     "output_type": "error",
     "traceback": [
      "\u001b[1;31m---------------------------------------------------------------------------\u001b[0m",
      "\u001b[1;31mNameError\u001b[0m                                 Traceback (most recent call last)",
      "Cell \u001b[1;32mIn[162], line 8\u001b[0m\n\u001b[0;32m      5\u001b[0m \u001b[38;5;66;03m# Test lin_reg on X_test\u001b[39;00m\n\u001b[0;32m      6\u001b[0m y_pred_svrS \u001b[38;5;241m=\u001b[39m svrS\u001b[38;5;241m.\u001b[39mpredict(X_test1)\n\u001b[1;32m----> 8\u001b[0m mae_svrS \u001b[38;5;241m=\u001b[39m mean_absolute_error(y_test, np\u001b[38;5;241m.\u001b[39mmultiply(\u001b[43my_pred_svr5\u001b[49m, \u001b[38;5;241m4\u001b[39m))\n\u001b[0;32m      9\u001b[0m \u001b[38;5;28mprint\u001b[39m(\u001b[38;5;124m'\u001b[39m\u001b[38;5;124mSRV MAE\u001b[39m\u001b[38;5;124m'\u001b[39m, mae_svrS)\n\u001b[0;32m     11\u001b[0m mse_svrS \u001b[38;5;241m=\u001b[39m mean_squared_error(y_test, np\u001b[38;5;241m.\u001b[39mmultiply(y_pred_svr5, \u001b[38;5;241m4\u001b[39m))\n",
      "\u001b[1;31mNameError\u001b[0m: name 'y_pred_svr5' is not defined"
     ]
    }
   ],
   "source": [
    "# Build a SVR (SVM Regression) model and train it on (X_train, y_train), kernel should be 'linear'\n",
    "svrS = SVR(kernel=\"sigmoid\")\n",
    "svrS.fit(X_train1, y_train1)\n",
    "\n",
    "# Test lin_reg on X_test\n",
    "y_pred_svrS = svrS.predict(X_test1)\n",
    "\n",
    "mae_svrS = mean_absolute_error(y_test, np.multiply(y_pred_svr5, 4))\n",
    "print('SRV MAE', mae_svrS)\n",
    "\n",
    "mse_svrS = mean_squared_error(y_test, np.multiply(y_pred_svr5, 4))\n",
    "print('SRV MSE', mse_svrS)"
   ]
  },
  {
   "cell_type": "code",
   "execution_count": null,
   "id": "1852079c",
   "metadata": {},
   "outputs": [],
   "source": []
  },
  {
   "cell_type": "code",
   "execution_count": 110,
   "id": "8d1cc34a",
   "metadata": {},
   "outputs": [
    {
     "name": "stdout",
     "output_type": "stream",
     "text": [
      "SRV MAE 0.43659789232348073\n",
      "SRV MSE 0.36365495153061933\n"
     ]
    }
   ],
   "source": [
    "# Build a xgb regression model and train it on (X_train, y_train)\n",
    "xgb_reg = XGBRegressor(objective ='reg:squarederror')\n",
    "xgb_reg.fit(X_train, y_train)\n",
    "\n",
    "# Test xgb_reg\n",
    "y_pred_xgb = xgb_reg.predict(X_test)\n",
    "\n",
    "\n",
    "mae_xgb = mean_absolute_error(y_test, y_pred_xgb)\n",
    "print('SRV MAE', mae_xgb)\n",
    "\n",
    "mse_xgb = mean_squared_error(y_test, y_pred_xgb)\n",
    "print('SRV MSE', mse_xgb)"
   ]
  },
  {
   "cell_type": "code",
   "execution_count": 111,
   "id": "cd987da1",
   "metadata": {},
   "outputs": [
    {
     "name": "stdout",
     "output_type": "stream",
     "text": [
      "SRV MAE 0.436902011732177\n",
      "SRV MSE 0.38044545042611766\n"
     ]
    }
   ],
   "source": [
    "# Build a xgb regression model and train it on (X_train, y_train)\n",
    "xgb_reg1 = XGBRegressor(objective ='reg:squarederror', scale_pos_weight = .2)\n",
    "xgb_reg1.fit(X_train, y_train)\n",
    "\n",
    "# Test xgb_reg\n",
    "y_pred_xgb1 = xgb_reg1.predict(X_test)\n",
    "\n",
    "\n",
    "mae_xgb1 = mean_absolute_error(y_test, y_pred_xgb1)\n",
    "print('SRV MAE', mae_xgb1)\n",
    "\n",
    "mse_xgb1 = mean_squared_error(y_test, y_pred_xgb1)\n",
    "print('SRV MSE', mse_xgb1)"
   ]
  },
  {
   "cell_type": "code",
   "execution_count": 112,
   "id": "bcb3880d",
   "metadata": {},
   "outputs": [
    {
     "name": "stdout",
     "output_type": "stream",
     "text": [
      "SRV MAE 0.4214308082669873\n",
      "SRV MSE 0.3367802788569612\n"
     ]
    }
   ],
   "source": [
    "# Build a xgb regression model and train it on (X_train, y_train)\n",
    "xgb_reg2 = XGBRegressor(objective ='reg:squarederror', scale_pos_weight = .5)\n",
    "xgb_reg2.fit(X_train, y_train)\n",
    "\n",
    "# Test xgb_reg\n",
    "y_pred_xgb2 = xgb_reg2.predict(X_test)\n",
    "\n",
    "\n",
    "mae_xgb2 = mean_absolute_error(y_test, y_pred_xgb2)\n",
    "print('SRV MAE', mae_xgb2)\n",
    "\n",
    "mse_xgb2 = mean_squared_error(y_test, y_pred_xgb2)\n",
    "print('SRV MSE', mse_xgb2)"
   ]
  },
  {
   "cell_type": "code",
   "execution_count": 168,
   "id": "4e9fa66c",
   "metadata": {},
   "outputs": [
    {
     "name": "stdout",
     "output_type": "stream",
     "text": [
      "              precision    recall  f1-score   support\n",
      "\n",
      "         0.0       0.75      0.67      0.71         9\n",
      "         1.0       0.67      0.50      0.57         4\n",
      "         2.0       0.00      0.00      0.00         3\n",
      "         3.0       0.16      0.17      0.16        30\n",
      "         4.0       0.75      0.77      0.76       103\n",
      "\n",
      "    accuracy                           0.62       149\n",
      "   macro avg       0.46      0.42      0.44       149\n",
      "weighted avg       0.61      0.62      0.61       149\n",
      "\n"
     ]
    }
   ],
   "source": [
    "y_pred_xgb10 = np.rint(y_pred_xgb2)\n",
    "y_test10 = np.rint(y_test)\n",
    "print(classification_report(y_test10, y_pred_xgb10))"
   ]
  },
  {
   "cell_type": "code",
   "execution_count": 113,
   "id": "c53b1cba",
   "metadata": {},
   "outputs": [
    {
     "name": "stdout",
     "output_type": "stream",
     "text": [
      "SRV MAE 0.41565080308949187\n",
      "SRV MSE 0.35446751679789773\n"
     ]
    }
   ],
   "source": [
    "# Build a xgb regression model and train it on (X_train, y_train)\n",
    "xgb_reg3 = XGBRegressor(objective ='reg:squarederror', scale_pos_weight = 5)\n",
    "xgb_reg3.fit(X_train, y_train)\n",
    "\n",
    "# Test xgb_reg\n",
    "y_pred_xgb3 = xgb_reg3.predict(X_test)\n",
    "\n",
    "\n",
    "mae_xgb3 = mean_absolute_error(y_test, y_pred_xgb3)\n",
    "print('SRV MAE', mae_xgb3)\n",
    "\n",
    "mse_xgb3 = mean_squared_error(y_test, y_pred_xgb3)\n",
    "print('SRV MSE', mse_xgb3)"
   ]
  },
  {
   "cell_type": "code",
   "execution_count": 169,
   "id": "26519247",
   "metadata": {},
   "outputs": [
    {
     "name": "stdout",
     "output_type": "stream",
     "text": [
      "              precision    recall  f1-score   support\n",
      "\n",
      "         0.0       0.75      0.67      0.71         9\n",
      "         1.0       0.50      0.50      0.50         4\n",
      "         2.0       0.00      0.00      0.00         3\n",
      "         3.0       0.29      0.27      0.28        30\n",
      "         4.0       0.77      0.82      0.79       103\n",
      "\n",
      "    accuracy                           0.67       149\n",
      "   macro avg       0.46      0.45      0.45       149\n",
      "weighted avg       0.65      0.67      0.66       149\n",
      "\n"
     ]
    },
    {
     "name": "stderr",
     "output_type": "stream",
     "text": [
      "C:\\Users\\lukez\\anaconda3\\envs\\ComputerVision\\lib\\site-packages\\sklearn\\metrics\\_classification.py:1471: UndefinedMetricWarning: Precision and F-score are ill-defined and being set to 0.0 in labels with no predicted samples. Use `zero_division` parameter to control this behavior.\n",
      "  _warn_prf(average, modifier, msg_start, len(result))\n",
      "C:\\Users\\lukez\\anaconda3\\envs\\ComputerVision\\lib\\site-packages\\sklearn\\metrics\\_classification.py:1471: UndefinedMetricWarning: Precision and F-score are ill-defined and being set to 0.0 in labels with no predicted samples. Use `zero_division` parameter to control this behavior.\n",
      "  _warn_prf(average, modifier, msg_start, len(result))\n",
      "C:\\Users\\lukez\\anaconda3\\envs\\ComputerVision\\lib\\site-packages\\sklearn\\metrics\\_classification.py:1471: UndefinedMetricWarning: Precision and F-score are ill-defined and being set to 0.0 in labels with no predicted samples. Use `zero_division` parameter to control this behavior.\n",
      "  _warn_prf(average, modifier, msg_start, len(result))\n"
     ]
    }
   ],
   "source": [
    "y_pred_xgb10 = np.rint(y_pred_xgb3)\n",
    "y_test10 = np.rint(y_test)\n",
    "print(classification_report(y_test10, y_pred_xgb10))"
   ]
  },
  {
   "cell_type": "code",
   "execution_count": 114,
   "id": "d2960cf3",
   "metadata": {},
   "outputs": [
    {
     "name": "stdout",
     "output_type": "stream",
     "text": [
      "SRV MAE 0.3915466176183432\n",
      "SRV MSE 0.33503755596515433\n"
     ]
    }
   ],
   "source": [
    "# Build a xgb regression model and train it on (X_train, y_train)\n",
    "xgb_reg4 = XGBRegressor(objective ='reg:squarederror', scale_pos_weight = 20)\n",
    "xgb_reg4.fit(X_train, y_train)\n",
    "\n",
    "# Test xgb_reg\n",
    "y_pred_xgb4 = xgb_reg4.predict(X_test)\n",
    "\n",
    "\n",
    "mae_xgb4 = mean_absolute_error(y_test, y_pred_xgb4)\n",
    "print('SRV MAE', mae_xgb4)\n",
    "\n",
    "mse_xgb4 = mean_squared_error(y_test, y_pred_xgb4)\n",
    "print('SRV MSE', mse_xgb4)"
   ]
  },
  {
   "cell_type": "code",
   "execution_count": 115,
   "id": "725f6e3f",
   "metadata": {},
   "outputs": [
    {
     "name": "stdout",
     "output_type": "stream",
     "text": [
      "SRV MAE 0.39808934595710876\n",
      "SRV MSE 0.33214975494364074\n"
     ]
    }
   ],
   "source": [
    "# Build a xgb regression model and train it on (X_train, y_train)\n",
    "xgb_reg5 = XGBRegressor(objective ='reg:squarederror', scale_pos_weight = 25)\n",
    "xgb_reg5.fit(X_train, y_train)\n",
    "\n",
    "# Test xgb_reg\n",
    "y_pred_xgb5 = xgb_reg5.predict(X_test)\n",
    "\n",
    "\n",
    "mae_xgb5 = mean_absolute_error(y_test, y_pred_xgb5)\n",
    "print('SRV MAE', mae_xgb5)\n",
    "\n",
    "mse_xgb5 = mean_squared_error(y_test, y_pred_xgb5)\n",
    "print('SRV MSE', mse_xgb5)"
   ]
  },
  {
   "cell_type": "code",
   "execution_count": 116,
   "id": "e078a3b8",
   "metadata": {},
   "outputs": [
    {
     "name": "stdout",
     "output_type": "stream",
     "text": [
      "SRV MAE 0.38791967991539494\n",
      "SRV MSE 0.32436966084099167\n"
     ]
    }
   ],
   "source": [
    "# Build a xgb regression model and train it on (X_train, y_train)\n",
    "xgb_reg4 = XGBRegressor(objective ='reg:squarederror', scale_pos_weight = 30)\n",
    "xgb_reg4.fit(X_train, y_train)\n",
    "\n",
    "# Test xgb_reg\n",
    "y_pred_xgb4 = xgb_reg4.predict(X_test)\n",
    "\n",
    "\n",
    "mae_xgb4 = mean_absolute_error(y_test, y_pred_xgb4)\n",
    "print('SRV MAE', mae_xgb4)\n",
    "\n",
    "mse_xgb4 = mean_squared_error(y_test, y_pred_xgb4)\n",
    "print('SRV MSE', mse_xgb4)"
   ]
  },
  {
   "cell_type": "code",
   "execution_count": 170,
   "id": "81fcab96",
   "metadata": {},
   "outputs": [
    {
     "name": "stdout",
     "output_type": "stream",
     "text": [
      "              precision    recall  f1-score   support\n",
      "\n",
      "         0.0       1.00      0.22      0.36         9\n",
      "         1.0       0.40      1.00      0.57         4\n",
      "         2.0       0.00      0.00      0.00         3\n",
      "         3.0       0.18      0.13      0.15        30\n",
      "         4.0       0.76      0.84      0.80       103\n",
      "\n",
      "    accuracy                           0.65       149\n",
      "   macro avg       0.47      0.44      0.38       149\n",
      "weighted avg       0.63      0.65      0.62       149\n",
      "\n"
     ]
    },
    {
     "name": "stderr",
     "output_type": "stream",
     "text": [
      "C:\\Users\\lukez\\anaconda3\\envs\\ComputerVision\\lib\\site-packages\\sklearn\\metrics\\_classification.py:1471: UndefinedMetricWarning: Precision and F-score are ill-defined and being set to 0.0 in labels with no predicted samples. Use `zero_division` parameter to control this behavior.\n",
      "  _warn_prf(average, modifier, msg_start, len(result))\n",
      "C:\\Users\\lukez\\anaconda3\\envs\\ComputerVision\\lib\\site-packages\\sklearn\\metrics\\_classification.py:1471: UndefinedMetricWarning: Precision and F-score are ill-defined and being set to 0.0 in labels with no predicted samples. Use `zero_division` parameter to control this behavior.\n",
      "  _warn_prf(average, modifier, msg_start, len(result))\n",
      "C:\\Users\\lukez\\anaconda3\\envs\\ComputerVision\\lib\\site-packages\\sklearn\\metrics\\_classification.py:1471: UndefinedMetricWarning: Precision and F-score are ill-defined and being set to 0.0 in labels with no predicted samples. Use `zero_division` parameter to control this behavior.\n",
      "  _warn_prf(average, modifier, msg_start, len(result))\n"
     ]
    }
   ],
   "source": [
    "y_pred_xgb10 = np.rint(y_pred_xgb4)\n",
    "y_test10 = np.rint(y_test)\n",
    "print(classification_report(y_test10, y_pred_xgb10))"
   ]
  },
  {
   "cell_type": "code",
   "execution_count": 117,
   "id": "b519e799",
   "metadata": {},
   "outputs": [
    {
     "name": "stdout",
     "output_type": "stream",
     "text": [
      "SRV MAE 0.4239492712404904\n",
      "SRV MSE 0.3623154056816202\n"
     ]
    }
   ],
   "source": [
    "# Build a xgb regression model and train it on (X_train, y_train)\n",
    "xgb_reg4 = XGBRegressor(objective ='reg:squarederror', scale_pos_weight = 35)\n",
    "xgb_reg4.fit(X_train, y_train)\n",
    "\n",
    "# Test xgb_reg\n",
    "y_pred_xgb4 = xgb_reg4.predict(X_test)\n",
    "\n",
    "\n",
    "mae_xgb4 = mean_absolute_error(y_test, y_pred_xgb4)\n",
    "print('SRV MAE', mae_xgb4)\n",
    "\n",
    "mse_xgb4 = mean_squared_error(y_test, y_pred_xgb4)\n",
    "print('SRV MSE', mse_xgb4)"
   ]
  },
  {
   "cell_type": "code",
   "execution_count": 118,
   "id": "3012076c",
   "metadata": {},
   "outputs": [
    {
     "name": "stdout",
     "output_type": "stream",
     "text": [
      "SRV MAE 0.4306287106889106\n",
      "SRV MSE 0.3726664841874955\n"
     ]
    }
   ],
   "source": [
    "# Build a xgb regression model and train it on (X_train, y_train)\n",
    "xgb_reg4 = XGBRegressor(objective ='reg:squarederror', scale_pos_weight = 40)\n",
    "xgb_reg4.fit(X_train, y_train)\n",
    "\n",
    "# Test xgb_reg\n",
    "y_pred_xgb4 = xgb_reg4.predict(X_test)\n",
    "\n",
    "\n",
    "mae_xgb4 = mean_absolute_error(y_test, y_pred_xgb4)\n",
    "print('SRV MAE', mae_xgb4)\n",
    "\n",
    "mse_xgb4 = mean_squared_error(y_test, y_pred_xgb4)\n",
    "print('SRV MSE', mse_xgb4)"
   ]
  },
  {
   "cell_type": "code",
   "execution_count": null,
   "id": "1ae41c32",
   "metadata": {},
   "outputs": [],
   "source": []
  },
  {
   "cell_type": "code",
   "execution_count": null,
   "id": "c6f766e5",
   "metadata": {},
   "outputs": [],
   "source": []
  },
  {
   "cell_type": "code",
   "execution_count": 120,
   "id": "444f400a",
   "metadata": {
    "scrolled": true
   },
   "outputs": [
    {
     "name": "stdout",
     "output_type": "stream",
     "text": [
      "              precision    recall  f1-score   support\n",
      "\n",
      "         0.0       1.00      0.22      0.36         9\n",
      "         1.0       0.40      1.00      0.57         4\n",
      "         2.0       0.00      0.00      0.00         3\n",
      "         3.0       0.18      0.13      0.15        30\n",
      "         4.0       0.76      0.84      0.80       103\n",
      "\n",
      "    accuracy                           0.65       149\n",
      "   macro avg       0.47      0.44      0.38       149\n",
      "weighted avg       0.63      0.65      0.62       149\n",
      "\n",
      "[[ 2  6  0  0  1]\n",
      " [ 0  4  0  0  0]\n",
      " [ 0  0  0  2  1]\n",
      " [ 0  0  0  4 26]\n",
      " [ 0  0  0 16 87]]\n"
     ]
    },
    {
     "name": "stderr",
     "output_type": "stream",
     "text": [
      "C:\\Users\\lukez\\anaconda3\\envs\\ComputerVision\\lib\\site-packages\\sklearn\\metrics\\_classification.py:1471: UndefinedMetricWarning: Precision and F-score are ill-defined and being set to 0.0 in labels with no predicted samples. Use `zero_division` parameter to control this behavior.\n",
      "  _warn_prf(average, modifier, msg_start, len(result))\n",
      "C:\\Users\\lukez\\anaconda3\\envs\\ComputerVision\\lib\\site-packages\\sklearn\\metrics\\_classification.py:1471: UndefinedMetricWarning: Precision and F-score are ill-defined and being set to 0.0 in labels with no predicted samples. Use `zero_division` parameter to control this behavior.\n",
      "  _warn_prf(average, modifier, msg_start, len(result))\n",
      "C:\\Users\\lukez\\anaconda3\\envs\\ComputerVision\\lib\\site-packages\\sklearn\\metrics\\_classification.py:1471: UndefinedMetricWarning: Precision and F-score are ill-defined and being set to 0.0 in labels with no predicted samples. Use `zero_division` parameter to control this behavior.\n",
      "  _warn_prf(average, modifier, msg_start, len(result))\n"
     ]
    }
   ],
   "source": [
    "y_pred_xgb10 = np.rint(y_pred_xgb4)\n",
    "y_test10 = np.rint(y_test)\n",
    "print(classification_report(y_test10, y_pred_xgb10))\n",
    "print(confusion_matrix(y_test10, y_pred_xgb10))"
   ]
  },
  {
   "cell_type": "code",
   "execution_count": 122,
   "id": "b1c88e41",
   "metadata": {},
   "outputs": [
    {
     "name": "stdout",
     "output_type": "stream",
     "text": [
      "[ 4.  4.  4.  3.  1.  4.  4.  4.  1.  4.  4.  3.  4.  4.  4.  4.  3.  4.\n",
      "  4.  1.  4.  3.  4.  4.  4.  4.  4.  4.  4.  4.  4.  4.  4.  4.  4.  4.\n",
      "  4.  1.  4.  4.  4.  4.  3.  4.  4.  4.  3.  1.  4.  4.  4.  4.  4.  3.\n",
      "  3.  3.  4.  4.  3.  4.  4.  4.  4.  4.  4.  4.  4.  3.  4.  1.  4.  4.\n",
      "  4.  4.  4.  4.  4. -0.  4.  0.  4.  4.  4.  4.  3.  4.  4.  4.  4.  4.\n",
      "  4.  4.  3.  4.  4.  4.  4.  3.  4.  4.  4.  4.  4.  4.  3.  4.  4.  4.\n",
      "  4.  4.  4.  4.  4.  3.  4.  1.  3.  4.  1.  4.  4.  4.  3.  4.  3.  4.\n",
      "  4.  4.  4.  3.  3.  4.  1.  4.  4.  4.  4.  4.  4.  1.  4.  4.  4.  4.\n",
      "  4.  4.  4.  3.  4.]\n"
     ]
    }
   ],
   "source": [
    "print(y_pred_xgb10)"
   ]
  },
  {
   "cell_type": "code",
   "execution_count": null,
   "id": "90833652",
   "metadata": {},
   "outputs": [],
   "source": []
  },
  {
   "cell_type": "code",
   "execution_count": 132,
   "id": "46a1413b",
   "metadata": {},
   "outputs": [],
   "source": [
    "from sklearn.metrics import recall_score\n",
    "from sklearn.metrics import precision_score\n",
    "from sklearn.metrics import f1_score"
   ]
  },
  {
   "cell_type": "code",
   "execution_count": 133,
   "id": "89d0ee78",
   "metadata": {},
   "outputs": [
    {
     "name": "stdout",
     "output_type": "stream",
     "text": [
      "\n",
      "mR 0.6510067114093959 \n",
      "mP 0.6510067114093959 \n",
      "MR 0.4400431499460626 \n",
      "MP 0.4676679841897233 \n",
      "mF1 0.6510067114093959 \n",
      "MF1 0.3774152453051536\n"
     ]
    },
    {
     "name": "stderr",
     "output_type": "stream",
     "text": [
      "C:\\Users\\lukez\\anaconda3\\envs\\ComputerVision\\lib\\site-packages\\sklearn\\metrics\\_classification.py:1471: UndefinedMetricWarning: Precision is ill-defined and being set to 0.0 in labels with no predicted samples. Use `zero_division` parameter to control this behavior.\n",
      "  _warn_prf(average, modifier, msg_start, len(result))\n"
     ]
    }
   ],
   "source": [
    "print(\n",
    "'\\nmR',recall_score(y_test10, y_pred_xgb10, average='micro'),'\\nmP', precision_score(y_test10, y_pred_xgb10, average='micro'),\n",
    "'\\nMR',recall_score(y_test10, y_pred_xgb10, average='macro'),'\\nMP', precision_score(y_test10, y_pred_xgb10, average='macro'),\n",
    "'\\nmF1',f1_score(y_test10, y_pred_xgb10,average='micro'),'\\nMF1', f1_score(y_test10, y_pred_xgb10,average='macro'))"
   ]
  },
  {
   "cell_type": "code",
   "execution_count": null,
   "id": "f9e169f8",
   "metadata": {},
   "outputs": [],
   "source": []
  },
  {
   "cell_type": "code",
   "execution_count": null,
   "id": "254d10ea",
   "metadata": {},
   "outputs": [],
   "source": []
  },
  {
   "cell_type": "code",
   "execution_count": 137,
   "id": "37f1d5e1",
   "metadata": {},
   "outputs": [
    {
     "name": "stdout",
     "output_type": "stream",
     "text": [
      "[1, 1, 1, 1, 1, 1, 1, 4, 1, 0, 0, 0, 4, 4, 3, 2, 3, 3, 3, 0, 2, 4, 3, 3, 4, 2, 4, 4, 4, 4, 3, 3, 4, 3, 4, 3, 3, 2, 3, 3, 3, 4, 4, 4, 4, 4, 4, 4, 3, 4, 4, 4, 4, 4, 4, 4, 4, 2, 3, 4, 3, 3, 4, 4, 4, 4, 4, 4, 3, 4, 4, 4, 4, 4, 4, 3, 4, 4, 4, 4, 4, 4, 4, 4, 0, 1, 1, 3, 4, 3, 4, 3, 4, 3, 3, 3, 2, 4, 4, 4, 3, 3, 3, 3, 4, 3, 3, 3, 4, 4, 4, 3, 3, 3, 4, 4, 4, 4, 4, 4, 4, 4, 4, 4, 4, 4, 4, 4, 4, 4, 4, 4, 4, 4, 4, 4, 3, 3, 3, 3, 3, 4, 3, 4, 4, 4, 4, 4, 4, 4, 4, 4, 4, 4, 4, 3, 3, 3, 3, 4, 3, 3, 4, 4, 4, 4, 4, 3, 3, 4, 4, 4, 4, 4, 4, 4, 4, 3, 4, 4, 4, 4, 4, 4, 4, 4, 4, 4, 4, 4, 4, 4, 4, 4, 3, 4, 4, 4, 4, 4, 4, 4, 3, 4, 4, 3, 3, 4, 4, 3, 4, 4, 4, 3, 4, 4, 4, 4, 4, 4, 4, 4, 4, 4, 4, 4, 4, 4, 4, 4, 4, 4, 3, 4, 4, 4, 4, 3, 4, 4, 4, 4, 4, 4, 4, 4, 4, 4, 4, 4, 4, 3, 3, 3, 2, 3, 3, 3, 4, 3, 4, 4, 4, 3, 4, 4, 4, 4, 4, 4, 4, 4, 4, 4, 4, 4, 4, 4, 4, 4, 4, 4, 3, 4, 4, 4, 2, 4, 4, 4, 4, 4, 4, 4, 4, 4, 4, 4, 4, 4, 4, 3, 4, 4, 4, 4, 4, 4, 4, 4, 4, 0, 0, 3, 3, 3, 2, 2, 0, 4, 4, 1, 4, 4, 4, 4, 4, 4, 4, 4, 4, 4, 4, 4, 4, 4, 4, 3, 4, 4, 4, 4, 4, 4, 4, 3, 0, 0, 4, 0, 0, 0, 4, 4, 0, 4, 3, 4, 4, 4, 4, 4, 4, 4, 4, 4, 4, 3, 4, 0, 0, 0, 0, 3, 4, 4, 4, 4, 2, 2, 2, 3, 3, 3, 3, 4, 4, 4, 4, 4, 2, 2, 4, 4, 4, 4, 3, 4, 2, 4, 3, 3, 4, 4, 0, 0, 3, 2, 4, 3, 4, 4, 4, 4, 4, 4, 4, 4, 4, 4, 4, 4, 4, 4, 4, 4, 3, 2, 3, 4, 4, 4, 4, 4, 4, 4, 4, 4, 4, 4, 4, 3, 4, 4, 4, 4, 4, 4, 4, 4, 4, 4, 3, 4, 4, 2, 4, 4, 3, 4, 4, 4, 4, 4, 4, 4, 4, 4, 4, 4, 4, 4, 1, 3, 1, 1, 4, 4, 4, 4, 4, 4, 4, 4, 4, 4, 4, 4, 4, 4, 4, 3, 4, 4, 4, 2, 4, 3, 4, 3, 2, 2, 4, 4, 3, 4, 4, 4, 4, 4, 4, 4, 4, 3, 3, 4, 4, 4, 4, 4, 4, 4, 4, 4, 4, 4, 4, 4, 4, 4, 0, 4, 4, 2, 2, 4, 4, 4, 4, 3, 4, 3, 4, 4, 3, 4, 0, 3, 3, 4, 4, 4, 4, 4, 4, 4, 4, 4, 4, 4, 4, 3, 4, 4, 4, 4, 4, 4, 4, 4, 4, 2, 4, 4, 4, 3, 4, 4, 4, 4, 4, 4, 4, 4, 4, 4, 4, 4, 4, 4, 4, 4, 4, 4, 4, 4, 4, 4, 4, 4, 4, 4, 4, 4, 0, 0, 4, 4, 4, 4, 4, 4, 4, 4, 3, 4, 4, 4, 4, 4, 4, 4, 4, 4, 4, 4, 4, 4, 4, 4, 4, 4, 4, 3, 3, 3, 1, 3, 3, 3, 3, 3, 4, 4, 4, 3, 4, 4, 4, 4, 3, 3, 4, 4, 4, 4, 4, 3, 4, 4, 3, 4, 0, 0, 3, 0, 3, 3, 4, 4, 4, 4, 4, 3, 4, 4, 4, 4, 4, 3, 4, 3, 4, 3, 3, 4, 4, 3, 2, 2, 4, 4, 4, 0, 3, 4, 4, 3, 4, 4, 4, 3, 4, 4, 4, 3, 4, 3, 4, 4, 4, 4, 3, 2, 4, 3, 3, 3, 4, 4, 4, 4, 0, 0, 4, 0, 0, 0, 0, 0, 3, 4, 2, 3, 4, 4, 2, 4, 3, 3, 3, 4, 4]\n"
     ]
    }
   ],
   "source": [
    "print(labels)"
   ]
  },
  {
   "cell_type": "code",
   "execution_count": 140,
   "id": "168e4cfa",
   "metadata": {},
   "outputs": [],
   "source": [
    "lablesNormilized = np.divide(labels, 4)"
   ]
  },
  {
   "cell_type": "code",
   "execution_count": 141,
   "id": "dc6efe6a",
   "metadata": {},
   "outputs": [],
   "source": [
    "X_train1, X_test1, y_train1, y_test1 = train_test_split(flattened_data, lablesNormilized, test_size=0.2)"
   ]
  },
  {
   "cell_type": "code",
   "execution_count": 163,
   "id": "e552dcb2",
   "metadata": {},
   "outputs": [
    {
     "data": {
      "text/plain": [
       "(149, 62507)"
      ]
     },
     "execution_count": 163,
     "metadata": {},
     "output_type": "execute_result"
    }
   ],
   "source": [
    "X_test1.shape"
   ]
  },
  {
   "cell_type": "code",
   "execution_count": null,
   "id": "31922ea8",
   "metadata": {},
   "outputs": [],
   "source": []
  },
  {
   "cell_type": "code",
   "execution_count": null,
   "id": "7244c679",
   "metadata": {},
   "outputs": [],
   "source": []
  },
  {
   "cell_type": "code",
   "execution_count": null,
   "id": "850579cd",
   "metadata": {},
   "outputs": [],
   "source": [
    "# Build a xgb regression model and train it on (X_train, y_train)\n",
    "xgb_reg4 = XGBRegressor(objective ='reg:squarederror', scale_pos_weight = 40)\n",
    "xgb_reg4.fit(X_train, y_train)\n",
    "\n",
    "# Test xgb_reg\n",
    "y_pred_xgb4 = xgb_reg4.predict(X_test)\n",
    "\n",
    "\n",
    "mae_xgb4 = mean_absolute_error(y_test, y_pred_xgb4)\n",
    "print('SRV MAE', mae_xgb4)\n",
    "\n",
    "mse_xgb4 = mean_squared_error(y_test, y_pred_xgb4)\n",
    "print('SRV MSE', mse_xgb4)"
   ]
  }
 ],
 "metadata": {
  "kernelspec": {
   "display_name": "Python 3 (ipykernel)",
   "language": "python",
   "name": "python3"
  },
  "language_info": {
   "codemirror_mode": {
    "name": "ipython",
    "version": 3
   },
   "file_extension": ".py",
   "mimetype": "text/x-python",
   "name": "python",
   "nbconvert_exporter": "python",
   "pygments_lexer": "ipython3",
   "version": "3.9.18"
  }
 },
 "nbformat": 4,
 "nbformat_minor": 5
}
