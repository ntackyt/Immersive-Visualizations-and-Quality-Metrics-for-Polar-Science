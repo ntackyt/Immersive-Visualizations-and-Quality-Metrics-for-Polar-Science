{
 "cells": [
  {
   "cell_type": "code",
   "execution_count": 1,
   "id": "df3e824f",
   "metadata": {},
   "outputs": [],
   "source": [
    "# Import all necessary modules\n",
    "import numpy as np\n",
    "import matplotlib.pyplot as plt\n",
    "import glob, json\n",
    "from sklearn.model_selection import train_test_split\n",
    "from sklearn.metrics import mean_absolute_error\n",
    "from sklearn.metrics import mean_squared_error\n",
    "from sklearn.linear_model import LinearRegression\n",
    "from sklearn.svm import SVR\n",
    "from xgboost import XGBRegressor\n",
    "from sklearn.model_selection import RandomizedSearchCV\n",
    "from sklearn.metrics import r2_score\n",
    "from sklearn.metrics import confusion_matrix\n",
    "\n",
    "from sklearn.metrics import balanced_accuracy_score\n",
    "from sklearn.model_selection import cross_val_score\n",
    "from sklearn.metrics import classification_report"
   ]
  },
  {
   "cell_type": "code",
   "execution_count": null,
   "id": "b7442829",
   "metadata": {},
   "outputs": [],
   "source": []
  },
  {
   "cell_type": "code",
   "execution_count": null,
   "id": "d5d65483",
   "metadata": {},
   "outputs": [],
   "source": []
  },
  {
   "cell_type": "code",
   "execution_count": 9,
   "id": "71f9e47b",
   "metadata": {},
   "outputs": [
    {
     "name": "stdout",
     "output_type": "stream",
     "text": [
      "995 ['Data_20120330_01_004_0', 'Data_20120330_01_004_1', 'Data_20120330_01_004_10', 'Data_20120330_01_004_11', 'Data_20120330_01_004_12']\n",
      "634\n",
      "634\n",
      "(2229,)\n"
     ]
    },
    {
     "data": {
      "text/plain": [
       "((634, 2229), 634)"
      ]
     },
     "execution_count": 9,
     "metadata": {},
     "output_type": "execute_result"
    }
   ],
   "source": [
    "# Load file names and labels for the processed data\n",
    "data_folder_prefix = \"250x250/Featured_Data_Update/Seg_Featured_\"\n",
    "\n",
    "with open(\"250x250/data_labels.json\", 'r') as json_file:\n",
    "    label_dict = json.load(json_file)\n",
    "\n",
    "data_files = glob.glob(\"250x250/Featured_Data_Update/Seg_Featured_*\")\n",
    "avalible_files=[]\n",
    "for fl in data_files:\n",
    "    avalible_files.append(fl[len(\"250x250/Featured_Data_Update\\Seg_Featured_\"):-len(\".npy\")])\n",
    "\n",
    "print(len(avalible_files), avalible_files[:5])\n",
    "\n",
    "file_names = set.intersection(set(avalible_files), set(list(label_dict.keys())))\n",
    "print(len(file_names))\n",
    "\n",
    "labels = []\n",
    "for fl in file_names:\n",
    "    labels.append(label_dict[fl])\n",
    "print(len(labels))\n",
    "\n",
    "files = [data_folder_prefix+x+\".npy\" for x in file_names]\n",
    "\n",
    "max_len = len([0]*576+[0]*576+[0]*576+[0]*250*2+[0]*1) \n",
    "flattened_test_load = np.zeros((max_len, ))\n",
    "print(flattened_test_load.shape)\n",
    "\n",
    "for fl in files:\n",
    "    data = np.load(fl, None, allow_pickle=True)\n",
    "    flattened_test_load = np.vstack((flattened_test_load, data))\n",
    "\n",
    "\n",
    "flattened_data = flattened_test_load[1:,:]\n",
    "flattened_data.shape, len(labels)"
   ]
  },
  {
   "cell_type": "code",
   "execution_count": null,
   "id": "1ce37573",
   "metadata": {},
   "outputs": [],
   "source": []
  },
  {
   "cell_type": "code",
   "execution_count": null,
   "id": "1d3487eb",
   "metadata": {},
   "outputs": [],
   "source": []
  },
  {
   "cell_type": "code",
   "execution_count": 4,
   "id": "1ac5f0a1",
   "metadata": {},
   "outputs": [
    {
     "name": "stdout",
     "output_type": "stream",
     "text": [
      "743\n",
      "743\n"
     ]
    }
   ],
   "source": [
    "# Load file names and labels for the processed data\n",
    "data_folder_prefix = \"250x250/Seg_Featured_\"\n",
    "\n",
    "with open(\"250x250/data_labels.json\", 'r') as json_file:\n",
    "    label_dict = json.load(json_file)\n",
    "\n",
    "\n",
    "file_names = list(label_dict.keys())\n",
    "print(len(file_names))\n",
    "\n",
    "labels = []\n",
    "for fl in file_names:\n",
    "    labels.append(label_dict[fl])\n",
    "print(len(labels))\n",
    "files = [data_folder_prefix+x+\".npy\" for x in file_names]"
   ]
  },
  {
   "cell_type": "code",
   "execution_count": 5,
   "id": "01a9cba5",
   "metadata": {},
   "outputs": [
    {
     "name": "stdout",
     "output_type": "stream",
     "text": [
      "(62507,)\n",
      "(744, 62507) (62507,) num padded: 106\n"
     ]
    },
    {
     "data": {
      "text/plain": [
       "((743, 62507), 743)"
      ]
     },
     "execution_count": 5,
     "metadata": {},
     "output_type": "execute_result"
    }
   ],
   "source": [
    "# Revised \n",
    "\n",
    "# files = glob.glob(\"Seg_Featured_Data/*.npy\")\n",
    "max_len = 250*250+7\n",
    "num_padded = 0\n",
    "flattened_test_load = np.zeros((max_len, ))\n",
    "print(flattened_test_load.shape)\n",
    "\n",
    "for fl in files:\n",
    "    test_load = np.load(fl, None, allow_pickle=True)\n",
    "    y,x,_ = test_load.shape\n",
    "\n",
    "    # Ignore depth 0\n",
    "    # Keep all Depth 1\n",
    "    #  if the x,y is less than 250x50 pad w 0s\n",
    "    layers_depth = test_load[:,:,1]\n",
    "    # print(layers_depth.shape)\n",
    "    if x < 250:\n",
    "        layers_depth = np.hstack((layers_depth, np.zeros((y, y-x))))\n",
    "        num_padded +=1\n",
    "    if y < 250:\n",
    "        layers_depth = np.hstack((layers_depth, np.zeros((250-y, 250))))\n",
    "    layers_depth = layers_depth.flatten()\n",
    "    # print(layers_depth.shape)\n",
    "\n",
    "\n",
    "    # Get the metrics from the other depths\n",
    "    vl, ct = np.unique(test_load[:,:,5], return_counts=True)\n",
    "    if len(ct)>1:\n",
    "        num_bp = ct[1]\n",
    "    else:\n",
    "        num_bp = 0\n",
    "\n",
    "    # print(\"conected components (mean, std)\", np.mean(test_load[:y//10-1,:x//10-1,2]), np.std(test_load[:y//10-1,:x//10-1,2]))\n",
    "    # print(\"orientaiton (mean, std)\", np.mean(test_load[:y//10-1,:x//10-1,3]), np.std(test_load[:y//10-1,:x//10-1,3]))\n",
    "    # print(\"mean orientaiton (mean, std)\", np.mean(test_load[:250//10-1,:250//10-1,4]), np.std(test_load[:250//10-1,:250//10-1,4]))\n",
    "    # print(\"num breakpoints\",num_bp)\n",
    "    # print(\"dist map (mean, std)\", np.mean(test_load[:,:,6]), np.std(test_load[:,:,6]))\n",
    "\n",
    "    data= np.append(layers_depth, [np.mean(test_load[:y//10-1,:x//10-1,2]), np.std(test_load[:y//10-1,:x//10-1,2]),\n",
    "                                    np.mean(test_load[:y//10-1,:x//10-1,3]), np.std(test_load[:y//10-1,:x//10-1,3]),\n",
    "                                    num_bp,\n",
    "                                    np.mean(test_load[:,:,6]), np.std(test_load[:,:,6])])\n",
    "\n",
    "    # print(data.shape)\n",
    "    flattened_test_load = np.vstack((flattened_test_load, data))\n",
    "\n",
    "print(flattened_test_load.shape,flattened_test_load[0].shape, \"num padded:\", num_padded)\n",
    "\n",
    "flattened_data = flattened_test_load[1:,:]\n",
    "flattened_data.shape, len(labels)\n"
   ]
  },
  {
   "cell_type": "code",
   "execution_count": 10,
   "id": "2622e595",
   "metadata": {},
   "outputs": [],
   "source": [
    "X_train, X_test, y_train, y_test = train_test_split(flattened_data, labels, test_size=0.2)"
   ]
  },
  {
   "cell_type": "code",
   "execution_count": 11,
   "id": "e322b485",
   "metadata": {},
   "outputs": [
    {
     "name": "stdout",
     "output_type": "stream",
     "text": [
      "(507, 2229)\n",
      "(127, 2229)\n",
      "507\n",
      "127\n"
     ]
    }
   ],
   "source": [
    "print(X_train.shape)\n",
    "print(X_test.shape)\n",
    "print(len(y_train))\n",
    "print(len(y_test))"
   ]
  },
  {
   "cell_type": "code",
   "execution_count": 12,
   "id": "3d5570be",
   "metadata": {},
   "outputs": [],
   "source": [
    "def mse(y_true, y_pred):\n",
    "    return np.average(np.square(np.subtract(y_true, y_pred)))"
   ]
  },
  {
   "cell_type": "code",
   "execution_count": 13,
   "id": "7ea8829f",
   "metadata": {},
   "outputs": [],
   "source": [
    "def rmse(y_true, y_pred):\n",
    "    return np.sqrt(np.average(np.square(np.subtract(y_true, y_pred))))"
   ]
  },
  {
   "cell_type": "code",
   "execution_count": 14,
   "id": "420d677f",
   "metadata": {},
   "outputs": [],
   "source": [
    "def mae(y_true, y_pred):\n",
    "    return np.average(np.absolute(np.subtract(y_true, y_pred)))"
   ]
  },
  {
   "cell_type": "code",
   "execution_count": 15,
   "id": "4cd55687",
   "metadata": {},
   "outputs": [
    {
     "data": {
      "text/html": [
       "<style>#sk-container-id-1 {color: black;}#sk-container-id-1 pre{padding: 0;}#sk-container-id-1 div.sk-toggleable {background-color: white;}#sk-container-id-1 label.sk-toggleable__label {cursor: pointer;display: block;width: 100%;margin-bottom: 0;padding: 0.3em;box-sizing: border-box;text-align: center;}#sk-container-id-1 label.sk-toggleable__label-arrow:before {content: \"▸\";float: left;margin-right: 0.25em;color: #696969;}#sk-container-id-1 label.sk-toggleable__label-arrow:hover:before {color: black;}#sk-container-id-1 div.sk-estimator:hover label.sk-toggleable__label-arrow:before {color: black;}#sk-container-id-1 div.sk-toggleable__content {max-height: 0;max-width: 0;overflow: hidden;text-align: left;background-color: #f0f8ff;}#sk-container-id-1 div.sk-toggleable__content pre {margin: 0.2em;color: black;border-radius: 0.25em;background-color: #f0f8ff;}#sk-container-id-1 input.sk-toggleable__control:checked~div.sk-toggleable__content {max-height: 200px;max-width: 100%;overflow: auto;}#sk-container-id-1 input.sk-toggleable__control:checked~label.sk-toggleable__label-arrow:before {content: \"▾\";}#sk-container-id-1 div.sk-estimator input.sk-toggleable__control:checked~label.sk-toggleable__label {background-color: #d4ebff;}#sk-container-id-1 div.sk-label input.sk-toggleable__control:checked~label.sk-toggleable__label {background-color: #d4ebff;}#sk-container-id-1 input.sk-hidden--visually {border: 0;clip: rect(1px 1px 1px 1px);clip: rect(1px, 1px, 1px, 1px);height: 1px;margin: -1px;overflow: hidden;padding: 0;position: absolute;width: 1px;}#sk-container-id-1 div.sk-estimator {font-family: monospace;background-color: #f0f8ff;border: 1px dotted black;border-radius: 0.25em;box-sizing: border-box;margin-bottom: 0.5em;}#sk-container-id-1 div.sk-estimator:hover {background-color: #d4ebff;}#sk-container-id-1 div.sk-parallel-item::after {content: \"\";width: 100%;border-bottom: 1px solid gray;flex-grow: 1;}#sk-container-id-1 div.sk-label:hover label.sk-toggleable__label {background-color: #d4ebff;}#sk-container-id-1 div.sk-serial::before {content: \"\";position: absolute;border-left: 1px solid gray;box-sizing: border-box;top: 0;bottom: 0;left: 50%;z-index: 0;}#sk-container-id-1 div.sk-serial {display: flex;flex-direction: column;align-items: center;background-color: white;padding-right: 0.2em;padding-left: 0.2em;position: relative;}#sk-container-id-1 div.sk-item {position: relative;z-index: 1;}#sk-container-id-1 div.sk-parallel {display: flex;align-items: stretch;justify-content: center;background-color: white;position: relative;}#sk-container-id-1 div.sk-item::before, #sk-container-id-1 div.sk-parallel-item::before {content: \"\";position: absolute;border-left: 1px solid gray;box-sizing: border-box;top: 0;bottom: 0;left: 50%;z-index: -1;}#sk-container-id-1 div.sk-parallel-item {display: flex;flex-direction: column;z-index: 1;position: relative;background-color: white;}#sk-container-id-1 div.sk-parallel-item:first-child::after {align-self: flex-end;width: 50%;}#sk-container-id-1 div.sk-parallel-item:last-child::after {align-self: flex-start;width: 50%;}#sk-container-id-1 div.sk-parallel-item:only-child::after {width: 0;}#sk-container-id-1 div.sk-dashed-wrapped {border: 1px dashed gray;margin: 0 0.4em 0.5em 0.4em;box-sizing: border-box;padding-bottom: 0.4em;background-color: white;}#sk-container-id-1 div.sk-label label {font-family: monospace;font-weight: bold;display: inline-block;line-height: 1.2em;}#sk-container-id-1 div.sk-label-container {text-align: center;}#sk-container-id-1 div.sk-container {/* jupyter's `normalize.less` sets `[hidden] { display: none; }` but bootstrap.min.css set `[hidden] { display: none !important; }` so we also need the `!important` here to be able to override the default hidden behavior on the sphinx rendered scikit-learn.org. See: https://github.com/scikit-learn/scikit-learn/issues/21755 */display: inline-block !important;position: relative;}#sk-container-id-1 div.sk-text-repr-fallback {display: none;}</style><div id=\"sk-container-id-1\" class=\"sk-top-container\"><div class=\"sk-text-repr-fallback\"><pre>LinearRegression()</pre><b>In a Jupyter environment, please rerun this cell to show the HTML representation or trust the notebook. <br />On GitHub, the HTML representation is unable to render, please try loading this page with nbviewer.org.</b></div><div class=\"sk-container\" hidden><div class=\"sk-item\"><div class=\"sk-estimator sk-toggleable\"><input class=\"sk-toggleable__control sk-hidden--visually\" id=\"sk-estimator-id-1\" type=\"checkbox\" checked><label for=\"sk-estimator-id-1\" class=\"sk-toggleable__label sk-toggleable__label-arrow\">LinearRegression</label><div class=\"sk-toggleable__content\"><pre>LinearRegression()</pre></div></div></div></div></div>"
      ],
      "text/plain": [
       "LinearRegression()"
      ]
     },
     "execution_count": 15,
     "metadata": {},
     "output_type": "execute_result"
    }
   ],
   "source": [
    "# Build a LinearRegression model and train it on (X_train, y_train)\n",
    "lin_reg = LinearRegression()\n",
    "lin_reg.fit(X_train, y_train)"
   ]
  },
  {
   "cell_type": "code",
   "execution_count": 16,
   "id": "efe606a0",
   "metadata": {},
   "outputs": [
    {
     "name": "stdout",
     "output_type": "stream",
     "text": [
      "Linear Regression MAE 1.670425090479847\n",
      "Linear Regression MSE 4.636249582720583\n"
     ]
    }
   ],
   "source": [
    "# Test lin_reg on X_test\n",
    "y_pred_lin_reg = lin_reg.predict(X_test)\n",
    "\n",
    "mae_lin_reg = mean_absolute_error(y_test, y_pred_lin_reg)\n",
    "print('Linear Regression MAE', mae_lin_reg)\n",
    "\n",
    "mse_lin_reg = mean_squared_error(y_test, y_pred_lin_reg)\n",
    "print('Linear Regression MSE', mse_lin_reg)"
   ]
  },
  {
   "cell_type": "code",
   "execution_count": null,
   "id": "f920224f",
   "metadata": {},
   "outputs": [],
   "source": []
  },
  {
   "cell_type": "code",
   "execution_count": 17,
   "id": "7f5eadea",
   "metadata": {},
   "outputs": [
    {
     "data": {
      "text/html": [
       "<style>#sk-container-id-2 {color: black;}#sk-container-id-2 pre{padding: 0;}#sk-container-id-2 div.sk-toggleable {background-color: white;}#sk-container-id-2 label.sk-toggleable__label {cursor: pointer;display: block;width: 100%;margin-bottom: 0;padding: 0.3em;box-sizing: border-box;text-align: center;}#sk-container-id-2 label.sk-toggleable__label-arrow:before {content: \"▸\";float: left;margin-right: 0.25em;color: #696969;}#sk-container-id-2 label.sk-toggleable__label-arrow:hover:before {color: black;}#sk-container-id-2 div.sk-estimator:hover label.sk-toggleable__label-arrow:before {color: black;}#sk-container-id-2 div.sk-toggleable__content {max-height: 0;max-width: 0;overflow: hidden;text-align: left;background-color: #f0f8ff;}#sk-container-id-2 div.sk-toggleable__content pre {margin: 0.2em;color: black;border-radius: 0.25em;background-color: #f0f8ff;}#sk-container-id-2 input.sk-toggleable__control:checked~div.sk-toggleable__content {max-height: 200px;max-width: 100%;overflow: auto;}#sk-container-id-2 input.sk-toggleable__control:checked~label.sk-toggleable__label-arrow:before {content: \"▾\";}#sk-container-id-2 div.sk-estimator input.sk-toggleable__control:checked~label.sk-toggleable__label {background-color: #d4ebff;}#sk-container-id-2 div.sk-label input.sk-toggleable__control:checked~label.sk-toggleable__label {background-color: #d4ebff;}#sk-container-id-2 input.sk-hidden--visually {border: 0;clip: rect(1px 1px 1px 1px);clip: rect(1px, 1px, 1px, 1px);height: 1px;margin: -1px;overflow: hidden;padding: 0;position: absolute;width: 1px;}#sk-container-id-2 div.sk-estimator {font-family: monospace;background-color: #f0f8ff;border: 1px dotted black;border-radius: 0.25em;box-sizing: border-box;margin-bottom: 0.5em;}#sk-container-id-2 div.sk-estimator:hover {background-color: #d4ebff;}#sk-container-id-2 div.sk-parallel-item::after {content: \"\";width: 100%;border-bottom: 1px solid gray;flex-grow: 1;}#sk-container-id-2 div.sk-label:hover label.sk-toggleable__label {background-color: #d4ebff;}#sk-container-id-2 div.sk-serial::before {content: \"\";position: absolute;border-left: 1px solid gray;box-sizing: border-box;top: 0;bottom: 0;left: 50%;z-index: 0;}#sk-container-id-2 div.sk-serial {display: flex;flex-direction: column;align-items: center;background-color: white;padding-right: 0.2em;padding-left: 0.2em;position: relative;}#sk-container-id-2 div.sk-item {position: relative;z-index: 1;}#sk-container-id-2 div.sk-parallel {display: flex;align-items: stretch;justify-content: center;background-color: white;position: relative;}#sk-container-id-2 div.sk-item::before, #sk-container-id-2 div.sk-parallel-item::before {content: \"\";position: absolute;border-left: 1px solid gray;box-sizing: border-box;top: 0;bottom: 0;left: 50%;z-index: -1;}#sk-container-id-2 div.sk-parallel-item {display: flex;flex-direction: column;z-index: 1;position: relative;background-color: white;}#sk-container-id-2 div.sk-parallel-item:first-child::after {align-self: flex-end;width: 50%;}#sk-container-id-2 div.sk-parallel-item:last-child::after {align-self: flex-start;width: 50%;}#sk-container-id-2 div.sk-parallel-item:only-child::after {width: 0;}#sk-container-id-2 div.sk-dashed-wrapped {border: 1px dashed gray;margin: 0 0.4em 0.5em 0.4em;box-sizing: border-box;padding-bottom: 0.4em;background-color: white;}#sk-container-id-2 div.sk-label label {font-family: monospace;font-weight: bold;display: inline-block;line-height: 1.2em;}#sk-container-id-2 div.sk-label-container {text-align: center;}#sk-container-id-2 div.sk-container {/* jupyter's `normalize.less` sets `[hidden] { display: none; }` but bootstrap.min.css set `[hidden] { display: none !important; }` so we also need the `!important` here to be able to override the default hidden behavior on the sphinx rendered scikit-learn.org. See: https://github.com/scikit-learn/scikit-learn/issues/21755 */display: inline-block !important;position: relative;}#sk-container-id-2 div.sk-text-repr-fallback {display: none;}</style><div id=\"sk-container-id-2\" class=\"sk-top-container\"><div class=\"sk-text-repr-fallback\"><pre>SVR(kernel=&#x27;linear&#x27;)</pre><b>In a Jupyter environment, please rerun this cell to show the HTML representation or trust the notebook. <br />On GitHub, the HTML representation is unable to render, please try loading this page with nbviewer.org.</b></div><div class=\"sk-container\" hidden><div class=\"sk-item\"><div class=\"sk-estimator sk-toggleable\"><input class=\"sk-toggleable__control sk-hidden--visually\" id=\"sk-estimator-id-2\" type=\"checkbox\" checked><label for=\"sk-estimator-id-2\" class=\"sk-toggleable__label sk-toggleable__label-arrow\">SVR</label><div class=\"sk-toggleable__content\"><pre>SVR(kernel=&#x27;linear&#x27;)</pre></div></div></div></div></div>"
      ],
      "text/plain": [
       "SVR(kernel='linear')"
      ]
     },
     "execution_count": 17,
     "metadata": {},
     "output_type": "execute_result"
    }
   ],
   "source": [
    "# Build a SVR (SVM Regression) model and train it on (X_train, y_train), kernel should be 'linear'\n",
    "svr = SVR(kernel='linear')\n",
    "svr.fit(X_train, y_train)"
   ]
  },
  {
   "cell_type": "code",
   "execution_count": 18,
   "id": "d977b7bc",
   "metadata": {},
   "outputs": [],
   "source": [
    "# Test svr\n",
    "y_pred_svr = svr.predict(X_test)"
   ]
  },
  {
   "cell_type": "code",
   "execution_count": 19,
   "id": "db5544eb",
   "metadata": {},
   "outputs": [
    {
     "name": "stdout",
     "output_type": "stream",
     "text": [
      "SRV MAE 1.4413666063858876\n",
      "SRV MSE 3.4760130068418227\n"
     ]
    }
   ],
   "source": [
    "# Test lin_reg on X_test\n",
    "y_pred_svr = svr.predict(X_test)\n",
    "\n",
    "mae_srv = mean_absolute_error(y_test, y_pred_svr)\n",
    "print('SRV MAE', mae_srv)\n",
    "\n",
    "mse_srv = mean_squared_error(y_test, y_pred_svr)\n",
    "print('SRV MSE', mse_srv)"
   ]
  },
  {
   "cell_type": "code",
   "execution_count": null,
   "id": "5e6f00f5",
   "metadata": {},
   "outputs": [],
   "source": []
  },
  {
   "cell_type": "code",
   "execution_count": 20,
   "id": "7d647b20",
   "metadata": {},
   "outputs": [
    {
     "data": {
      "text/html": [
       "<style>#sk-container-id-3 {color: black;}#sk-container-id-3 pre{padding: 0;}#sk-container-id-3 div.sk-toggleable {background-color: white;}#sk-container-id-3 label.sk-toggleable__label {cursor: pointer;display: block;width: 100%;margin-bottom: 0;padding: 0.3em;box-sizing: border-box;text-align: center;}#sk-container-id-3 label.sk-toggleable__label-arrow:before {content: \"▸\";float: left;margin-right: 0.25em;color: #696969;}#sk-container-id-3 label.sk-toggleable__label-arrow:hover:before {color: black;}#sk-container-id-3 div.sk-estimator:hover label.sk-toggleable__label-arrow:before {color: black;}#sk-container-id-3 div.sk-toggleable__content {max-height: 0;max-width: 0;overflow: hidden;text-align: left;background-color: #f0f8ff;}#sk-container-id-3 div.sk-toggleable__content pre {margin: 0.2em;color: black;border-radius: 0.25em;background-color: #f0f8ff;}#sk-container-id-3 input.sk-toggleable__control:checked~div.sk-toggleable__content {max-height: 200px;max-width: 100%;overflow: auto;}#sk-container-id-3 input.sk-toggleable__control:checked~label.sk-toggleable__label-arrow:before {content: \"▾\";}#sk-container-id-3 div.sk-estimator input.sk-toggleable__control:checked~label.sk-toggleable__label {background-color: #d4ebff;}#sk-container-id-3 div.sk-label input.sk-toggleable__control:checked~label.sk-toggleable__label {background-color: #d4ebff;}#sk-container-id-3 input.sk-hidden--visually {border: 0;clip: rect(1px 1px 1px 1px);clip: rect(1px, 1px, 1px, 1px);height: 1px;margin: -1px;overflow: hidden;padding: 0;position: absolute;width: 1px;}#sk-container-id-3 div.sk-estimator {font-family: monospace;background-color: #f0f8ff;border: 1px dotted black;border-radius: 0.25em;box-sizing: border-box;margin-bottom: 0.5em;}#sk-container-id-3 div.sk-estimator:hover {background-color: #d4ebff;}#sk-container-id-3 div.sk-parallel-item::after {content: \"\";width: 100%;border-bottom: 1px solid gray;flex-grow: 1;}#sk-container-id-3 div.sk-label:hover label.sk-toggleable__label {background-color: #d4ebff;}#sk-container-id-3 div.sk-serial::before {content: \"\";position: absolute;border-left: 1px solid gray;box-sizing: border-box;top: 0;bottom: 0;left: 50%;z-index: 0;}#sk-container-id-3 div.sk-serial {display: flex;flex-direction: column;align-items: center;background-color: white;padding-right: 0.2em;padding-left: 0.2em;position: relative;}#sk-container-id-3 div.sk-item {position: relative;z-index: 1;}#sk-container-id-3 div.sk-parallel {display: flex;align-items: stretch;justify-content: center;background-color: white;position: relative;}#sk-container-id-3 div.sk-item::before, #sk-container-id-3 div.sk-parallel-item::before {content: \"\";position: absolute;border-left: 1px solid gray;box-sizing: border-box;top: 0;bottom: 0;left: 50%;z-index: -1;}#sk-container-id-3 div.sk-parallel-item {display: flex;flex-direction: column;z-index: 1;position: relative;background-color: white;}#sk-container-id-3 div.sk-parallel-item:first-child::after {align-self: flex-end;width: 50%;}#sk-container-id-3 div.sk-parallel-item:last-child::after {align-self: flex-start;width: 50%;}#sk-container-id-3 div.sk-parallel-item:only-child::after {width: 0;}#sk-container-id-3 div.sk-dashed-wrapped {border: 1px dashed gray;margin: 0 0.4em 0.5em 0.4em;box-sizing: border-box;padding-bottom: 0.4em;background-color: white;}#sk-container-id-3 div.sk-label label {font-family: monospace;font-weight: bold;display: inline-block;line-height: 1.2em;}#sk-container-id-3 div.sk-label-container {text-align: center;}#sk-container-id-3 div.sk-container {/* jupyter's `normalize.less` sets `[hidden] { display: none; }` but bootstrap.min.css set `[hidden] { display: none !important; }` so we also need the `!important` here to be able to override the default hidden behavior on the sphinx rendered scikit-learn.org. See: https://github.com/scikit-learn/scikit-learn/issues/21755 */display: inline-block !important;position: relative;}#sk-container-id-3 div.sk-text-repr-fallback {display: none;}</style><div id=\"sk-container-id-3\" class=\"sk-top-container\"><div class=\"sk-text-repr-fallback\"><pre>XGBRegressor(base_score=None, booster=None, callbacks=None,\n",
       "             colsample_bylevel=None, colsample_bynode=None,\n",
       "             colsample_bytree=None, device=None, early_stopping_rounds=None,\n",
       "             enable_categorical=False, eval_metric=None, feature_types=None,\n",
       "             gamma=None, grow_policy=None, importance_type=None,\n",
       "             interaction_constraints=None, learning_rate=None, max_bin=None,\n",
       "             max_cat_threshold=None, max_cat_to_onehot=None,\n",
       "             max_delta_step=None, max_depth=None, max_leaves=None,\n",
       "             min_child_weight=None, missing=nan, monotone_constraints=None,\n",
       "             multi_strategy=None, n_estimators=None, n_jobs=None,\n",
       "             num_parallel_tree=None, random_state=None, ...)</pre><b>In a Jupyter environment, please rerun this cell to show the HTML representation or trust the notebook. <br />On GitHub, the HTML representation is unable to render, please try loading this page with nbviewer.org.</b></div><div class=\"sk-container\" hidden><div class=\"sk-item\"><div class=\"sk-estimator sk-toggleable\"><input class=\"sk-toggleable__control sk-hidden--visually\" id=\"sk-estimator-id-3\" type=\"checkbox\" checked><label for=\"sk-estimator-id-3\" class=\"sk-toggleable__label sk-toggleable__label-arrow\">XGBRegressor</label><div class=\"sk-toggleable__content\"><pre>XGBRegressor(base_score=None, booster=None, callbacks=None,\n",
       "             colsample_bylevel=None, colsample_bynode=None,\n",
       "             colsample_bytree=None, device=None, early_stopping_rounds=None,\n",
       "             enable_categorical=False, eval_metric=None, feature_types=None,\n",
       "             gamma=None, grow_policy=None, importance_type=None,\n",
       "             interaction_constraints=None, learning_rate=None, max_bin=None,\n",
       "             max_cat_threshold=None, max_cat_to_onehot=None,\n",
       "             max_delta_step=None, max_depth=None, max_leaves=None,\n",
       "             min_child_weight=None, missing=nan, monotone_constraints=None,\n",
       "             multi_strategy=None, n_estimators=None, n_jobs=None,\n",
       "             num_parallel_tree=None, random_state=None, ...)</pre></div></div></div></div></div>"
      ],
      "text/plain": [
       "XGBRegressor(base_score=None, booster=None, callbacks=None,\n",
       "             colsample_bylevel=None, colsample_bynode=None,\n",
       "             colsample_bytree=None, device=None, early_stopping_rounds=None,\n",
       "             enable_categorical=False, eval_metric=None, feature_types=None,\n",
       "             gamma=None, grow_policy=None, importance_type=None,\n",
       "             interaction_constraints=None, learning_rate=None, max_bin=None,\n",
       "             max_cat_threshold=None, max_cat_to_onehot=None,\n",
       "             max_delta_step=None, max_depth=None, max_leaves=None,\n",
       "             min_child_weight=None, missing=nan, monotone_constraints=None,\n",
       "             multi_strategy=None, n_estimators=None, n_jobs=None,\n",
       "             num_parallel_tree=None, random_state=None, ...)"
      ]
     },
     "execution_count": 20,
     "metadata": {},
     "output_type": "execute_result"
    }
   ],
   "source": [
    "# Build a xgb regression model and train it on (X_train, y_train)\n",
    "xgb_reg = XGBRegressor(objective ='reg:squarederror')\n",
    "xgb_reg.fit(X_train, y_train)"
   ]
  },
  {
   "cell_type": "code",
   "execution_count": 21,
   "id": "19b806b5",
   "metadata": {},
   "outputs": [
    {
     "name": "stdout",
     "output_type": "stream",
     "text": [
      "SRV MAE 0.7363377443448765\n",
      "SRV MSE 1.2575617120541245\n"
     ]
    }
   ],
   "source": [
    "# Test xgb_reg\n",
    "y_pred_xgb = xgb_reg.predict(X_test)\n",
    "\n",
    "\n",
    "mae_xgb = mean_absolute_error(y_test, y_pred_xgb)\n",
    "print('SRV MAE', mae_xgb)\n",
    "\n",
    "mse_xgb = mean_squared_error(y_test, y_pred_xgb)\n",
    "print('SRV MSE', mse_xgb)"
   ]
  },
  {
   "cell_type": "code",
   "execution_count": 22,
   "id": "0962329d",
   "metadata": {},
   "outputs": [],
   "source": [
    "y_pred_xgb10 = np.rint(y_pred_xgb)"
   ]
  },
  {
   "cell_type": "code",
   "execution_count": 23,
   "id": "8dcebba3",
   "metadata": {},
   "outputs": [],
   "source": [
    "y_test10 = np.rint(y_test)"
   ]
  },
  {
   "cell_type": "code",
   "execution_count": 24,
   "id": "4e5ed034",
   "metadata": {},
   "outputs": [
    {
     "data": {
      "text/plain": [
       "array([[ 0,  0,  0,  2,  4],\n",
       "       [ 0,  0,  0,  0,  1],\n",
       "       [ 0,  0,  0,  2,  5],\n",
       "       [ 0,  1,  0,  4, 11],\n",
       "       [ 0,  0,  8, 21, 68]], dtype=int64)"
      ]
     },
     "execution_count": 24,
     "metadata": {},
     "output_type": "execute_result"
    }
   ],
   "source": [
    "confusion_matrix(y_test10, y_pred_xgb10)"
   ]
  },
  {
   "cell_type": "code",
   "execution_count": 25,
   "id": "43ad2f90",
   "metadata": {},
   "outputs": [
    {
     "name": "stdout",
     "output_type": "stream",
     "text": [
      "0.1902061855670103\n"
     ]
    }
   ],
   "source": [
    "balanced_acc = balanced_accuracy_score(y_test10, y_pred_xgb10)\n",
    "print(balanced_acc)"
   ]
  },
  {
   "cell_type": "code",
   "execution_count": 26,
   "id": "199c965c",
   "metadata": {},
   "outputs": [
    {
     "name": "stdout",
     "output_type": "stream",
     "text": [
      "              precision    recall  f1-score   support\n",
      "\n",
      "         0.0       0.00      0.00      0.00         6\n",
      "         1.0       0.00      0.00      0.00         1\n",
      "         2.0       0.00      0.00      0.00         7\n",
      "         3.0       0.14      0.25      0.18        16\n",
      "         4.0       0.76      0.70      0.73        97\n",
      "\n",
      "    accuracy                           0.57       127\n",
      "   macro avg       0.18      0.19      0.18       127\n",
      "weighted avg       0.60      0.57      0.58       127\n",
      "\n"
     ]
    },
    {
     "name": "stderr",
     "output_type": "stream",
     "text": [
      "C:\\Users\\lukez\\anaconda3\\envs\\ComputerVision\\lib\\site-packages\\sklearn\\metrics\\_classification.py:1471: UndefinedMetricWarning: Precision and F-score are ill-defined and being set to 0.0 in labels with no predicted samples. Use `zero_division` parameter to control this behavior.\n",
      "  _warn_prf(average, modifier, msg_start, len(result))\n",
      "C:\\Users\\lukez\\anaconda3\\envs\\ComputerVision\\lib\\site-packages\\sklearn\\metrics\\_classification.py:1471: UndefinedMetricWarning: Precision and F-score are ill-defined and being set to 0.0 in labels with no predicted samples. Use `zero_division` parameter to control this behavior.\n",
      "  _warn_prf(average, modifier, msg_start, len(result))\n",
      "C:\\Users\\lukez\\anaconda3\\envs\\ComputerVision\\lib\\site-packages\\sklearn\\metrics\\_classification.py:1471: UndefinedMetricWarning: Precision and F-score are ill-defined and being set to 0.0 in labels with no predicted samples. Use `zero_division` parameter to control this behavior.\n",
      "  _warn_prf(average, modifier, msg_start, len(result))\n"
     ]
    }
   ],
   "source": [
    "print(classification_report(y_test10, y_pred_xgb10))"
   ]
  },
  {
   "cell_type": "code",
   "execution_count": 27,
   "id": "59cbb879",
   "metadata": {},
   "outputs": [
    {
     "name": "stdout",
     "output_type": "stream",
     "text": [
      "[4. 4. 4. 4. 4. 4. 4. 4. 4. 3.]\n"
     ]
    }
   ],
   "source": [
    "print(y_test10[0:10])"
   ]
  },
  {
   "cell_type": "code",
   "execution_count": 28,
   "id": "60787f59",
   "metadata": {},
   "outputs": [
    {
     "name": "stdout",
     "output_type": "stream",
     "text": [
      "[2. 4. 4. 4. 4. 4. 2. 4. 4. 3.]\n"
     ]
    }
   ],
   "source": [
    "print(y_pred_xgb10[0:10])"
   ]
  },
  {
   "cell_type": "code",
   "execution_count": null,
   "id": "5bd298de",
   "metadata": {},
   "outputs": [],
   "source": []
  },
  {
   "cell_type": "code",
   "execution_count": null,
   "id": "f242ab9e",
   "metadata": {},
   "outputs": [],
   "source": []
  },
  {
   "cell_type": "code",
   "execution_count": null,
   "id": "5045efee",
   "metadata": {},
   "outputs": [],
   "source": []
  },
  {
   "cell_type": "code",
   "execution_count": 52,
   "id": "10bc6b15",
   "metadata": {},
   "outputs": [
    {
     "name": "stdout",
     "output_type": "stream",
     "text": [
      "SRV MAE 1.5986129494036398\n",
      "SRV MSE 4.434646308685692\n"
     ]
    }
   ],
   "source": [
    "# Build a SVR (SVM Regression) model and train it on (X_train, y_train), kernel should be 'linear'\n",
    "svrL = SVR(kernel='linear')\n",
    "svrL.fit(X_train1, y_train1)\n",
    "\n",
    "# Test lin_reg on X_test\n",
    "y_pred_svrL = svrL.predict(X_test1)\n",
    "\n",
    "mae_svrL = mean_absolute_error(y_test, np.multiply(y_pred_svrL, 4))\n",
    "print('SRV MAE', mae_svrL)\n",
    "\n",
    "mse_svrL = mean_squared_error(y_test, np.multiply(y_pred_svrL, 4))\n",
    "print('SRV MSE', mse_svrL)"
   ]
  },
  {
   "cell_type": "code",
   "execution_count": 53,
   "id": "cc07422b",
   "metadata": {},
   "outputs": [],
   "source": [
    "max_svrL = np.max(y_pred_svrL)"
   ]
  },
  {
   "cell_type": "code",
   "execution_count": 54,
   "id": "cfd16781",
   "metadata": {},
   "outputs": [
    {
     "name": "stdout",
     "output_type": "stream",
     "text": [
      "              precision    recall  f1-score   support\n",
      "\n",
      "        -2.0       0.00      0.00      0.00         0\n",
      "        -1.0       0.00      0.00      0.00         0\n",
      "         0.0       0.25      0.17      0.20         6\n",
      "         1.0       0.00      0.00      0.00         1\n",
      "         2.0       0.05      0.14      0.08         7\n",
      "         3.0       0.08      0.12      0.10        16\n",
      "         4.0       0.68      0.20      0.30        97\n",
      "         5.0       0.00      0.00      0.00         0\n",
      "         6.0       0.00      0.00      0.00         0\n",
      "         7.0       0.00      0.00      0.00         0\n",
      "         8.0       0.00      0.00      0.00         0\n",
      "         9.0       0.00      0.00      0.00         0\n",
      "\n",
      "    accuracy                           0.18       127\n",
      "   macro avg       0.09      0.05      0.06       127\n",
      "weighted avg       0.54      0.18      0.26       127\n",
      "\n"
     ]
    },
    {
     "name": "stderr",
     "output_type": "stream",
     "text": [
      "C:\\Users\\lukez\\anaconda3\\envs\\ComputerVision\\lib\\site-packages\\sklearn\\metrics\\_classification.py:1471: UndefinedMetricWarning: Recall and F-score are ill-defined and being set to 0.0 in labels with no true samples. Use `zero_division` parameter to control this behavior.\n",
      "  _warn_prf(average, modifier, msg_start, len(result))\n",
      "C:\\Users\\lukez\\anaconda3\\envs\\ComputerVision\\lib\\site-packages\\sklearn\\metrics\\_classification.py:1471: UndefinedMetricWarning: Recall and F-score are ill-defined and being set to 0.0 in labels with no true samples. Use `zero_division` parameter to control this behavior.\n",
      "  _warn_prf(average, modifier, msg_start, len(result))\n",
      "C:\\Users\\lukez\\anaconda3\\envs\\ComputerVision\\lib\\site-packages\\sklearn\\metrics\\_classification.py:1471: UndefinedMetricWarning: Recall and F-score are ill-defined and being set to 0.0 in labels with no true samples. Use `zero_division` parameter to control this behavior.\n",
      "  _warn_prf(average, modifier, msg_start, len(result))\n"
     ]
    }
   ],
   "source": [
    "y_pred_svr10 = np.rint(np.multiply(y_pred_svrL, 4))\n",
    "y_test10 = np.rint(y_test)\n",
    "print(classification_report(y_test10, y_pred_svr10))"
   ]
  },
  {
   "cell_type": "code",
   "execution_count": 55,
   "id": "653bf862",
   "metadata": {},
   "outputs": [
    {
     "name": "stdout",
     "output_type": "stream",
     "text": [
      "SRV MAE 0.7101671299775499\n",
      "SRV MSE 0.9846162429865946\n"
     ]
    }
   ],
   "source": [
    "# Build a SVR (SVM Regression) model and train it on (X_train, y_train), kernel should be 'linear'\n",
    "svrR = SVR(kernel='rbf')\n",
    "svrR.fit(X_train1, y_train1)\n",
    "\n",
    "# Test lin_reg on X_test\n",
    "y_pred_svrR = svrR.predict(X_test1)\n",
    "\n",
    "mae_svrR = mean_absolute_error(y_test, np.multiply(y_pred_svrR, 4))\n",
    "print('SRV MAE', mae_svrR)\n",
    "\n",
    "mse_svrR = mean_squared_error(y_test, np.multiply(y_pred_svrR, 4))\n",
    "print('SRV MSE', mse_svrR)"
   ]
  },
  {
   "cell_type": "code",
   "execution_count": 56,
   "id": "8020f43c",
   "metadata": {},
   "outputs": [
    {
     "name": "stdout",
     "output_type": "stream",
     "text": [
      "              precision    recall  f1-score   support\n",
      "\n",
      "         0.0       0.00      0.00      0.00         6\n",
      "         1.0       0.00      0.00      0.00         1\n",
      "         2.0       0.00      0.00      0.00         7\n",
      "         3.0       0.11      0.38      0.17        16\n",
      "         4.0       0.76      0.56      0.64        97\n",
      "\n",
      "    accuracy                           0.47       127\n",
      "   macro avg       0.17      0.19      0.16       127\n",
      "weighted avg       0.59      0.47      0.51       127\n",
      "\n"
     ]
    },
    {
     "name": "stderr",
     "output_type": "stream",
     "text": [
      "C:\\Users\\lukez\\anaconda3\\envs\\ComputerVision\\lib\\site-packages\\sklearn\\metrics\\_classification.py:1471: UndefinedMetricWarning: Precision and F-score are ill-defined and being set to 0.0 in labels with no predicted samples. Use `zero_division` parameter to control this behavior.\n",
      "  _warn_prf(average, modifier, msg_start, len(result))\n",
      "C:\\Users\\lukez\\anaconda3\\envs\\ComputerVision\\lib\\site-packages\\sklearn\\metrics\\_classification.py:1471: UndefinedMetricWarning: Precision and F-score are ill-defined and being set to 0.0 in labels with no predicted samples. Use `zero_division` parameter to control this behavior.\n",
      "  _warn_prf(average, modifier, msg_start, len(result))\n",
      "C:\\Users\\lukez\\anaconda3\\envs\\ComputerVision\\lib\\site-packages\\sklearn\\metrics\\_classification.py:1471: UndefinedMetricWarning: Precision and F-score are ill-defined and being set to 0.0 in labels with no predicted samples. Use `zero_division` parameter to control this behavior.\n",
      "  _warn_prf(average, modifier, msg_start, len(result))\n"
     ]
    }
   ],
   "source": [
    "y_pred_svr10 = np.rint(np.multiply(y_pred_svrR, 4))\n",
    "y_test10 = np.rint(y_test)\n",
    "print(classification_report(y_test10, y_pred_svr10))"
   ]
  },
  {
   "cell_type": "code",
   "execution_count": 57,
   "id": "c31079f9",
   "metadata": {
    "scrolled": true
   },
   "outputs": [
    {
     "name": "stdout",
     "output_type": "stream",
     "text": [
      "SRV MAE 0.7115631353111643\n",
      "SRV MSE 1.1067803064761499\n"
     ]
    }
   ],
   "source": [
    "# Build a SVR (SVM Regression) model and train it on (X_train, y_train), kernel should be 'linear'\n",
    "svr3 = SVR(kernel=\"poly\", degree=3)\n",
    "svr3.fit(X_train1, y_train1)\n",
    "\n",
    "# Test lin_reg on X_test\n",
    "y_pred_svr3 = svr3.predict(X_test1)\n",
    "\n",
    "mae_svr3 = mean_absolute_error(y_test, np.multiply(y_pred_svr3, 4))\n",
    "print('SRV MAE', mae_svr3)\n",
    "\n",
    "mse_svr3 = mean_squared_error(y_test, np.multiply(y_pred_svr3, 4))\n",
    "print('SRV MSE', mse_svr3)"
   ]
  },
  {
   "cell_type": "code",
   "execution_count": 58,
   "id": "67b5f2ff",
   "metadata": {},
   "outputs": [
    {
     "name": "stdout",
     "output_type": "stream",
     "text": [
      "              precision    recall  f1-score   support\n",
      "\n",
      "         0.0       0.00      0.00      0.00         6\n",
      "         1.0       0.00      0.00      0.00         1\n",
      "         2.0       0.00      0.00      0.00         7\n",
      "         3.0       0.14      0.38      0.20        16\n",
      "         4.0       0.78      0.64      0.70        97\n",
      "         5.0       0.00      0.00      0.00         0\n",
      "\n",
      "    accuracy                           0.54       127\n",
      "   macro avg       0.15      0.17      0.15       127\n",
      "weighted avg       0.61      0.54      0.56       127\n",
      "\n"
     ]
    },
    {
     "name": "stderr",
     "output_type": "stream",
     "text": [
      "C:\\Users\\lukez\\anaconda3\\envs\\ComputerVision\\lib\\site-packages\\sklearn\\metrics\\_classification.py:1471: UndefinedMetricWarning: Precision and F-score are ill-defined and being set to 0.0 in labels with no predicted samples. Use `zero_division` parameter to control this behavior.\n",
      "  _warn_prf(average, modifier, msg_start, len(result))\n",
      "C:\\Users\\lukez\\anaconda3\\envs\\ComputerVision\\lib\\site-packages\\sklearn\\metrics\\_classification.py:1471: UndefinedMetricWarning: Recall and F-score are ill-defined and being set to 0.0 in labels with no true samples. Use `zero_division` parameter to control this behavior.\n",
      "  _warn_prf(average, modifier, msg_start, len(result))\n",
      "C:\\Users\\lukez\\anaconda3\\envs\\ComputerVision\\lib\\site-packages\\sklearn\\metrics\\_classification.py:1471: UndefinedMetricWarning: Precision and F-score are ill-defined and being set to 0.0 in labels with no predicted samples. Use `zero_division` parameter to control this behavior.\n",
      "  _warn_prf(average, modifier, msg_start, len(result))\n",
      "C:\\Users\\lukez\\anaconda3\\envs\\ComputerVision\\lib\\site-packages\\sklearn\\metrics\\_classification.py:1471: UndefinedMetricWarning: Recall and F-score are ill-defined and being set to 0.0 in labels with no true samples. Use `zero_division` parameter to control this behavior.\n",
      "  _warn_prf(average, modifier, msg_start, len(result))\n",
      "C:\\Users\\lukez\\anaconda3\\envs\\ComputerVision\\lib\\site-packages\\sklearn\\metrics\\_classification.py:1471: UndefinedMetricWarning: Precision and F-score are ill-defined and being set to 0.0 in labels with no predicted samples. Use `zero_division` parameter to control this behavior.\n",
      "  _warn_prf(average, modifier, msg_start, len(result))\n",
      "C:\\Users\\lukez\\anaconda3\\envs\\ComputerVision\\lib\\site-packages\\sklearn\\metrics\\_classification.py:1471: UndefinedMetricWarning: Recall and F-score are ill-defined and being set to 0.0 in labels with no true samples. Use `zero_division` parameter to control this behavior.\n",
      "  _warn_prf(average, modifier, msg_start, len(result))\n"
     ]
    }
   ],
   "source": [
    "y_pred_svr10 = np.rint(np.multiply(y_pred_svr3, 4))\n",
    "y_test10 = np.rint(y_test)\n",
    "print(classification_report(y_test10, y_pred_svr10))"
   ]
  },
  {
   "cell_type": "code",
   "execution_count": 59,
   "id": "0f312705",
   "metadata": {},
   "outputs": [
    {
     "name": "stdout",
     "output_type": "stream",
     "text": [
      "SRV MAE 0.7251805710334881\n",
      "SRV MSE 7.097117704644134\n"
     ]
    }
   ],
   "source": [
    "# Build a SVR (SVM Regression) model and train it on (X_train, y_train), kernel should be 'linear'\n",
    "svr4 = SVR(kernel=\"poly\", degree=4)\n",
    "svr4.fit(X_train1, y_train1)\n",
    "\n",
    "# Test lin_reg on X_test\n",
    "y_pred_svr4 = svr4.predict(X_test1)\n",
    "\n",
    "mae_svr4 = mean_absolute_error(y_test, np.multiply(y_pred_svr4, 4))\n",
    "print('SRV MAE', mae_svr4)\n",
    "\n",
    "mse_svr4 = mean_squared_error(y_test1, np.multiply(y_pred_svr4, 4))\n",
    "print('SRV MSE', mse_svr4)"
   ]
  },
  {
   "cell_type": "code",
   "execution_count": 78,
   "id": "f432853f",
   "metadata": {},
   "outputs": [
    {
     "name": "stdout",
     "output_type": "stream",
     "text": [
      "SRV MAE 1.207218292314996\n",
      "SRV MSE 3.3767953557946204\n"
     ]
    }
   ],
   "source": [
    "# Build a SVR (SVM Regression) model and train it on (X_train, y_train), kernel should be 'linear'\n",
    "svrS = SVR(kernel=\"sigmoid\")\n",
    "svrS.fit(X_train1, y_train1)\n",
    "\n",
    "# Test lin_reg on X_test\n",
    "y_pred_svrS = svrS.predict(X_test1)\n",
    "\n",
    "mae_svrS = mean_absolute_error(y_test, np.multiply(y_pred_svrS, 4))\n",
    "print('SRV MAE', mae_svrS)\n",
    "\n",
    "mse_svrS = mean_squared_error(y_test, np.multiply(y_pred_svrS, 4))\n",
    "print('SRV MSE', mse_svrS)"
   ]
  },
  {
   "cell_type": "code",
   "execution_count": null,
   "id": "1852079c",
   "metadata": {},
   "outputs": [],
   "source": []
  },
  {
   "cell_type": "code",
   "execution_count": 79,
   "id": "8d1cc34a",
   "metadata": {},
   "outputs": [
    {
     "name": "stdout",
     "output_type": "stream",
     "text": [
      "SRV MAE 0.7363377443448765\n",
      "SRV MSE 1.2575617120541245\n"
     ]
    }
   ],
   "source": [
    "# Build a xgb regression model and train it on (X_train, y_train)\n",
    "xgb_reg = XGBRegressor(objective ='reg:squarederror')\n",
    "xgb_reg.fit(X_train, y_train)\n",
    "\n",
    "# Test xgb_reg\n",
    "y_pred_xgb = xgb_reg.predict(X_test)\n",
    "\n",
    "\n",
    "mae_xgb = mean_absolute_error(y_test, y_pred_xgb)\n",
    "print('SRV MAE', mae_xgb)\n",
    "\n",
    "mse_xgb = mean_squared_error(y_test, y_pred_xgb)\n",
    "print('SRV MSE', mse_xgb)"
   ]
  },
  {
   "cell_type": "code",
   "execution_count": 80,
   "id": "cd987da1",
   "metadata": {},
   "outputs": [
    {
     "name": "stdout",
     "output_type": "stream",
     "text": [
      "SRV MAE 0.702674856336098\n",
      "SRV MSE 1.1942818201705918\n"
     ]
    }
   ],
   "source": [
    "# Build a xgb regression model and train it on (X_train, y_train)\n",
    "xgb_reg1 = XGBRegressor(objective ='reg:squarederror', scale_pos_weight = .2)\n",
    "xgb_reg1.fit(X_train, y_train)\n",
    "\n",
    "# Test xgb_reg\n",
    "y_pred_xgb1 = xgb_reg1.predict(X_test)\n",
    "\n",
    "\n",
    "mae_xgb1 = mean_absolute_error(y_test, y_pred_xgb1)\n",
    "print('SRV MAE', mae_xgb1)\n",
    "\n",
    "mse_xgb1 = mean_squared_error(y_test, y_pred_xgb1)\n",
    "print('SRV MSE', mse_xgb1)"
   ]
  },
  {
   "cell_type": "code",
   "execution_count": 81,
   "id": "bcb3880d",
   "metadata": {},
   "outputs": [
    {
     "name": "stdout",
     "output_type": "stream",
     "text": [
      "SRV MAE 0.6767689768723616\n",
      "SRV MSE 1.1450596243620361\n"
     ]
    }
   ],
   "source": [
    "# Build a xgb regression model and train it on (X_train, y_train)\n",
    "xgb_reg2 = XGBRegressor(objective ='reg:squarederror', scale_pos_weight = .5)\n",
    "xgb_reg2.fit(X_train, y_train)\n",
    "\n",
    "# Test xgb_reg\n",
    "y_pred_xgb2 = xgb_reg2.predict(X_test)\n",
    "\n",
    "\n",
    "mae_xgb2 = mean_absolute_error(y_test, y_pred_xgb2)\n",
    "print('SRV MAE', mae_xgb2)\n",
    "\n",
    "mse_xgb2 = mean_squared_error(y_test, y_pred_xgb2)\n",
    "print('SRV MSE', mse_xgb2)"
   ]
  },
  {
   "cell_type": "code",
   "execution_count": 82,
   "id": "4e9fa66c",
   "metadata": {},
   "outputs": [
    {
     "name": "stdout",
     "output_type": "stream",
     "text": [
      "              precision    recall  f1-score   support\n",
      "\n",
      "         0.0       0.00      0.00      0.00         6\n",
      "         1.0       0.00      0.00      0.00         1\n",
      "         2.0       0.00      0.00      0.00         7\n",
      "         3.0       0.16      0.38      0.23        16\n",
      "         4.0       0.79      0.71      0.75        97\n",
      "\n",
      "    accuracy                           0.59       127\n",
      "   macro avg       0.19      0.22      0.20       127\n",
      "weighted avg       0.63      0.59      0.60       127\n",
      "\n"
     ]
    },
    {
     "name": "stderr",
     "output_type": "stream",
     "text": [
      "C:\\Users\\lukez\\anaconda3\\envs\\ComputerVision\\lib\\site-packages\\sklearn\\metrics\\_classification.py:1471: UndefinedMetricWarning: Precision and F-score are ill-defined and being set to 0.0 in labels with no predicted samples. Use `zero_division` parameter to control this behavior.\n",
      "  _warn_prf(average, modifier, msg_start, len(result))\n",
      "C:\\Users\\lukez\\anaconda3\\envs\\ComputerVision\\lib\\site-packages\\sklearn\\metrics\\_classification.py:1471: UndefinedMetricWarning: Precision and F-score are ill-defined and being set to 0.0 in labels with no predicted samples. Use `zero_division` parameter to control this behavior.\n",
      "  _warn_prf(average, modifier, msg_start, len(result))\n",
      "C:\\Users\\lukez\\anaconda3\\envs\\ComputerVision\\lib\\site-packages\\sklearn\\metrics\\_classification.py:1471: UndefinedMetricWarning: Precision and F-score are ill-defined and being set to 0.0 in labels with no predicted samples. Use `zero_division` parameter to control this behavior.\n",
      "  _warn_prf(average, modifier, msg_start, len(result))\n"
     ]
    }
   ],
   "source": [
    "y_pred_xgb10 = np.rint(y_pred_xgb2)\n",
    "y_test10 = np.rint(y_test)\n",
    "print(classification_report(y_test10, y_pred_xgb10))"
   ]
  },
  {
   "cell_type": "code",
   "execution_count": 83,
   "id": "c53b1cba",
   "metadata": {},
   "outputs": [
    {
     "name": "stdout",
     "output_type": "stream",
     "text": [
      "SRV MAE 0.6728765100944699\n",
      "SRV MSE 1.1632487104492253\n"
     ]
    }
   ],
   "source": [
    "# Build a xgb regression model and train it on (X_train, y_train)\n",
    "xgb_reg3 = XGBRegressor(objective ='reg:squarederror', scale_pos_weight = 5)\n",
    "xgb_reg3.fit(X_train, y_train)\n",
    "\n",
    "# Test xgb_reg\n",
    "y_pred_xgb3 = xgb_reg3.predict(X_test)\n",
    "\n",
    "\n",
    "mae_xgb3 = mean_absolute_error(y_test, y_pred_xgb3)\n",
    "print('SRV MAE', mae_xgb3)\n",
    "\n",
    "mse_xgb3 = mean_squared_error(y_test, y_pred_xgb3)\n",
    "print('SRV MSE', mse_xgb3)"
   ]
  },
  {
   "cell_type": "code",
   "execution_count": 84,
   "id": "26519247",
   "metadata": {},
   "outputs": [
    {
     "name": "stdout",
     "output_type": "stream",
     "text": [
      "              precision    recall  f1-score   support\n",
      "\n",
      "         0.0       0.00      0.00      0.00         6\n",
      "         1.0       0.00      0.00      0.00         1\n",
      "         2.0       0.00      0.00      0.00         7\n",
      "         3.0       0.22      0.50      0.31        16\n",
      "         4.0       0.82      0.70      0.76        97\n",
      "\n",
      "    accuracy                           0.60       127\n",
      "   macro avg       0.21      0.24      0.21       127\n",
      "weighted avg       0.65      0.60      0.62       127\n",
      "\n"
     ]
    },
    {
     "name": "stderr",
     "output_type": "stream",
     "text": [
      "C:\\Users\\lukez\\anaconda3\\envs\\ComputerVision\\lib\\site-packages\\sklearn\\metrics\\_classification.py:1471: UndefinedMetricWarning: Precision and F-score are ill-defined and being set to 0.0 in labels with no predicted samples. Use `zero_division` parameter to control this behavior.\n",
      "  _warn_prf(average, modifier, msg_start, len(result))\n",
      "C:\\Users\\lukez\\anaconda3\\envs\\ComputerVision\\lib\\site-packages\\sklearn\\metrics\\_classification.py:1471: UndefinedMetricWarning: Precision and F-score are ill-defined and being set to 0.0 in labels with no predicted samples. Use `zero_division` parameter to control this behavior.\n",
      "  _warn_prf(average, modifier, msg_start, len(result))\n",
      "C:\\Users\\lukez\\anaconda3\\envs\\ComputerVision\\lib\\site-packages\\sklearn\\metrics\\_classification.py:1471: UndefinedMetricWarning: Precision and F-score are ill-defined and being set to 0.0 in labels with no predicted samples. Use `zero_division` parameter to control this behavior.\n",
      "  _warn_prf(average, modifier, msg_start, len(result))\n"
     ]
    }
   ],
   "source": [
    "y_pred_xgb10 = np.rint(y_pred_xgb3)\n",
    "y_test10 = np.rint(y_test)\n",
    "print(classification_report(y_test10, y_pred_xgb10))"
   ]
  },
  {
   "cell_type": "code",
   "execution_count": 85,
   "id": "d2960cf3",
   "metadata": {},
   "outputs": [
    {
     "name": "stdout",
     "output_type": "stream",
     "text": [
      "SRV MAE 0.7498165657670479\n",
      "SRV MSE 1.3470151541214932\n"
     ]
    }
   ],
   "source": [
    "# Build a xgb regression model and train it on (X_train, y_train)\n",
    "xgb_reg4 = XGBRegressor(objective ='reg:squarederror', scale_pos_weight = 20)\n",
    "xgb_reg4.fit(X_train, y_train)\n",
    "\n",
    "# Test xgb_reg\n",
    "y_pred_xgb4 = xgb_reg4.predict(X_test)\n",
    "\n",
    "\n",
    "mae_xgb4 = mean_absolute_error(y_test, y_pred_xgb4)\n",
    "print('SRV MAE', mae_xgb4)\n",
    "\n",
    "mse_xgb4 = mean_squared_error(y_test, y_pred_xgb4)\n",
    "print('SRV MSE', mse_xgb4)"
   ]
  },
  {
   "cell_type": "code",
   "execution_count": 86,
   "id": "725f6e3f",
   "metadata": {},
   "outputs": [
    {
     "name": "stdout",
     "output_type": "stream",
     "text": [
      "SRV MAE 0.7625838710567144\n",
      "SRV MSE 1.3939677476283798\n"
     ]
    }
   ],
   "source": [
    "# Build a xgb regression model and train it on (X_train, y_train)\n",
    "xgb_reg5 = XGBRegressor(objective ='reg:squarederror', scale_pos_weight = 25)\n",
    "xgb_reg5.fit(X_train, y_train)\n",
    "\n",
    "# Test xgb_reg\n",
    "y_pred_xgb5 = xgb_reg5.predict(X_test)\n",
    "\n",
    "\n",
    "mae_xgb5 = mean_absolute_error(y_test, y_pred_xgb5)\n",
    "print('SRV MAE', mae_xgb5)\n",
    "\n",
    "mse_xgb5 = mean_squared_error(y_test, y_pred_xgb5)\n",
    "print('SRV MSE', mse_xgb5)"
   ]
  },
  {
   "cell_type": "code",
   "execution_count": 87,
   "id": "e078a3b8",
   "metadata": {},
   "outputs": [
    {
     "name": "stdout",
     "output_type": "stream",
     "text": [
      "SRV MAE 0.7150369084726168\n",
      "SRV MSE 1.210115178366863\n"
     ]
    }
   ],
   "source": [
    "# Build a xgb regression model and train it on (X_train, y_train)\n",
    "xgb_reg4 = XGBRegressor(objective ='reg:squarederror', scale_pos_weight = 30)\n",
    "xgb_reg4.fit(X_train, y_train)\n",
    "\n",
    "# Test xgb_reg\n",
    "y_pred_xgb4 = xgb_reg4.predict(X_test)\n",
    "\n",
    "\n",
    "mae_xgb4 = mean_absolute_error(y_test, y_pred_xgb4)\n",
    "print('SRV MAE', mae_xgb4)\n",
    "\n",
    "mse_xgb4 = mean_squared_error(y_test, y_pred_xgb4)\n",
    "print('SRV MSE', mse_xgb4)"
   ]
  },
  {
   "cell_type": "code",
   "execution_count": 88,
   "id": "81fcab96",
   "metadata": {},
   "outputs": [
    {
     "name": "stdout",
     "output_type": "stream",
     "text": [
      "              precision    recall  f1-score   support\n",
      "\n",
      "         0.0       0.00      0.00      0.00         6\n",
      "         1.0       0.00      0.00      0.00         1\n",
      "         2.0       0.00      0.00      0.00         7\n",
      "         3.0       0.18      0.50      0.26        16\n",
      "         4.0       0.81      0.63      0.71        97\n",
      "\n",
      "    accuracy                           0.54       127\n",
      "   macro avg       0.20      0.23      0.19       127\n",
      "weighted avg       0.64      0.54      0.57       127\n",
      "\n"
     ]
    },
    {
     "name": "stderr",
     "output_type": "stream",
     "text": [
      "C:\\Users\\lukez\\anaconda3\\envs\\ComputerVision\\lib\\site-packages\\sklearn\\metrics\\_classification.py:1471: UndefinedMetricWarning: Precision and F-score are ill-defined and being set to 0.0 in labels with no predicted samples. Use `zero_division` parameter to control this behavior.\n",
      "  _warn_prf(average, modifier, msg_start, len(result))\n",
      "C:\\Users\\lukez\\anaconda3\\envs\\ComputerVision\\lib\\site-packages\\sklearn\\metrics\\_classification.py:1471: UndefinedMetricWarning: Precision and F-score are ill-defined and being set to 0.0 in labels with no predicted samples. Use `zero_division` parameter to control this behavior.\n",
      "  _warn_prf(average, modifier, msg_start, len(result))\n",
      "C:\\Users\\lukez\\anaconda3\\envs\\ComputerVision\\lib\\site-packages\\sklearn\\metrics\\_classification.py:1471: UndefinedMetricWarning: Precision and F-score are ill-defined and being set to 0.0 in labels with no predicted samples. Use `zero_division` parameter to control this behavior.\n",
      "  _warn_prf(average, modifier, msg_start, len(result))\n"
     ]
    }
   ],
   "source": [
    "y_pred_xgb10 = np.rint(y_pred_xgb4)\n",
    "y_test10 = np.rint(y_test)\n",
    "print(classification_report(y_test10, y_pred_xgb10))"
   ]
  },
  {
   "cell_type": "code",
   "execution_count": 89,
   "id": "b519e799",
   "metadata": {},
   "outputs": [
    {
     "name": "stdout",
     "output_type": "stream",
     "text": [
      "SRV MAE 0.6959115848766537\n",
      "SRV MSE 1.1827032717924053\n"
     ]
    }
   ],
   "source": [
    "# Build a xgb regression model and train it on (X_train, y_train)\n",
    "xgb_reg4 = XGBRegressor(objective ='reg:squarederror', scale_pos_weight = 35)\n",
    "xgb_reg4.fit(X_train, y_train)\n",
    "\n",
    "# Test xgb_reg\n",
    "y_pred_xgb4 = xgb_reg4.predict(X_test)\n",
    "\n",
    "\n",
    "mae_xgb4 = mean_absolute_error(y_test, y_pred_xgb4)\n",
    "print('SRV MAE', mae_xgb4)\n",
    "\n",
    "mse_xgb4 = mean_squared_error(y_test, y_pred_xgb4)\n",
    "print('SRV MSE', mse_xgb4)"
   ]
  },
  {
   "cell_type": "code",
   "execution_count": 90,
   "id": "3012076c",
   "metadata": {},
   "outputs": [
    {
     "name": "stdout",
     "output_type": "stream",
     "text": [
      "SRV MAE 0.7109258799102363\n",
      "SRV MSE 1.2194389228256817\n"
     ]
    }
   ],
   "source": [
    "# Build a xgb regression model and train it on (X_train, y_train)\n",
    "xgb_reg4 = XGBRegressor(objective ='reg:squarederror', scale_pos_weight = 40)\n",
    "xgb_reg4.fit(X_train, y_train)\n",
    "\n",
    "# Test xgb_reg\n",
    "y_pred_xgb4 = xgb_reg4.predict(X_test)\n",
    "\n",
    "\n",
    "mae_xgb4 = mean_absolute_error(y_test, y_pred_xgb4)\n",
    "print('SRV MAE', mae_xgb4)\n",
    "\n",
    "mse_xgb4 = mean_squared_error(y_test, y_pred_xgb4)\n",
    "print('SRV MSE', mse_xgb4)"
   ]
  },
  {
   "cell_type": "code",
   "execution_count": null,
   "id": "1ae41c32",
   "metadata": {},
   "outputs": [],
   "source": []
  },
  {
   "cell_type": "code",
   "execution_count": null,
   "id": "c6f766e5",
   "metadata": {},
   "outputs": [],
   "source": []
  },
  {
   "cell_type": "code",
   "execution_count": 91,
   "id": "444f400a",
   "metadata": {
    "scrolled": true
   },
   "outputs": [
    {
     "name": "stdout",
     "output_type": "stream",
     "text": [
      "              precision    recall  f1-score   support\n",
      "\n",
      "         0.0       0.00      0.00      0.00         6\n",
      "         1.0       0.00      0.00      0.00         1\n",
      "         2.0       0.00      0.00      0.00         7\n",
      "         3.0       0.16      0.38      0.23        16\n",
      "         4.0       0.78      0.66      0.72        97\n",
      "\n",
      "    accuracy                           0.55       127\n",
      "   macro avg       0.19      0.21      0.19       127\n",
      "weighted avg       0.62      0.55      0.57       127\n",
      "\n",
      "[[ 0  0  1  1  4]\n",
      " [ 0  0  0  0  1]\n",
      " [ 0  0  0  3  4]\n",
      " [ 0  0  1  6  9]\n",
      " [ 0  1  5 27 64]]\n"
     ]
    },
    {
     "name": "stderr",
     "output_type": "stream",
     "text": [
      "C:\\Users\\lukez\\anaconda3\\envs\\ComputerVision\\lib\\site-packages\\sklearn\\metrics\\_classification.py:1471: UndefinedMetricWarning: Precision and F-score are ill-defined and being set to 0.0 in labels with no predicted samples. Use `zero_division` parameter to control this behavior.\n",
      "  _warn_prf(average, modifier, msg_start, len(result))\n",
      "C:\\Users\\lukez\\anaconda3\\envs\\ComputerVision\\lib\\site-packages\\sklearn\\metrics\\_classification.py:1471: UndefinedMetricWarning: Precision and F-score are ill-defined and being set to 0.0 in labels with no predicted samples. Use `zero_division` parameter to control this behavior.\n",
      "  _warn_prf(average, modifier, msg_start, len(result))\n",
      "C:\\Users\\lukez\\anaconda3\\envs\\ComputerVision\\lib\\site-packages\\sklearn\\metrics\\_classification.py:1471: UndefinedMetricWarning: Precision and F-score are ill-defined and being set to 0.0 in labels with no predicted samples. Use `zero_division` parameter to control this behavior.\n",
      "  _warn_prf(average, modifier, msg_start, len(result))\n"
     ]
    }
   ],
   "source": [
    "y_pred_xgb10 = np.rint(y_pred_xgb4)\n",
    "y_test10 = np.rint(y_test)\n",
    "print(classification_report(y_test10, y_pred_xgb10))\n",
    "print(confusion_matrix(y_test10, y_pred_xgb10))"
   ]
  },
  {
   "cell_type": "code",
   "execution_count": 92,
   "id": "b1c88e41",
   "metadata": {},
   "outputs": [
    {
     "name": "stdout",
     "output_type": "stream",
     "text": [
      "[3. 4. 4. 3. 4. 4. 3. 3. 4. 3. 4. 4. 4. 4. 4. 4. 4. 2. 3. 4. 3. 4. 4. 4.\n",
      " 4. 4. 1. 4. 4. 4. 3. 3. 3. 4. 4. 4. 4. 3. 3. 3. 4. 4. 4. 4. 4. 4. 3. 4.\n",
      " 4. 4. 2. 4. 4. 4. 3. 4. 4. 2. 3. 4. 3. 3. 4. 4. 3. 4. 4. 4. 4. 4. 4. 4.\n",
      " 2. 3. 2. 4. 4. 4. 3. 4. 4. 3. 4. 3. 4. 4. 4. 4. 3. 4. 4. 4. 2. 3. 3. 4.\n",
      " 4. 3. 4. 4. 4. 4. 3. 4. 4. 4. 4. 4. 4. 4. 3. 3. 4. 4. 2. 3. 3. 3. 4. 4.\n",
      " 3. 4. 4. 3. 4. 3. 3.]\n"
     ]
    }
   ],
   "source": [
    "print(y_pred_xgb10)"
   ]
  },
  {
   "cell_type": "code",
   "execution_count": null,
   "id": "90833652",
   "metadata": {},
   "outputs": [],
   "source": []
  },
  {
   "cell_type": "code",
   "execution_count": 93,
   "id": "46a1413b",
   "metadata": {},
   "outputs": [],
   "source": [
    "from sklearn.metrics import recall_score\n",
    "from sklearn.metrics import precision_score\n",
    "from sklearn.metrics import f1_score"
   ]
  },
  {
   "cell_type": "code",
   "execution_count": 94,
   "id": "89d0ee78",
   "metadata": {},
   "outputs": [
    {
     "name": "stdout",
     "output_type": "stream",
     "text": [
      "\n",
      "mR 0.5511811023622047 \n",
      "mP 0.5511811023622047 \n",
      "MR 0.20695876288659792 \n",
      "MP 0.1885299934080422 \n",
      "mF1 0.5511811023622047 \n",
      "MF1 0.18829977864446082\n"
     ]
    },
    {
     "name": "stderr",
     "output_type": "stream",
     "text": [
      "C:\\Users\\lukez\\anaconda3\\envs\\ComputerVision\\lib\\site-packages\\sklearn\\metrics\\_classification.py:1471: UndefinedMetricWarning: Precision is ill-defined and being set to 0.0 in labels with no predicted samples. Use `zero_division` parameter to control this behavior.\n",
      "  _warn_prf(average, modifier, msg_start, len(result))\n"
     ]
    }
   ],
   "source": [
    "print(\n",
    "'\\nmR',recall_score(y_test10, y_pred_xgb10, average='micro'),'\\nmP', precision_score(y_test10, y_pred_xgb10, average='micro'),\n",
    "'\\nMR',recall_score(y_test10, y_pred_xgb10, average='macro'),'\\nMP', precision_score(y_test10, y_pred_xgb10, average='macro'),\n",
    "'\\nmF1',f1_score(y_test10, y_pred_xgb10,average='micro'),'\\nMF1', f1_score(y_test10, y_pred_xgb10,average='macro'))"
   ]
  },
  {
   "cell_type": "code",
   "execution_count": null,
   "id": "f9e169f8",
   "metadata": {},
   "outputs": [],
   "source": []
  },
  {
   "cell_type": "code",
   "execution_count": null,
   "id": "254d10ea",
   "metadata": {},
   "outputs": [],
   "source": []
  },
  {
   "cell_type": "code",
   "execution_count": 77,
   "id": "37f1d5e1",
   "metadata": {},
   "outputs": [
    {
     "name": "stdout",
     "output_type": "stream",
     "text": [
      "[4, 3, 4, 4, 3, 4, 4, 4, 4, 3, 3, 4, 4, 4, 2, 4, 4, 3, 4, 4, 4, 4, 3, 4, 3, 3, 4, 3, 4, 4, 4, 4, 4, 3, 4, 4, 3, 4, 4, 4, 4, 4, 4, 3, 4, 4, 4, 4, 2, 4, 4, 4, 4, 4, 3, 2, 3, 4, 4, 3, 4, 2, 4, 4, 4, 3, 4, 0, 4, 4, 4, 3, 4, 4, 4, 4, 3, 2, 4, 3, 4, 4, 3, 4, 0, 4, 4, 4, 4, 3, 4, 4, 4, 4, 4, 4, 4, 4, 4, 4, 4, 3, 3, 3, 4, 2, 4, 3, 4, 3, 4, 4, 3, 4, 4, 4, 4, 4, 4, 4, 4, 4, 3, 4, 2, 4, 4, 4, 4, 4, 4, 4, 3, 3, 4, 2, 4, 4, 4, 4, 4, 4, 0, 4, 4, 0, 4, 4, 4, 4, 4, 3, 4, 4, 4, 4, 4, 3, 4, 4, 4, 4, 0, 4, 4, 4, 4, 4, 4, 2, 4, 4, 4, 4, 4, 4, 4, 4, 4, 4, 4, 3, 4, 4, 4, 4, 4, 3, 4, 4, 4, 1, 4, 4, 4, 3, 4, 4, 4, 4, 4, 4, 4, 4, 4, 4, 4, 4, 2, 3, 4, 4, 4, 3, 4, 4, 3, 0, 4, 3, 4, 3, 4, 4, 1, 4, 4, 4, 0, 2, 4, 0, 4, 4, 4, 4, 4, 4, 3, 4, 4, 3, 3, 2, 3, 4, 4, 4, 4, 4, 3, 3, 3, 4, 4, 4, 4, 4, 4, 4, 4, 4, 3, 0, 4, 3, 4, 4, 3, 4, 4, 4, 4, 4, 4, 4, 3, 4, 4, 3, 4, 4, 4, 4, 4, 4, 4, 3, 4, 4, 1, 2, 4, 0, 4, 4, 4, 4, 4, 3, 4, 4, 3, 4, 4, 4, 4, 4, 3, 4, 1, 4, 0, 3, 4, 4, 4, 4, 4, 3, 4, 4, 3, 3, 3, 3, 4, 4, 4, 4, 3, 4, 3, 4, 4, 4, 4, 4, 4, 4, 4, 3, 4, 4, 4, 4, 4, 4, 3, 4, 4, 3, 4, 3, 4, 4, 4, 4, 4, 3, 3, 4, 4, 2, 4, 4, 3, 3, 4, 0, 4, 4, 4, 4, 4, 4, 3, 4, 4, 4, 4, 4, 4, 4, 4, 4, 3, 3, 4, 4, 4, 4, 3, 4, 4, 4, 3, 3, 4, 4, 4, 4, 4, 4, 4, 4, 4, 4, 4, 4, 4, 4, 4, 4, 3, 4, 4, 4, 4, 4, 2, 3, 4, 4, 4, 3, 3, 4, 4, 4, 1, 4, 4, 4, 4, 3, 4, 4, 0, 4, 4, 4, 4, 3, 4, 4, 2, 3, 4, 4, 4, 4, 4, 4, 4, 4, 4, 3, 3, 4, 4, 4, 4, 3, 4, 4, 3, 4, 3, 4, 4, 4, 4, 4, 3, 4, 4, 0, 4, 3, 0, 4, 4, 4, 4, 0, 4, 3, 4, 4, 4, 4, 4, 3, 4, 4, 3, 4, 4, 4, 4, 4, 2, 4, 4, 4, 4, 4, 3, 2, 4, 4, 4, 4, 4, 4, 4, 4, 4, 4, 0, 0, 4, 4, 4, 3, 4, 0, 4, 4, 4, 4, 3, 4, 4, 0, 3, 4, 4, 4, 4, 3, 4, 2, 4, 4, 4, 3, 4, 4, 4, 4, 4, 2, 4, 4, 4, 4, 4, 4, 4, 4, 4, 3, 3, 4, 4, 4, 3, 3, 4, 2, 4, 4, 4, 4, 4, 3, 4, 2, 3, 4, 4, 4, 4, 4, 4, 4, 3, 4, 3, 4, 4, 3, 3, 4, 4, 4, 1, 4, 4, 4, 3, 4, 3, 4, 4, 3, 3, 4, 4, 3, 4, 4, 4, 3, 4, 4, 4, 4, 4, 4, 4, 4, 4, 4, 4, 4, 4, 3, 4, 3, 3, 4]\n"
     ]
    }
   ],
   "source": [
    "print(labels)"
   ]
  },
  {
   "cell_type": "code",
   "execution_count": 46,
   "id": "168e4cfa",
   "metadata": {},
   "outputs": [],
   "source": [
    "lablesNormilized = np.divide(labels, 4)"
   ]
  },
  {
   "cell_type": "code",
   "execution_count": 50,
   "id": "dc6efe6a",
   "metadata": {},
   "outputs": [],
   "source": [
    "X_train1, X_test1, y_train1, y_test1 = train_test_split(flattened_data, lablesNormilized, test_size=0.2)"
   ]
  },
  {
   "cell_type": "code",
   "execution_count": 51,
   "id": "e552dcb2",
   "metadata": {},
   "outputs": [
    {
     "data": {
      "text/plain": [
       "(127, 2229)"
      ]
     },
     "execution_count": 51,
     "metadata": {},
     "output_type": "execute_result"
    }
   ],
   "source": [
    "X_test1.shape"
   ]
  },
  {
   "cell_type": "code",
   "execution_count": null,
   "id": "31922ea8",
   "metadata": {},
   "outputs": [],
   "source": []
  },
  {
   "cell_type": "code",
   "execution_count": null,
   "id": "7244c679",
   "metadata": {},
   "outputs": [],
   "source": []
  },
  {
   "cell_type": "code",
   "execution_count": 95,
   "id": "850579cd",
   "metadata": {},
   "outputs": [
    {
     "name": "stdout",
     "output_type": "stream",
     "text": [
      "SRV MAE 0.7109258799102363\n",
      "SRV MSE 1.2194389228256817\n"
     ]
    }
   ],
   "source": [
    "# Build a xgb regression model and train it on (X_train, y_train)\n",
    "xgb_reg4 = XGBRegressor(objective ='reg:squarederror', scale_pos_weight = 40)\n",
    "xgb_reg4.fit(X_train, y_train)\n",
    "\n",
    "# Test xgb_reg\n",
    "y_pred_xgb4 = xgb_reg4.predict(X_test)\n",
    "\n",
    "\n",
    "mae_xgb4 = mean_absolute_error(y_test, y_pred_xgb4)\n",
    "print('SRV MAE', mae_xgb4)\n",
    "\n",
    "mse_xgb4 = mean_squared_error(y_test, y_pred_xgb4)\n",
    "print('SRV MSE', mse_xgb4)"
   ]
  },
  {
   "cell_type": "code",
   "execution_count": null,
   "id": "433659cf",
   "metadata": {},
   "outputs": [],
   "source": []
  },
  {
   "cell_type": "code",
   "execution_count": null,
   "id": "6c1ab44e",
   "metadata": {},
   "outputs": [],
   "source": []
  }
 ],
 "metadata": {
  "kernelspec": {
   "display_name": "Python 3 (ipykernel)",
   "language": "python",
   "name": "python3"
  },
  "language_info": {
   "codemirror_mode": {
    "name": "ipython",
    "version": 3
   },
   "file_extension": ".py",
   "mimetype": "text/x-python",
   "name": "python",
   "nbconvert_exporter": "python",
   "pygments_lexer": "ipython3",
   "version": "3.9.18"
  }
 },
 "nbformat": 4,
 "nbformat_minor": 5
}
